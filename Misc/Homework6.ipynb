{
 "cells": [
  {
   "cell_type": "markdown",
   "id": "38d7dd7c",
   "metadata": {},
   "source": [
    "Homework 6 <br>\n",
    "Sam Odle"
   ]
  },
  {
   "cell_type": "code",
   "execution_count": 1,
   "id": "ea4a7bbf",
   "metadata": {},
   "outputs": [],
   "source": [
    "import torch\n",
    "from torchvision import datasets, transforms\n",
    "import matplotlib.pyplot as plt\n",
    "import numpy\n",
    "from torch import nn, optim\n",
    "import torch.nn.functional as F"
   ]
  },
  {
   "cell_type": "markdown",
   "id": "1f8ccc71",
   "metadata": {},
   "source": [
    "### Download the Fashion MNIST dataset\n",
    "\n",
    "And convert it into a format (a tensor) that pytorch understands. A tensor can be thought of as matrix (you get to define the dimensions).\n",
    "\n",
    "Feed the raw images and their labels into a DataLoader that will serve them up in batches to train the model."
   ]
  },
  {
   "cell_type": "code",
   "execution_count": 2,
   "id": "5eab35df",
   "metadata": {},
   "outputs": [
    {
     "name": "stdout",
     "output_type": "stream",
     "text": [
      "Downloading http://fashion-mnist.s3-website.eu-central-1.amazonaws.com/train-images-idx3-ubyte.gz\n",
      "Downloading http://fashion-mnist.s3-website.eu-central-1.amazonaws.com/train-images-idx3-ubyte.gz to /Users/samodle/.pytorch/F_MNIST_data/FashionMNIST/raw/train-images-idx3-ubyte.gz\n"
     ]
    },
    {
     "name": "stderr",
     "output_type": "stream",
     "text": [
      "11.6%IOPub message rate exceeded.\n",
      "The notebook server will temporarily stop sending output\n",
      "to the client in order to avoid crashing it.\n",
      "To change this limit, set the config variable\n",
      "`--NotebookApp.iopub_msg_rate_limit`.\n",
      "\n",
      "Current values:\n",
      "NotebookApp.iopub_msg_rate_limit=1000.0 (msgs/sec)\n",
      "NotebookApp.rate_limit_window=3.0 (secs)\n",
      "\n",
      "31.8%IOPub message rate exceeded.\n",
      "The notebook server will temporarily stop sending output\n",
      "to the client in order to avoid crashing it.\n",
      "To change this limit, set the config variable\n",
      "`--NotebookApp.iopub_msg_rate_limit`.\n",
      "\n",
      "Current values:\n",
      "NotebookApp.iopub_msg_rate_limit=1000.0 (msgs/sec)\n",
      "NotebookApp.rate_limit_window=3.0 (secs)\n",
      "\n",
      "51.3%IOPub message rate exceeded.\n",
      "The notebook server will temporarily stop sending output\n",
      "to the client in order to avoid crashing it.\n",
      "To change this limit, set the config variable\n",
      "`--NotebookApp.iopub_msg_rate_limit`.\n",
      "\n",
      "Current values:\n",
      "NotebookApp.iopub_msg_rate_limit=1000.0 (msgs/sec)\n",
      "NotebookApp.rate_limit_window=3.0 (secs)\n",
      "\n",
      "71.2%IOPub message rate exceeded.\n",
      "The notebook server will temporarily stop sending output\n",
      "to the client in order to avoid crashing it.\n",
      "To change this limit, set the config variable\n",
      "`--NotebookApp.iopub_msg_rate_limit`.\n",
      "\n",
      "Current values:\n",
      "NotebookApp.iopub_msg_rate_limit=1000.0 (msgs/sec)\n",
      "NotebookApp.rate_limit_window=3.0 (secs)\n",
      "\n",
      "91.5%IOPub message rate exceeded.\n",
      "The notebook server will temporarily stop sending output\n",
      "to the client in order to avoid crashing it.\n",
      "To change this limit, set the config variable\n",
      "`--NotebookApp.iopub_msg_rate_limit`.\n",
      "\n",
      "Current values:\n",
      "NotebookApp.iopub_msg_rate_limit=1000.0 (msgs/sec)\n",
      "NotebookApp.rate_limit_window=3.0 (secs)\n",
      "\n",
      "100.0%\n"
     ]
    },
    {
     "name": "stdout",
     "output_type": "stream",
     "text": [
      "Extracting /Users/samodle/.pytorch/F_MNIST_data/FashionMNIST/raw/train-images-idx3-ubyte.gz to /Users/samodle/.pytorch/F_MNIST_data/FashionMNIST/raw\n",
      "\n",
      "Downloading http://fashion-mnist.s3-website.eu-central-1.amazonaws.com/train-labels-idx1-ubyte.gz\n",
      "Downloading http://fashion-mnist.s3-website.eu-central-1.amazonaws.com/train-labels-idx1-ubyte.gz to /Users/samodle/.pytorch/F_MNIST_data/FashionMNIST/raw/train-labels-idx1-ubyte.gz\n"
     ]
    },
    {
     "name": "stderr",
     "output_type": "stream",
     "text": [
      "100.6%\n"
     ]
    },
    {
     "name": "stdout",
     "output_type": "stream",
     "text": [
      "Extracting /Users/samodle/.pytorch/F_MNIST_data/FashionMNIST/raw/train-labels-idx1-ubyte.gz to /Users/samodle/.pytorch/F_MNIST_data/FashionMNIST/raw\n",
      "\n",
      "Downloading http://fashion-mnist.s3-website.eu-central-1.amazonaws.com/t10k-images-idx3-ubyte.gz\n",
      "Downloading http://fashion-mnist.s3-website.eu-central-1.amazonaws.com/t10k-images-idx3-ubyte.gz to /Users/samodle/.pytorch/F_MNIST_data/FashionMNIST/raw/t10k-images-idx3-ubyte.gz\n"
     ]
    },
    {
     "name": "stderr",
     "output_type": "stream",
     "text": [
      "68.7%IOPub message rate exceeded.\n",
      "The notebook server will temporarily stop sending output\n",
      "to the client in order to avoid crashing it.\n",
      "To change this limit, set the config variable\n",
      "`--NotebookApp.iopub_msg_rate_limit`.\n",
      "\n",
      "Current values:\n",
      "NotebookApp.iopub_msg_rate_limit=1000.0 (msgs/sec)\n",
      "NotebookApp.rate_limit_window=3.0 (secs)\n",
      "\n"
     ]
    }
   ],
   "source": [
    "# Define a transform for the data\n",
    "transform = transforms.Compose([transforms.ToTensor()])\n",
    "\n",
    "# Download and load the training data\n",
    "trainset = datasets.FashionMNIST('~/.pytorch/F_MNIST_data/', download=True, train=True, transform=transform)\n",
    "trainloader = torch.utils.data.DataLoader(trainset, batch_size=64, shuffle=True)\n",
    "\n",
    "# Download and load the test data\n",
    "testset = datasets.FashionMNIST('~/.pytorch/F_MNIST_data/', download=True, train=False, transform=transform)\n",
    "testloader = torch.utils.data.DataLoader(testset, batch_size=64, shuffle=True)"
   ]
  },
  {
   "cell_type": "markdown",
   "id": "539ed5cc",
   "metadata": {},
   "source": [
    "### View a sample image and label\n",
    "We need to reshape the tensor and feed those pixels into a display library"
   ]
  },
  {
   "cell_type": "code",
   "execution_count": 3,
   "id": "99a03498",
   "metadata": {},
   "outputs": [
    {
     "name": "stdout",
     "output_type": "stream",
     "text": [
      "Label of image tensor(6)\n",
      "(1, 28, 28)\n"
     ]
    },
    {
     "data": {
      "text/plain": "<Figure size 432x288 with 1 Axes>",
      "image/png": "[encoded data removed]"
     },
     "metadata": {
      "needs_background": "light"
     },
     "output_type": "display_data"
    }
   ],
   "source": [
    "tensor_image, label = next(iter(trainloader)) # returns a batch of images\n",
    "print(\"Label of image\", label[0])\n",
    "first_image = numpy.array(tensor_image, dtype='float')[0] # get the first image in the batch\n",
    "print(first_image.shape)\n",
    "pixels = first_image.reshape((28, 28))\n",
    "plt.imshow(pixels, cmap='gray')\n",
    "plt.show()"
   ]
  },
  {
   "cell_type": "markdown",
   "id": "f0fb212b",
   "metadata": {},
   "source": [
    "### Define your model\n",
    "We will have three hidden layers, an input later, and then an output layer. All nodes are Linear nodes (using linear activation).\n",
    "\n",
    "The input layer takes 784 == 28x28 features, corresponding to our greyscale input images.\n",
    "The three hidden layers have 256, 128, and 64 neurons respectively; each previous layer's neurons all feed into each neuron in the next layer (\"fully connected\").\n",
    "The final layer has ten neurons, one representing each of the ten possible classes for this model.\n",
    "\n",
    "Under the forward method, we define the activation function for each later: we're using ReLu for all the hidden layers. In the last layer, we're switching to softmax so we can get the probabilities for each class."
   ]
  },
  {
   "cell_type": "code",
   "execution_count": 4,
   "id": "6335f4cf",
   "metadata": {},
   "outputs": [],
   "source": [
    "# Define your network architecture here\n",
    "class Classifier(nn.Module):\n",
    "    def __init__(self):\n",
    "        super().__init__()\n",
    "        self.fc1 = nn.Linear(784, 256)\n",
    "        self.fc2 = nn.Linear(256, 128)\n",
    "        self.fc3 = nn.Linear(128, 64)\n",
    "        self.fc4 = nn.Linear(64, 10)\n",
    "        \n",
    "    def forward(self, x):\n",
    "        # make sure input tensor is flattened\n",
    "        x = x.view(x.shape[0], -1) # -1 means we'll let the computer figure out how many rows to include\n",
    "        \n",
    "        x = F.relu(self.fc1(x))\n",
    "        x = F.relu(self.fc2(x))\n",
    "        x = F.relu(self.fc3(x))\n",
    "        x = F.softmax(self.fc4(x), dim=1)\n",
    "        \n",
    "        return x"
   ]
  },
  {
   "cell_type": "markdown",
   "id": "644bef2c",
   "metadata": {},
   "source": [
    "### Training the model\n",
    "We choose a learning rate (lr) and some number of epochs, with the goal that the loss is going down each epoch until model convergence on the minimum loss (estimated)."
   ]
  },
  {
   "cell_type": "code",
   "execution_count": 40,
   "id": "7651a943",
   "metadata": {},
   "outputs": [
    {
     "name": "stdout",
     "output_type": "stream",
     "text": [
      "In epoch 0\n",
      "\tTraining loss: 1.8687759175229428\n",
      "In epoch 1\n",
      "\tTraining loss: 1.7347458057057883\n",
      "In epoch 2\n",
      "\tTraining loss: 1.7260644289730454\n",
      "In epoch 3\n",
      "\tTraining loss: 1.722333353465554\n",
      "In epoch 4\n",
      "\tTraining loss: 1.6928342457519157\n",
      "In epoch 5\n",
      "\tTraining loss: 1.6837520307061007\n",
      "In epoch 6\n",
      "\tTraining loss: 1.6762444464636763\n",
      "In epoch 7\n",
      "\tTraining loss: 1.6737940480459983\n",
      "In epoch 8\n",
      "\tTraining loss: 1.670207276654396\n",
      "In epoch 9\n",
      "\tTraining loss: 1.6684166363307409\n",
      "In epoch 10\n",
      "\tTraining loss: 1.6669433067348212\n",
      "In epoch 11\n",
      "\tTraining loss: 1.6676799194899194\n",
      "In epoch 12\n",
      "\tTraining loss: 1.664239117458685\n",
      "In epoch 13\n",
      "\tTraining loss: 1.6618965090210758\n",
      "In epoch 14\n",
      "\tTraining loss: 1.660264431413557\n"
     ]
    }
   ],
   "source": [
    "# store train and validation loss in separate arrays, one for each epoch, and graph this!! be careful about eval vs train mode\n",
    "\n",
    "# Create the custom network above, define the loss criterion, and choose an optimizer to learn weights\n",
    "model = Classifier()\n",
    "loss_criterion = nn.CrossEntropyLoss()\n",
    "optimizer = optim.SGD(model.parameters(), lr=0.4)\n",
    "\n",
    "# Train the network here\n",
    "epochs = 15\n",
    "\n",
    "for e in range(epochs):\n",
    "    print(\"In epoch\", e)\n",
    "    running_loss = 0\n",
    "    for images, labels in trainloader: # processing one batch at a time\n",
    "        predictions = model(images) # predict labels\n",
    "        loss = loss_criterion(predictions, labels) # calculate the loss\n",
    "        \n",
    "        # BACK PROPAGATION OF LOSS to generate updated weights\n",
    "        optimizer.zero_grad() # pytorch accumulates gradients from previous backwards\n",
    "                              # passes by default -- we want to zero them out;\n",
    "                              # you can read online why they have this implementation choice\n",
    "        loss.backward() # compute gradients by using the predictions' grad_fn\n",
    "                        # that was passed to loss_criterion() above -- this is how it\n",
    "                        # knows what model parameters need updating eventually\n",
    "                        # (this is confusing IMO and not obvious to those used to OOP)\n",
    "        optimizer.step() # using gradients just calculated for model parameters, \n",
    "                         # update the weights via the optimizer (which was init with those \n",
    "                         # model parameters)\n",
    "        \n",
    "        running_loss += loss.item()\n",
    "    print(f\"\\tTraining loss: {running_loss/len(trainloader)}\")"
   ]
  },
  {
   "cell_type": "markdown",
   "id": "381fef4d",
   "metadata": {},
   "source": [
    "### Making predictions\n",
    "Once we've trained the model, we can grab an image and pull out information about its predicted class."
   ]
  },
  {
   "cell_type": "code",
   "execution_count": 38,
   "id": "63311c66",
   "metadata": {},
   "outputs": [
    {
     "name": "stdout",
     "output_type": "stream",
     "text": [
      "Target label of image:  tensor(8)\n",
      "(1, 28, 28)\n"
     ]
    },
    {
     "data": {
      "text/plain": "<Figure size 432x288 with 1 Axes>",
      "image/png": "[encoded data removed]"
     },
     "metadata": {
      "needs_background": "light"
     },
     "output_type": "display_data"
    },
    {
     "name": "stdout",
     "output_type": "stream",
     "text": [
      "tensor([[1.8244e-10, 8.7632e-29, 1.4679e-12, 6.6328e-18, 1.2958e-15, 4.4984e-11,\n",
      "         8.2767e-18, 4.9117e-30, 1.0000e+00, 7.5048e-30]],\n",
      "       grad_fn=<SoftmaxBackward>)\n",
      "max_prob 1.0\n",
      "Predicted label:  8\n",
      "Target label:  8\n",
      "Successful prediction!\n"
     ]
    }
   ],
   "source": [
    "# Test the trained model\n",
    "tensor_image, label = next(iter(testloader)) # returns a batch of images\n",
    "print(\"Target label of image: \", label[0])\n",
    "first_image = numpy.array(tensor_image, dtype='float')[0] # get the first image in the batch\n",
    "print(first_image.shape)\n",
    "pixels = first_image.reshape((28, 28))\n",
    "plt.imshow(pixels, cmap='gray')\n",
    "plt.show()\n",
    "\n",
    "prediction = model(tensor_image[0])\n",
    "print(prediction)\n",
    "prediction = prediction.detach().numpy()\n",
    "max_prob = max(list(numpy.array(prediction)[0]))\n",
    "print('max_prob', max_prob)\n",
    "predicted_label = list(prediction[0]).index(max_prob)\n",
    "print(\"Predicted label: \", predicted_label)\n",
    "\n",
    "tgt_lbl = label[0].item()\n",
    "print(\"Target label: \", tgt_lbl)\n",
    "\n",
    "if tgt_lbl == predicted_label:\n",
    "    print(\"Successful prediction!\")\n",
    "else:\n",
    "    print(\"Not quite...\")"
   ]
  },
  {
   "cell_type": "markdown",
   "source": [
    "### Accuracy for each batch"
   ],
   "metadata": {
    "collapsed": false
   }
  },
  {
   "cell_type": "code",
   "execution_count": 46,
   "outputs": [
    {
     "name": "stdout",
     "output_type": "stream",
     "text": [
      "++326+++6+2+++++++6+++++0++++6+++++++++++2++++9+0++6+++++++++6++\n",
      "Accuracy: 79.69% for 64 images.\n"
     ]
    }
   ],
   "source": [
    "# Test the trained model\n",
    "tensor_image, label = next(iter(testloader)) # returns a batch of images\n",
    "\n",
    "correct = 0\n",
    "incorrect = 0\n",
    "\n",
    "for i in range(len(label.tolist())):\n",
    "    first_image = numpy.array(tensor_image, dtype='float')[i] # get the first image in the batch\n",
    "\n",
    "    prediction = model(tensor_image[i])\n",
    "    prediction = prediction.detach().numpy()\n",
    "    max_prob = max(list(numpy.array(prediction)[0]))\n",
    "    predicted_label = list(prediction[0]).index(max_prob)\n",
    "\n",
    "    if label[i].item() == predicted_label:\n",
    "        correct += 1\n",
    "        print('+', end = '')\n",
    "    else:\n",
    "        incorrect += 1\n",
    "        print(predicted_label, end = '') #let's take a look at what we're missing\n",
    "\n",
    "accuracy = round(correct * 100 / (correct + incorrect), 2)\n",
    "print('')\n",
    "print(f'Accuracy: {accuracy}% for {correct + incorrect} images.')"
   ],
   "metadata": {
    "collapsed": false,
    "pycharm": {
     "name": "#%%\n"
    }
   }
  },
  {
   "cell_type": "markdown",
   "id": "f4c63d60",
   "metadata": {},
   "source": [
    "### Playground\n",
    "\n",
    "What happens when you: <br>\n",
    " <br>**1. Use a much smaller learning rate for the model?** <br>\n",
    "    Using the initial learning rate of 0.3, the model settles into a loss of ~1.7 after 7/8 epochs. <br>\n",
    "\n",
    "\n",
    "<br> <br>**2. Feed in the entire test dataset to the model, to make predictions? Could you write code to do this, and measure your model performance?** <br>"
   ]
  },
  {
   "cell_type": "code",
   "execution_count": 50,
   "outputs": [
    {
     "name": "stdout",
     "output_type": "stream",
     "text": [
      "\n",
      " 6/3"
     ]
    },
    {
     "ename": "IndexError",
     "evalue": "index 1 is out of bounds for axis 0 with size 1",
     "output_type": "error",
     "traceback": [
      "\u001B[0;31m---------------------------------------------------------------------------\u001B[0m",
      "\u001B[0;31mIndexError\u001B[0m                                Traceback (most recent call last)",
      "\u001B[0;32m/var/folders/1x/4x80xl_91011ffsxqybphcj40000gn/T/ipykernel_79070/2733187376.py\u001B[0m in \u001B[0;36m<module>\u001B[0;34m\u001B[0m\n\u001B[1;32m     12\u001B[0m         \u001B[0mprediction\u001B[0m \u001B[0;34m=\u001B[0m \u001B[0mmodel\u001B[0m\u001B[0;34m(\u001B[0m\u001B[0mimagesX\u001B[0m\u001B[0;34m[\u001B[0m\u001B[0mi\u001B[0m\u001B[0;34m]\u001B[0m\u001B[0;34m)\u001B[0m\u001B[0;34m\u001B[0m\u001B[0;34m\u001B[0m\u001B[0m\n\u001B[1;32m     13\u001B[0m         \u001B[0mprediction\u001B[0m \u001B[0;34m=\u001B[0m \u001B[0mprediction\u001B[0m\u001B[0;34m.\u001B[0m\u001B[0mdetach\u001B[0m\u001B[0;34m(\u001B[0m\u001B[0;34m)\u001B[0m\u001B[0;34m.\u001B[0m\u001B[0mnumpy\u001B[0m\u001B[0;34m(\u001B[0m\u001B[0;34m)\u001B[0m\u001B[0;34m\u001B[0m\u001B[0;34m\u001B[0m\u001B[0m\n\u001B[0;32m---> 14\u001B[0;31m         \u001B[0mmax_prob\u001B[0m \u001B[0;34m=\u001B[0m \u001B[0mmax\u001B[0m\u001B[0;34m(\u001B[0m\u001B[0mlist\u001B[0m\u001B[0;34m(\u001B[0m\u001B[0mnumpy\u001B[0m\u001B[0;34m.\u001B[0m\u001B[0marray\u001B[0m\u001B[0;34m(\u001B[0m\u001B[0mprediction\u001B[0m\u001B[0;34m)\u001B[0m\u001B[0;34m[\u001B[0m\u001B[0mi\u001B[0m\u001B[0;34m]\u001B[0m\u001B[0;34m)\u001B[0m\u001B[0;34m)\u001B[0m\u001B[0;34m\u001B[0m\u001B[0;34m\u001B[0m\u001B[0m\n\u001B[0m\u001B[1;32m     15\u001B[0m         \u001B[0mpredicted_label\u001B[0m \u001B[0;34m=\u001B[0m \u001B[0mlist\u001B[0m\u001B[0;34m(\u001B[0m\u001B[0mprediction\u001B[0m\u001B[0;34m[\u001B[0m\u001B[0mi\u001B[0m\u001B[0;34m]\u001B[0m\u001B[0;34m)\u001B[0m\u001B[0;34m.\u001B[0m\u001B[0mindex\u001B[0m\u001B[0;34m(\u001B[0m\u001B[0mmax_prob\u001B[0m\u001B[0;34m)\u001B[0m\u001B[0;34m\u001B[0m\u001B[0;34m\u001B[0m\u001B[0m\n\u001B[1;32m     16\u001B[0m \u001B[0;34m\u001B[0m\u001B[0m\n",
      "\u001B[0;31mIndexError\u001B[0m: index 1 is out of bounds for axis 0 with size 1"
     ]
    }
   ],
   "source": [
    "# Test on ALL the images\n",
    "#tensor_image, label = next(iter(testloader)) # returns a batch of images\n",
    "\n",
    "correct_net = 0\n",
    "incorrect_net = 0\n",
    "\n",
    "for imagesX, labelsX in testloader:\n",
    "    print('')\n",
    "    for i in range(len(labelsX.tolist())):\n",
    "        first_image = numpy.array(imagesX, dtype='float')[i] # get the ith image in the batch\n",
    "\n",
    "        prediction = model(imagesX[i])\n",
    "        prediction = prediction.detach().numpy()\n",
    "        max_prob = max(list(numpy.array(prediction)[0]))\n",
    "        predicted_label = list(prediction[0]).index(max_prob)\n",
    "\n",
    "        print(f' {label[i].item()}/{predicted_label}', end = '')\n",
    "\n",
    "        if label[i].item() == predicted_label:\n",
    "            correct_net += 1\n",
    "            #print('+', end = '')\n",
    "        else:\n",
    "            incorrect_net += 1\n",
    "            #print(predicted_label, end = '') #let's take a look at what we're missing\n",
    "\n",
    "\n",
    "accuracy_net = round(correct_net * 100 / (correct_net + incorrect_net), 2)\n",
    "print('')\n",
    "print(f'Accuracy: {accuracy_net}% for {correct_net + incorrect_net} images.')"
   ],
   "metadata": {
    "collapsed": false,
    "pycharm": {
     "name": "#%%\n"
    }
   }
  },
  {
   "cell_type": "markdown",
   "source": [
    "  <br> <br>**3. Train the model on only one epoch?** <br>"
   ],
   "metadata": {
    "collapsed": false
   }
  }
 ],
 "metadata": {
  "kernelspec": {
   "display_name": "Python 3",
   "language": "python",
   "name": "python3"
  },
  "language_info": {
   "codemirror_mode": {
    "name": "ipython",
    "version": 3
   },
   "file_extension": ".py",
   "mimetype": "text/x-python",
   "name": "python",
   "nbconvert_exporter": "python",
   "pygments_lexer": "ipython3",
   "version": "3.8.8"
  }
 },
 "nbformat": 4,
 "nbformat_minor": 5
}