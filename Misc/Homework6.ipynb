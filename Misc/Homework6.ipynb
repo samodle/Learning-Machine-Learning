{
 "cells": [
  {
   "cell_type": "markdown",
   "id": "38d7dd7c",
   "metadata": {},
   "source": [
    "Homework 6 <br>\n",
    "Sam Odle"
   ]
  },
  {
   "cell_type": "code",
   "execution_count": 37,
   "id": "ea4a7bbf",
   "metadata": {},
   "outputs": [],
   "source": [
    "import torch\n",
    "from torch.backends import cudnn\n",
    "from torchvision import datasets, transforms\n",
    "import matplotlib.pyplot as plt\n",
    "import numpy\n",
    "from torch import nn, optim\n",
    "import torch.nn.functional as F\n",
    "import random\n",
    "import warnings\n",
    "import argparse"
   ]
  },
  {
   "cell_type": "markdown",
   "source": [
    "GPU Implementation (partial)"
   ],
   "metadata": {
    "collapsed": false
   }
  },
  {
   "cell_type": "code",
   "execution_count": 38,
   "outputs": [],
   "source": [
    "if False:\n",
    "    parser = argparse.ArgumentParser(description='PyTorch Image Training')\n",
    "    args = parser.parse_args()\n",
    "\n",
    "    if args.seed is not None:\n",
    "        random.seed(args.seed)\n",
    "        torch.manual_seed(args.seed)\n",
    "        cudnn.deterministic = True\n",
    "\n",
    "    if args.gpu is not None:\n",
    "        warnings.warn('You have chosen a specific GPU. This will completely '\n",
    "                          'disable data parallelism.')"
   ],
   "metadata": {
    "collapsed": false,
    "pycharm": {
     "name": "#%%\n"
    }
   }
  },
  {
   "cell_type": "markdown",
   "id": "1f8ccc71",
   "metadata": {},
   "source": [
    "### Download the Fashion MNIST dataset\n",
    "\n",
    "And convert it into a format (a tensor) that pytorch understands. A tensor can be thought of as matrix (you get to define the dimensions).\n",
    "\n",
    "Feed the raw images and their labels into a DataLoader that will serve them up in batches to train the model."
   ]
  },
  {
   "cell_type": "code",
   "execution_count": 39,
   "id": "5eab35df",
   "metadata": {},
   "outputs": [],
   "source": [
    "# Define a transform for the data\n",
    "transform = transforms.Compose([transforms.ToTensor()])\n",
    "\n",
    "# Download and load the training data\n",
    "trainset = datasets.FashionMNIST('~/.pytorch/F_MNIST_data/', download=True, train=True, transform=transform)\n",
    "trainloader = torch.utils.data.DataLoader(trainset, batch_size=64, shuffle=True)\n",
    "\n",
    "# Download and load the test data\n",
    "testset = datasets.FashionMNIST('~/.pytorch/F_MNIST_data/', download=True, train=False, transform=transform)\n",
    "testloader = torch.utils.data.DataLoader(testset, batch_size=64, shuffle=True)"
   ]
  },
  {
   "cell_type": "markdown",
   "id": "539ed5cc",
   "metadata": {},
   "source": [
    "### View a sample image and label\n",
    "We need to reshape the tensor and feed those pixels into a display library"
   ]
  },
  {
   "cell_type": "code",
   "execution_count": 40,
   "id": "99a03498",
   "metadata": {},
   "outputs": [
    {
     "name": "stdout",
     "output_type": "stream",
     "text": [
      "Label of image tensor(7)\n",
      "(1, 28, 28)\n"
     ]
    },
    {
     "data": {
      "text/plain": "<Figure size 432x288 with 1 Axes>",
      "image/png": "[encoded data removed]"
     },
     "metadata": {
      "needs_background": "light"
     },
     "output_type": "display_data"
    }
   ],
   "source": [
    "tensor_image, label = next(iter(trainloader)) # returns a batch of images\n",
    "print(\"Label of image\", label[0])\n",
    "first_image = numpy.array(tensor_image, dtype='float')[0] # get the first image in the batch\n",
    "print(first_image.shape)\n",
    "pixels = first_image.reshape((28, 28))\n",
    "plt.imshow(pixels, cmap='gray')\n",
    "plt.show()"
   ]
  },
  {
   "cell_type": "markdown",
   "id": "f0fb212b",
   "metadata": {},
   "source": [
    "### Define your model\n",
    "We will have three hidden layers, an input later, and then an output layer. All nodes are Linear nodes (using linear activation).\n",
    "\n",
    "The input layer takes 784 == 28x28 features, corresponding to our greyscale input images.\n",
    "The three hidden layers have 256, 128, and 64 neurons respectively; each previous layer's neurons all feed into each neuron in the next layer (\"fully connected\").\n",
    "The final layer has ten neurons, one representing each of the ten possible classes for this model.\n",
    "\n",
    "Under the forward method, we define the activation function for each later: we're using ReLu for all the hidden layers. In the last layer, we're switching to softmax so we can get the probabilities for each class."
   ]
  },
  {
   "cell_type": "code",
   "execution_count": 41,
   "id": "6335f4cf",
   "metadata": {},
   "outputs": [],
   "source": [
    "# Define your network architecture here\n",
    "class Classifier(nn.Module):\n",
    "    def __init__(self):\n",
    "        super().__init__()\n",
    "        self.fc1 = nn.Linear(784, 256)\n",
    "        self.fc2 = nn.Linear(256, 128)\n",
    "        self.fc3 = nn.Linear(128, 64)\n",
    "        self.fc4 = nn.Linear(64, 10)\n",
    "        \n",
    "    def forward(self, x):\n",
    "        # make sure input tensor is flattened\n",
    "        x = x.view(x.shape[0], -1) # -1 means we'll let the computer figure out how many rows to include\n",
    "        \n",
    "        x = F.relu(self.fc1(x))\n",
    "        x = F.relu(self.fc2(x))\n",
    "        x = F.relu(self.fc3(x))\n",
    "        x = F.softmax(self.fc4(x), dim=1)\n",
    "        \n",
    "        return x"
   ]
  },
  {
   "cell_type": "markdown",
   "id": "644bef2c",
   "metadata": {},
   "source": [
    "### Training the model\n",
    "We choose a learning rate (lr) and some number of epochs, with the goal that the loss is going down each epoch until model convergence on the minimum loss (estimated)."
   ]
  },
  {
   "cell_type": "code",
   "execution_count": 42,
   "id": "7651a943",
   "metadata": {},
   "outputs": [
    {
     "name": "stdout",
     "output_type": "stream",
     "text": [
      "In epoch 0\n",
      "\tTraining loss: 1.8586945449873837\n",
      "In epoch 1\n",
      "\tTraining loss: 1.733887351779287\n",
      "In epoch 2\n",
      "\tTraining loss: 1.7245570036139823\n",
      "In epoch 3\n",
      "\tTraining loss: 1.7197802118909384\n",
      "In epoch 4\n",
      "\tTraining loss: 1.7164582903705425\n",
      "In epoch 5\n",
      "\tTraining loss: 1.7135236094247048\n",
      "In epoch 6\n",
      "\tTraining loss: 1.7112823304082794\n",
      "In epoch 7\n",
      "\tTraining loss: 1.662313138498172\n",
      "In epoch 8\n",
      "\tTraining loss: 1.6498768985398542\n"
     ]
    }
   ],
   "source": [
    "# store train and validation loss in separate arrays, one for each epoch, and graph this!! be careful about eval vs train mode\n",
    "\n",
    "# Create the custom network above, define the loss criterion, and choose an optimizer to learn weights\n",
    "model = Classifier()\n",
    "loss_criterion = nn.CrossEntropyLoss()\n",
    "optimizer = optim.SGD(model.parameters(), lr=0.3)\n",
    "\n",
    "# Train the network here\n",
    "epochs = 9\n",
    "\n",
    "val_losses = []\n",
    "train_losses = []\n",
    "\n",
    "for e in range(epochs):\n",
    "    print(\"In epoch\", e)\n",
    "    running_loss = 0\n",
    "    for images, labels in trainloader: # processing one batch at a time\n",
    "        predictions = model(images) # predict labels\n",
    "        loss = loss_criterion(predictions, labels) # calculate the loss\n",
    "\n",
    "        if torch.cuda.is_available():\n",
    "            target = target.cuda(args.gpu, non_blocking=True)\n",
    "\n",
    "        # BACK PROPAGATION OF LOSS to generate updated weights\n",
    "        optimizer.zero_grad() # pytorch accumulates gradients from previous backwards\n",
    "                              # passes by default -- we want to zero them out;\n",
    "                              # you can read online why they have this implementation choice\n",
    "        loss.backward() # compute gradients by using the predictions' grad_fn\n",
    "                        # that was passed to loss_criterion() above -- this is how it\n",
    "                        # knows what model parameters need updating eventually\n",
    "                        # (this is confusing IMO and not obvious to those used to OOP)\n",
    "        optimizer.step() # using gradients just calculated for model parameters, \n",
    "                         # update the weights via the optimizer (which was init with those \n",
    "                         # model parameters)\n",
    "\n",
    "        running_loss += loss.item()\n",
    "\n",
    "        tensor_images_V, labels_V = next(iter(testloader)) # returns a batch of images\n",
    "        predictions_V = model(tensor_images_V) # predict labels\n",
    "        loss_V = loss_criterion(predictions_V, labels_V) # calculate the loss\n",
    "        val_losses.append(loss_V.item())\n",
    "\n",
    "        train_losses.append(loss.item())\n",
    "\n",
    "    print(f\"\\tTraining loss: {running_loss/len(trainloader)}\")"
   ]
  },
  {
   "cell_type": "markdown",
   "source": [
    "## Graph of Training & Validation Loss"
   ],
   "metadata": {
    "collapsed": false
   }
  },
  {
   "cell_type": "code",
   "execution_count": 43,
   "outputs": [
    {
     "data": {
      "text/plain": "<Figure size 720x720 with 1 Axes>",
      "image/png": "[encoded data removed]"
     },
     "metadata": {
      "needs_background": "light"
     },
     "output_type": "display_data"
    }
   ],
   "source": [
    "plt.figure(figsize=(10,15))\n",
    "plt.title(\"Training and Validation Loss\")\n",
    "plt.plot(val_losses,label=\"val\")\n",
    "plt.plot(train_losses,label=\"train\")\n",
    "plt.xlabel(\"Iterations\")\n",
    "plt.ylabel(\"Loss\")\n",
    "plt.legend()\n",
    "plt.show()\n",
    "\n"
   ],
   "metadata": {
    "collapsed": false,
    "pycharm": {
     "name": "#%%\n"
    }
   }
  },
  {
   "cell_type": "markdown",
   "id": "381fef4d",
   "metadata": {},
   "source": [
    "### Making predictions\n",
    "Once we've trained the model, we can grab an image and pull out information about its predicted class."
   ]
  },
  {
   "cell_type": "code",
   "execution_count": 44,
   "id": "63311c66",
   "metadata": {},
   "outputs": [
    {
     "name": "stdout",
     "output_type": "stream",
     "text": [
      "Target label of image:  tensor(0)\n",
      "(1, 28, 28)\n"
     ]
    },
    {
     "data": {
      "text/plain": "<Figure size 432x288 with 1 Axes>",
      "image/png": "[encoded data removed]"
     },
     "metadata": {
      "needs_background": "light"
     },
     "output_type": "display_data"
    },
    {
     "name": "stdout",
     "output_type": "stream",
     "text": [
      "tensor([[1.0000e+00, 2.5166e-27, 5.2751e-15, 7.2731e-16, 5.2009e-29, 3.0121e-27,\n",
      "         3.3228e-24, 3.3731e-33, 1.3885e-27, 5.2951e-30]],\n",
      "       grad_fn=<SoftmaxBackward>)\n",
      "max_prob 1.0\n",
      "Predicted label:  0\n",
      "Target label:  0\n",
      "Successful prediction!\n"
     ]
    }
   ],
   "source": [
    "# Test the trained model\n",
    "tensor_image, label = next(iter(testloader)) # returns a batch of images\n",
    "print(\"Target label of image: \", label[0])\n",
    "first_image = numpy.array(tensor_image, dtype='float')[0] # get the first image in the batch\n",
    "print(first_image.shape)\n",
    "pixels = first_image.reshape((28, 28))\n",
    "plt.imshow(pixels, cmap='gray')\n",
    "plt.show()\n",
    "\n",
    "prediction = model(tensor_image[0])\n",
    "print(prediction)\n",
    "prediction = prediction.detach().numpy()\n",
    "max_prob = max(list(numpy.array(prediction)[0]))\n",
    "print('max_prob', max_prob)\n",
    "predicted_label = list(prediction[0]).index(max_prob)\n",
    "print(\"Predicted label: \", predicted_label)\n",
    "\n",
    "tgt_lbl = label[0].item()\n",
    "print(\"Target label: \", tgt_lbl)\n",
    "\n",
    "if tgt_lbl == predicted_label:\n",
    "    print(\"Successful prediction!\")\n",
    "else:\n",
    "    print(\"Not quite...\")"
   ]
  },
  {
   "cell_type": "markdown",
   "source": [
    "### Accuracy for each batch"
   ],
   "metadata": {
    "collapsed": false
   }
  },
  {
   "cell_type": "code",
   "execution_count": 45,
   "outputs": [
    {
     "name": "stdout",
     "output_type": "stream",
     "text": [
      "+++4+++++++++0++++304++++++4++++++2+0++++++3+++2+++++4+7+++++7++\n",
      "Accuracy: 79.69% for 64 images.\n"
     ]
    }
   ],
   "source": [
    "# Test the trained model\n",
    "tensor_image, label = next(iter(testloader)) # returns a batch of images\n",
    "\n",
    "correct = 0\n",
    "incorrect = 0\n",
    "\n",
    "for i in range(len(label.tolist())):\n",
    "    first_image = numpy.array(tensor_image, dtype='float')[i] # get the first image in the batch\n",
    "\n",
    "    prediction = model(tensor_image[i])\n",
    "    prediction = prediction.detach().numpy()\n",
    "    max_prob = max(list(numpy.array(prediction)[0]))\n",
    "    predicted_label = list(prediction[0]).index(max_prob)\n",
    "\n",
    "    if label[i].item() == predicted_label:\n",
    "        correct += 1\n",
    "        print('+', end = '')\n",
    "    else:\n",
    "        incorrect += 1\n",
    "        print(predicted_label, end = '') #let's take a look at what we're missing\n",
    "\n",
    "accuracy = round(correct * 100 / (correct + incorrect), 2)\n",
    "print('')\n",
    "print(f'Accuracy: {accuracy}% for {correct + incorrect} images.')"
   ],
   "metadata": {
    "collapsed": false,
    "pycharm": {
     "name": "#%%\n"
    }
   }
  },
  {
   "cell_type": "markdown",
   "id": "f4c63d60",
   "metadata": {},
   "source": [
    "### Playground\n",
    "\n",
    "What happens when you: <br>\n",
    " <br>**1. Use a much smaller learning rate for the model?** <br>\n",
    "    Using the initial learning rate of 0.3, the model settles into a loss of ~1.7 after 7/8 epochs. <br>\n",
    "User larger learning rates (around 0.5), the lost evens out quicker but appears to remain more variable after the mean appears to stabilize.\n",
    "\n",
    "<br> <br>**2. Feed in the entire test dataset to the model, to make predictions? Could you write code to do this, and measure your model performance?** <br>"
   ]
  },
  {
   "cell_type": "code",
   "execution_count": 46,
   "outputs": [
    {
     "name": "stdout",
     "output_type": "stream",
     "text": [
      "\n",
      " 9/2 3/9 0/9 6/2 8/8 5/9 7/0 9/9 3/1 8/2 1/7 4/1 5/5 6/7 7/9 5/8 5/2 5/7 0/4 6/2 6/7 0/2 3/5 7/1 9/9 1/0 1/7 3/0 9/7 5/3 4/0 3/5 8/5 3/8 4/9 2/7 6/0 9/0 2/4 0/2 3/9 8/4 3/7 8/2 8/8 7/4 5/4 6/1 3/2 7/7 2/2 7/5 9/2 6/2 4/5 9/5 2/0 5/3 1/8 3/5 2/7 5/0 8/2 5/0\n",
      " 9/4 3/5 0/7 6/3 8/8 5/3 7/9 9/3 3/9 8/3 1/7 4/9 5/9 6/3 7/2 5/0 5/8 5/8 0/0 6/0 6/0 0/7 3/7 7/9 9/2 1/7 1/0 3/5 9/8 5/1 4/0 3/4 8/0 3/3 4/2 2/7 6/7 9/8 2/2 0/1 3/1 8/9 3/3 8/3 8/4 7/5 5/3 6/7 3/4 7/4 2/9 7/8 9/5 6/2 4/0 9/7 2/5 5/4 1/4 3/3 2/3 5/3 8/0 5/8\n",
      " 9/3 3/1 0/4 6/0 8/1 5/9 7/9 9/2 3/7 8/4 1/2 4/7 5/9 6/4 7/3 5/9 5/3 5/8 0/3 6/3 6/2 0/3 3/1 7/1 9/0 1/8 1/1 3/9 9/4 5/7 4/2 3/4 8/8 3/7 4/5 2/9 6/8 9/9 2/2 0/3 3/0 8/0 3/1 8/9 8/7 7/0 5/1 6/9 3/4 7/0 2/3 7/4 9/2 6/1 4/5 9/2 2/4 5/2 1/8 3/9 2/3 5/5 8/4 5/4\n",
      " 9/4 3/3 0/9 6/4 8/5 5/3 7/0 9/1 3/0 8/2 1/0 4/5 5/4 6/8 7/9 5/0 5/5 5/5 0/5 6/4 6/9 0/1 3/1 7/2 9/2 1/4 1/2 3/3 9/2 5/4 4/1 3/1 8/9 3/1 4/2 2/2 6/2 9/3 2/3 0/3 3/5 8/4 3/7 8/0 8/1 7/4 5/9 6/7 3/3 7/9 2/3 7/1 9/2 6/4 4/7 9/7 2/3 5/8 1/8 3/1 2/9 5/2 8/3 5/7\n",
      " 9/2 3/2 0/8 6/4 8/2 5/0 7/5 9/4 3/2 8/3 1/2 4/2 5/7 6/3 7/1 5/7 5/5 5/3 0/4 6/0 6/2 0/3 3/0 7/0 9/3 1/8 1/8 3/9 9/5 5/8 4/5 3/8 8/9 3/3 4/0 2/3 6/4 9/8 2/9 0/7 3/0 8/0 3/8 8/1 8/7 7/3 5/8 6/3 3/2 7/7 2/4 7/8 9/9 6/9 4/3 9/2 2/8 5/1 1/5 3/9 2/2 5/5 8/5 5/0\n",
      " 9/0 3/9 0/2 6/3 8/0 5/9 7/5 9/9 3/0 8/0 1/4 4/3 5/8 6/1 7/8 5/5 5/2 5/8 0/9 6/2 6/4 0/0 3/2 7/0 9/0 1/7 1/8 3/8 9/0 5/2 4/0 3/3 8/3 3/2 4/8 2/4 6/7 9/8 2/8 0/8 3/7 8/7 3/8 8/7 8/9 7/4 5/7 6/3 3/4 7/1 2/5 7/1 9/2 6/3 4/8 9/1 2/0 5/2 1/4 3/3 2/2 5/8 8/7 5/2\n",
      " 9/9 3/1 0/1 6/1 8/9 5/2 7/1 9/7 3/3 8/8 1/2 4/5 5/0 6/9 7/8 5/3 5/7 5/7 0/2 6/0 6/7 0/3 3/3 7/2 9/7 1/2 1/0 3/0 9/5 5/9 4/0 3/0 8/7 3/9 4/8 2/7 6/3 9/7 2/1 0/1 3/0 8/8 3/9 8/9 8/5 7/3 5/4 6/7 3/2 7/5 2/7 7/1 9/8 6/3 4/4 9/1 2/8 5/7 1/0 3/9 2/0 5/3 8/4 5/4\n",
      " 9/0 3/9 0/5 6/7 8/9 5/7 7/8 9/9 3/9 8/1 1/5 4/2 5/9 6/9 7/7 5/5 5/8 5/5 0/1 6/8 6/2 0/5 3/7 7/3 9/8 1/2 1/5 3/3 9/4 5/0 4/9 3/9 8/5 3/0 4/4 2/5 6/3 9/8 2/2 0/3 3/2 8/2 3/0 8/2 8/3 7/1 5/8 6/1 3/9 7/4 2/9 7/1 9/2 6/9 4/3 9/0 2/8 5/3 1/2 3/2 2/3 5/3 8/5 5/3\n",
      " 9/8 3/5 0/4 6/2 8/2 5/9 7/8 9/7 3/0 8/2 1/8 4/3 5/2 6/3 7/1 5/1 5/2 5/3 0/4 6/1 6/1 0/9 3/0 7/0 9/2 1/4 1/4 3/0 9/5 5/7 4/4 3/0 8/2 3/8 4/0 2/7 6/3 9/0 2/3 0/2 3/9 8/1 3/9 8/2 8/5 7/1 5/9 6/0 3/8 7/8 2/5 7/3 9/3 6/0 4/4 9/0 2/1 5/0 1/2 3/2 2/5 5/3 8/5 5/2\n",
      " 9/8 3/8 0/0 6/5 8/5 5/5 7/7 9/0 3/2 8/5 1/7 4/7 5/5 6/7 7/5 5/5 5/8 5/0 0/7 6/8 6/8 0/1 3/7 7/0 9/7 1/1 1/0 3/9 9/1 5/0 4/1 3/8 8/4 3/9 4/4 2/7 6/2 9/0 2/7 0/0 3/5 8/0 3/2 8/3 8/4 7/2 5/5 6/0 3/7 7/0 2/9 7/3 9/5 6/1 4/2 9/3 2/7 5/4 1/5 3/8 2/7 5/8 8/5 5/5\n",
      " 9/9 3/0 0/7 6/2 8/8 5/2 7/8 9/7 3/4 8/3 1/2 4/7 5/0 6/1 7/7 5/2 5/2 5/8 0/3 6/5 6/9 0/0 3/5 7/7 9/7 1/9 1/1 3/2 9/3 5/9 4/4 3/1 8/2 3/0 4/9 2/0 6/8 9/1 2/9 0/9 3/3 8/2 3/1 8/4 8/4 7/1 5/3 6/3 3/5 7/8 2/8 7/9 9/4 6/9 4/1 9/8 2/7 5/7 1/3 3/9 2/8 5/0 8/9 5/4\n",
      " 9/8 3/2 0/9 6/1 8/3 5/1 7/0 9/3 3/2 8/5 1/1 4/0 5/0 6/4 7/2 5/4 5/9 5/5 0/5 6/8 6/4 0/4 3/0 7/9 9/4 1/3 1/3 3/0 9/4 5/1 4/4 3/1 8/2 3/5 4/0 2/0 6/4 9/0 2/3 0/4 3/1 8/2 3/5 8/5 8/2 7/8 5/9 6/2 3/0 7/7 2/2 7/5 9/2 6/2 4/3 9/0 2/5 5/7 1/4 3/7 2/5 5/4 8/8 5/7\n",
      " 9/2 3/2 0/3 6/7 8/0 5/4 7/7 9/2 3/5 8/1 1/0 4/7 5/0 6/5 7/1 5/5 5/0 5/3 0/3 6/3 6/9 0/4 3/9 7/7 9/0 1/7 1/5 3/1 9/2 5/7 4/1 3/4 8/7 3/2 4/8 2/1 6/5 9/2 2/4 0/3 3/5 8/2 3/1 8/3 8/9 7/3 5/7 6/9 3/7 7/1 2/5 7/7 9/5 6/2 4/1 9/2 2/2 5/3 1/2 3/1 2/0 5/8 8/3 5/2\n",
      " 9/8 3/2 0/7 6/2 8/5 5/2 7/4 9/2 3/1 8/9 1/1 4/0 5/7 6/7 7/3 5/9 5/5 5/5 0/1 6/1 6/8 0/2 3/3 7/0 9/8 1/0 1/1 3/2 9/0 5/7 4/5 3/3 8/8 3/2 4/2 2/4 6/8 9/7 2/3 0/2 3/5 8/2 3/3 8/0 8/9 7/0 5/3 6/5 3/3 7/7 2/9 7/0 9/3 6/5 4/3 9/9 2/5 5/2 1/2 3/8 2/2 5/3 8/3 5/8\n",
      " 9/5 3/2 0/7 6/3 8/8 5/0 7/2 9/5 3/5 8/9 1/7 4/1 5/7 6/2 7/2 5/2 5/2 5/0 0/2 6/5 6/3 0/3 3/0 7/0 9/3 1/8 1/8 3/3 9/1 5/9 4/8 3/4 8/9 3/3 4/7 2/1 6/0 9/8 2/8 0/9 3/3 8/8 3/7 8/9 8/4 7/9 5/9 6/2 3/5 7/3 2/5 7/2 9/9 6/1 4/2 9/3 2/1 5/9 1/5 3/2 2/3 5/4 8/1 5/5\n",
      " 9/7 3/2 0/4 6/4 8/7 5/7 7/5 9/1 3/3 8/3 1/4 4/7 5/0 6/2 7/2 5/7 5/2 5/3 0/2 6/9 6/2 0/4 3/7 7/9 9/9 1/3 1/3 3/2 9/3 5/9 4/8 3/7 8/9 3/5 4/1 2/4 6/8 9/7 2/7 0/8 3/3 8/3 3/9 8/2 8/2 7/4 5/0 6/2 3/4 7/2 2/2 7/5 9/2 6/8 4/9 9/9 2/4 5/9 1/3 3/0 2/3 5/0 8/4 5/8\n",
      " 9/0 3/1 0/2 6/8 8/2 5/4 7/0 9/5 3/1 8/7 1/2 4/0 5/1 6/4 7/7 5/1 5/3 5/1 0/3 6/7 6/5 0/5 3/9 7/0 9/3 1/9 1/7 3/1 9/5 5/9 4/2 3/7 8/8 3/0 4/2 2/4 6/0 9/9 2/9 0/7 3/2 8/0 3/9 8/9 8/5 7/3 5/3 6/2 3/5 7/9 2/5 7/5 9/0 6/0 4/2 9/3 2/4 5/3 1/9 3/9 2/4 5/8 8/7 5/7\n",
      " 9/9 3/1 0/8 6/7 8/5 5/8 7/1 9/5 3/9 8/9 1/2 4/7 5/3 6/5 7/4 5/1 5/2 5/3 0/3 6/4 6/8 0/5 3/7 7/7 9/0 1/5 1/3 3/2 9/8 5/4 4/2 3/3 8/1 3/9 4/5 2/9 6/3 9/9 2/0 0/5 3/0 8/9 3/4 8/4 8/4 7/9 5/1 6/0 3/5 7/3 2/4 7/3 9/9 6/7 4/8 9/1 2/9 5/2 1/2 3/2 2/0 5/8 8/8 5/9\n",
      " 9/0 3/2 0/4 6/8 8/8 5/1 7/0 9/9 3/3 8/5 1/7 4/7 5/0 6/0 7/0 5/7 5/7 5/3 0/8 6/3 6/3 0/0 3/0 7/1 9/2 1/0 1/1 3/8 9/5 5/5 4/7 3/5 8/3 3/8 4/0 2/4 6/2 9/1 2/4 0/1 3/8 8/3 3/4 8/8 8/2 7/3 5/3 6/2 3/7 7/8 2/0 7/1 9/3 6/0 4/1 9/9 2/3 5/1 1/4 3/2 2/8 5/2 8/8 5/2\n",
      " 9/4 3/0 0/5 6/4 8/1 5/0 7/3 9/3 3/9 8/4 1/2 4/5 5/2 6/7 7/4 5/2 5/9 5/1 0/4 6/2 6/0 0/4 3/8 7/2 9/3 1/9 1/1 3/2 9/5 5/7 4/7 3/2 8/2 3/2 4/8 2/9 6/9 9/4 2/7 0/9 3/2 8/0 3/7 8/4 8/7 7/2 5/4 6/2 3/9 7/8 2/1 7/1 9/1 6/1 4/5 9/4 2/9 5/7 1/9 3/4 2/8 5/5 8/3 5/1\n",
      " 9/4 3/0 0/2 6/0 8/9 5/2 7/0 9/8 3/4 8/5 1/8 4/4 5/5 6/4 7/5 5/7 5/3 5/7 0/5 6/9 6/4 0/2 3/4 7/9 9/1 1/1 1/4 3/9 9/5 5/4 4/3 3/1 8/7 3/9 4/3 2/2 6/7 9/0 2/2 0/4 3/4 8/4 3/4 8/0 8/1 7/9 5/4 6/7 3/0 7/5 2/2 7/9 9/1 6/7 4/3 9/3 2/7 5/9 1/0 3/9 2/1 5/7 8/0 5/7\n",
      " 9/1 3/7 0/3 6/0 8/7 5/2 7/8 9/9 3/7 8/9 1/5 4/0 5/2 6/2 7/2 5/8 5/8 5/3 0/7 6/9 6/3 0/0 3/7 7/0 9/4 1/0 1/8 3/8 9/9 5/4 4/0 3/9 8/9 3/2 4/4 2/1 6/1 9/8 2/1 0/2 3/2 8/5 3/3 8/0 8/2 7/2 5/7 6/5 3/2 7/7 2/1 7/2 9/9 6/3 4/2 9/8 2/8 5/9 1/0 3/9 2/1 5/4 8/4 5/8\n",
      " 9/1 3/5 0/1 6/1 8/9 5/7 7/3 9/2 3/5 8/3 1/5 4/8 5/9 6/0 7/2 5/0 5/5 5/5 0/1 6/8 6/2 0/3 3/4 7/5 9/1 1/5 1/5 3/9 9/0 5/2 4/1 3/2 8/8 3/8 4/1 2/8 6/1 9/5 2/0 0/0 3/0 8/8 3/5 8/3 8/2 7/1 5/0 6/8 3/4 7/3 2/4 7/9 9/8 6/7 4/8 9/2 2/7 5/8 1/2 3/2 2/0 5/3 8/9 5/8\n",
      " 9/2 3/7 0/2 6/5 8/0 5/2 7/2 9/0 3/4 8/7 1/4 4/0 5/2 6/9 7/2 5/3 5/3 5/1 0/7 6/9 6/2 0/1 3/5 7/7 9/2 1/2 1/0 3/0 9/0 5/2 4/8 3/0 8/7 3/2 4/3 2/0 6/1 9/7 2/8 0/4 3/7 8/0 3/9 8/9 8/5 7/0 5/3 6/5 3/8 7/7 2/2 7/7 9/5 6/0 4/1 9/5 2/5 5/5 1/9 3/0 2/5 5/0 8/0 5/7\n",
      " 9/5 3/1 0/3 6/8 8/2 5/3 7/1 9/3 3/8 8/0 1/9 4/2 5/8 6/9 7/2 5/9 5/5 5/1 0/2 6/7 6/9 0/5 3/4 7/1 9/3 1/1 1/2 3/2 9/9 5/2 4/8 3/7 8/8 3/1 4/4 2/0 6/3 9/8 2/8 0/4 3/1 8/3 3/3 8/1 8/2 7/3 5/9 6/0 3/8 7/9 2/7 7/4 9/0 6/5 4/5 9/4 2/5 5/2 1/2 3/0 2/0 5/7 8/1 5/5\n",
      " 9/2 3/3 0/5 6/0 8/9 5/5 7/8 9/1 3/7 8/3 1/8 4/8 5/1 6/7 7/3 5/5 5/8 5/9 0/4 6/4 6/0 0/1 3/3 7/7 9/1 1/0 1/3 3/8 9/4 5/1 4/7 3/7 8/9 3/3 4/3 2/4 6/4 9/4 2/9 0/7 3/3 8/8 3/0 8/7 8/1 7/3 5/0 6/9 3/4 7/7 2/8 7/2 9/8 6/0 4/7 9/7 2/1 5/9 1/0 3/9 2/8 5/4 8/8 5/8\n",
      " 9/3 3/3 0/5 6/8 8/3 5/0 7/4 9/4 3/2 8/5 1/2 4/8 5/7 6/7 7/3 5/8 5/2 5/2 0/2 6/5 6/3 0/5 3/8 7/4 9/5 1/1 1/5 3/1 9/7 5/0 4/3 3/4 8/2 3/7 4/1 2/0 6/2 9/1 2/8 0/2 3/2 8/4 3/9 8/7 8/3 7/5 5/8 6/2 3/8 7/4 2/7 7/4 9/0 6/5 4/3 9/4 2/2 5/5 1/0 3/0 2/5 5/4 8/5 5/1\n",
      " 9/9 3/4 0/8 6/0 8/9 5/4 7/2 9/7 3/5 8/3 1/4 4/2 5/9 6/4 7/7 5/2 5/5 5/0 0/5 6/4 6/4 0/3 3/4 7/2 9/8 1/4 1/7 3/1 9/5 5/7 4/9 3/5 8/4 3/0 4/5 2/1 6/8 9/1 2/2 0/3 3/8 8/1 3/9 8/0 8/4 7/2 5/9 6/4 3/7 7/4 2/9 7/4 9/3 6/7 4/0 9/7 2/9 5/2 1/9 3/8 2/9 5/5 8/2 5/9\n",
      " 9/3 3/5 0/1 6/4 8/8 5/0 7/2 9/9 3/5 8/2 1/3 4/2 5/9 6/8 7/8 5/5 5/0 5/1 0/2 6/8 6/8 0/7 3/4 7/9 9/2 1/1 1/7 3/1 9/8 5/9 4/9 3/5 8/1 3/3 4/5 2/0 6/3 9/7 2/8 0/9 3/3 8/0 3/1 8/3 8/9 7/9 5/5 6/9 3/4 7/7 2/7 7/9 9/0 6/7 4/0 9/8 2/0 5/5 1/4 3/0 2/9 5/0 8/5 5/8\n",
      " 9/8 3/5 0/9 6/8 8/9 5/4 7/7 9/0 3/2 8/9 1/8 4/7 5/3 6/9 7/0 5/7 5/1 5/2 0/7 6/4 6/9 0/9 3/3 7/0 9/2 1/3 1/3 3/2 9/3 5/0 4/3 3/7 8/0 3/7 4/0 2/7 6/3 9/3 2/8 0/8 3/2 8/9 3/0 8/0 8/3 7/0 5/4 6/9 3/7 7/2 2/5 7/4 9/2 6/4 4/3 9/0 2/3 5/1 1/3 3/7 2/8 5/9 8/1 5/2\n",
      " 9/2 3/2 0/3 6/4 8/0 5/2 7/9 9/7 3/3 8/4 1/7 4/2 5/7 6/7 7/9 5/3 5/8 5/1 0/8 6/4 6/5 0/8 3/3 7/9 9/9 1/2 1/1 3/3 9/1 5/9 4/8 3/0 8/1 3/1 4/4 2/2 6/8 9/7 2/8 0/7 3/1 8/4 3/7 8/0 8/2 7/4 5/0 6/0 3/0 7/9 2/2 7/7 9/3 6/3 4/2 9/0 2/1 5/4 1/1 3/3 2/0 5/4 8/5 5/4\n",
      " 9/2 3/2 0/2 6/8 8/3 5/9 7/3 9/5 3/3 8/1 1/2 4/0 5/0 6/8 7/3 5/2 5/9 5/1 0/0 6/4 6/1 0/3 3/2 7/3 9/3 1/9 1/0 3/2 9/5 5/9 4/2 3/2 8/4 3/7 4/3 2/2 6/8 9/9 2/4 0/9 3/5 8/3 3/5 8/1 8/3 7/9 5/8 6/4 3/0 7/1 2/1 7/1 9/4 6/3 4/4 9/2 2/5 5/2 1/2 3/0 2/5 5/3 8/9 5/8\n",
      " 9/7 3/8 0/7 6/7 8/3 5/2 7/0 9/7 3/2 8/0 1/8 4/9 5/9 6/2 7/7 5/4 5/3 5/9 0/3 6/4 6/0 0/9 3/4 7/9 9/7 1/5 1/4 3/7 9/3 5/9 4/7 3/8 8/8 3/4 4/1 2/9 6/4 9/3 2/3 0/0 3/9 8/8 3/1 8/2 8/2 7/9 5/0 6/4 3/0 7/4 2/0 7/7 9/3 6/9 4/8 9/3 2/3 5/1 1/4 3/7 2/3 5/7 8/3 5/4\n",
      " 9/2 3/3 0/8 6/0 8/0 5/0 7/3 9/8 3/3 8/2 1/4 4/1 5/0 6/4 7/7 5/2 5/1 5/8 0/2 6/9 6/9 0/5 3/3 7/1 9/7 1/2 1/0 3/2 9/4 5/3 4/1 3/7 8/8 3/0 4/2 2/3 6/5 9/3 2/4 0/8 3/0 8/1 3/3 8/4 8/2 7/8 5/2 6/4 3/3 7/4 2/8 7/9 9/0 6/3 4/0 9/4 2/4 5/7 1/9 3/9 2/1 5/7 8/0 5/0\n",
      " 9/0 3/7 0/9 6/5 8/9 5/9 7/9 9/7 3/4 8/4 1/9 4/5 5/4 6/2 7/5 5/3 5/7 5/2 0/1 6/3 6/9 0/9 3/8 7/4 9/0 1/7 1/4 3/3 9/0 5/5 4/8 3/0 8/0 3/5 4/8 2/7 6/1 9/3 2/9 0/4 3/3 8/7 3/4 8/7 8/0 7/2 5/9 6/2 3/4 7/7 2/7 7/3 9/9 6/4 4/4 9/0 2/2 5/2 1/2 3/3 2/0 5/8 8/0 5/5\n",
      " 9/2 3/5 0/0 6/1 8/7 5/2 7/2 9/0 3/4 8/8 1/0 4/2 5/9 6/7 7/1 5/1 5/2 5/0 0/0 6/2 6/9 0/4 3/4 7/3 9/8 1/0 1/0 3/5 9/2 5/1 4/2 3/1 8/8 3/4 4/4 2/9 6/5 9/1 2/0 0/3 3/7 8/5 3/3 8/0 8/0 7/9 5/2 6/0 3/8 7/0 2/4 7/1 9/8 6/0 4/5 9/4 2/5 5/2 1/3 3/1 2/7 5/3 8/2 5/7\n",
      " 9/2 3/0 0/2 6/5 8/9 5/4 7/1 9/9 3/2 8/7 1/1 4/1 5/5 6/4 7/7 5/2 5/3 5/8 0/5 6/3 6/5 0/8 3/3 7/2 9/1 1/1 1/9 3/3 9/9 5/9 4/8 3/4 8/0 3/0 4/8 2/1 6/2 9/1 2/2 0/7 3/1 8/2 3/4 8/3 8/5 7/9 5/4 6/0 3/3 7/4 2/4 7/7 9/3 6/3 4/1 9/3 2/4 5/3 1/7 3/7 2/5 5/1 8/7 5/2\n",
      " 9/5 3/8 0/4 6/0 8/4 5/0 7/0 9/9 3/9 8/9 1/5 4/2 5/2 6/4 7/7 5/1 5/1 5/5 0/3 6/0 6/9 0/4 3/5 7/5 9/1 1/0 1/5 3/7 9/5 5/5 4/1 3/7 8/0 3/2 4/3 2/8 6/4 9/2 2/7 0/4 3/8 8/4 3/3 8/4 8/2 7/8 5/3 6/4 3/8 7/3 2/0 7/1 9/8 6/2 4/2 9/5 2/0 5/0 1/7 3/9 2/3 5/8 8/3 5/1\n",
      " 9/4 3/7 0/8 6/0 8/0 5/0 7/5 9/1 3/7 8/4 1/7 4/4 5/0 6/0 7/0 5/2 5/0 5/2 0/3 6/8 6/9 0/8 3/5 7/7 9/4 1/1 1/8 3/8 9/8 5/9 4/0 3/9 8/7 3/5 4/5 2/9 6/2 9/7 2/8 0/3 3/9 8/8 3/7 8/2 8/2 7/2 5/1 6/3 3/2 7/4 2/3 7/7 9/3 6/1 4/2 9/0 2/5 5/3 1/3 3/0 2/2 5/3 8/5 5/5\n",
      " 9/9 3/9 0/9 6/0 8/2 5/7 7/7 9/4 3/2 8/0 1/4 4/9 5/0 6/8 7/3 5/9 5/5 5/1 0/0 6/7 6/0 0/8 3/7 7/8 9/8 1/0 1/3 3/3 9/8 5/8 4/2 3/9 8/8 3/2 4/8 2/2 6/3 9/4 2/7 0/3 3/4 8/5 3/5 8/0 8/5 7/5 5/2 6/9 3/3 7/0 2/1 7/8 9/7 6/1 4/9 9/0 2/3 5/0 1/1 3/2 2/7 5/3 8/0 5/4\n",
      " 9/0 3/9 0/9 6/9 8/5 5/8 7/0 9/2 3/0 8/2 1/9 4/8 5/2 6/0 7/2 5/9 5/5 5/0 0/3 6/0 6/8 0/7 3/4 7/4 9/3 1/2 1/8 3/0 9/7 5/2 4/4 3/2 8/4 3/0 4/3 2/1 6/2 9/8 2/2 0/7 3/1 8/7 3/4 8/8 8/9 7/0 5/8 6/9 3/9 7/1 2/9 7/2 9/5 6/9 4/2 9/7 2/0 5/9 1/9 3/4 2/2 5/3 8/1 5/5\n",
      " 9/2 3/8 0/9 6/0 8/0 5/4 7/9 9/9 3/2 8/2 1/0 4/5 5/4 6/1 7/9 5/1 5/2 5/5 0/9 6/8 6/4 0/8 3/0 7/1 9/1 1/2 1/7 3/7 9/1 5/1 4/9 3/0 8/1 3/2 4/7 2/7 6/4 9/2 2/0 0/1 3/8 8/8 3/9 8/8 8/0 7/0 5/2 6/7 3/3 7/2 2/3 7/8 9/9 6/3 4/2 9/8 2/8 5/0 1/3 3/4 2/1 5/1 8/0 5/2\n",
      " 9/7 3/5 0/8 6/4 8/2 5/3 7/9 9/0 3/7 8/1 1/5 4/1 5/2 6/8 7/5 5/9 5/0 5/3 0/7 6/0 6/0 0/2 3/5 7/0 9/2 1/9 1/7 3/4 9/7 5/5 4/9 3/3 8/3 3/8 4/8 2/2 6/3 9/5 2/1 0/1 3/3 8/1 3/2 8/2 8/4 7/8 5/3 6/3 3/3 7/8 2/3 7/2 9/8 6/2 4/8 9/4 2/8 5/5 1/3 3/1 2/7 5/3 8/9 5/3\n",
      " 9/3 3/7 0/9 6/2 8/8 5/9 7/2 9/3 3/3 8/8 1/3 4/2 5/7 6/0 7/3 5/0 5/8 5/7 0/9 6/3 6/1 0/7 3/7 7/8 9/4 1/3 1/0 3/3 9/1 5/3 4/5 3/4 8/8 3/5 4/2 2/2 6/5 9/5 2/9 0/7 3/1 8/0 3/0 8/7 8/8 7/9 5/5 6/7 3/4 7/2 2/7 7/7 9/7 6/2 4/9 9/8 2/1 5/4 1/4 3/1 2/1 5/1 8/4 5/0\n",
      " 9/3 3/3 0/2 6/3 8/0 5/3 7/8 9/0 3/0 8/9 1/2 4/2 5/7 6/8 7/2 5/7 5/8 5/5 0/0 6/8 6/0 0/2 3/2 7/2 9/3 1/9 1/1 3/0 9/0 5/0 4/2 3/9 8/2 3/1 4/0 2/2 6/4 9/2 2/4 0/3 3/9 8/7 3/4 8/8 8/3 7/4 5/0 6/9 3/4 7/3 2/1 7/8 9/8 6/2 4/8 9/2 2/3 5/2 1/3 3/2 2/4 5/3 8/7 5/3\n",
      " 9/1 3/8 0/0 6/2 8/5 5/8 7/3 9/2 3/8 8/5 1/3 4/9 5/4 6/1 7/0 5/1 5/9 5/0 0/8 6/3 6/3 0/8 3/2 7/3 9/5 1/9 1/9 3/1 9/9 5/2 4/0 3/4 8/3 3/3 4/0 2/3 6/0 9/5 2/3 0/0 3/3 8/3 3/1 8/1 8/1 7/2 5/0 6/8 3/3 7/2 2/3 7/3 9/9 6/3 4/1 9/0 2/1 5/3 1/3 3/2 2/9 5/4 8/9 5/5\n",
      " 9/1 3/7 0/4 6/8 8/9 5/7 7/2 9/1 3/2 8/8 1/5 4/9 5/7 6/3 7/9 5/3 5/2 5/4 0/7 6/0 6/0 0/9 3/9 7/9 9/5 1/0 1/8 3/2 9/1 5/0 4/1 3/3 8/7 3/4 4/3 2/2 6/5 9/8 2/7 0/3 3/2 8/1 3/0 8/8 8/1 7/2 5/5 6/4 3/4 7/2 2/3 7/3 9/9 6/9 4/8 9/9 2/8 5/2 1/2 3/0 2/4 5/9 8/5 5/3\n",
      " 9/5 3/5 0/0 6/2 8/2 5/0 7/8 9/7 3/2 8/7 1/2 4/1 5/3 6/5 7/0 5/5 5/7 5/7 0/5 6/1 6/5 0/5 3/4 7/2 9/3 1/3 1/9 3/3 9/0 5/3 4/1 3/9 8/1 3/2 4/4 2/8 6/3 9/4 2/0 0/4 3/7 8/2 3/5 8/4 8/7 7/1 5/8 6/2 3/8 7/2 2/3 7/9 9/9 6/1 4/2 9/8 2/1 5/1 1/2 3/0 2/0 5/2 8/9 5/0\n",
      " 9/5 3/3 0/1 6/0 8/3 5/1 7/0 9/4 3/8 8/4 1/9 4/4 5/3 6/9 7/2 5/2 5/9 5/8 0/8 6/8 6/7 0/9 3/9 7/0 9/5 1/7 1/2 3/9 9/2 5/0 4/0 3/8 8/0 3/5 4/0 2/3 6/2 9/2 2/5 0/0 3/4 8/7 3/3 8/3 8/7 7/0 5/5 6/1 3/1 7/2 2/7 7/4 9/8 6/9 4/3 9/7 2/5 5/2 1/7 3/9 2/9 5/2 8/7 5/1\n",
      " 9/7 3/3 0/3 6/9 8/1 5/8 7/0 9/8 3/9 8/0 1/5 4/8 5/7 6/0 7/0 5/1 5/0 5/4 0/7 6/3 6/7 0/9 3/8 7/8 9/2 1/0 1/5 3/0 9/3 5/7 4/0 3/1 8/5 3/3 4/7 2/1 6/1 9/9 2/2 0/7 3/7 8/9 3/9 8/1 8/1 7/0 5/9 6/4 3/8 7/5 2/7 7/0 9/1 6/0 4/0 9/5 2/5 5/1 1/4 3/7 2/5 5/4 8/1 5/5\n",
      " 9/2 3/9 0/4 6/3 8/3 5/1 7/9 9/9 3/1 8/2 1/1 4/4 5/4 6/3 7/2 5/0 5/2 5/3 0/0 6/5 6/3 0/5 3/3 7/9 9/8 1/4 1/4 3/5 9/8 5/8 4/0 3/7 8/4 3/2 4/0 2/2 6/0 9/2 2/9 0/4 3/7 8/0 3/4 8/0 8/3 7/2 5/3 6/0 3/1 7/1 2/0 7/8 9/3 6/5 4/5 9/0 2/3 5/7 1/7 3/3 2/0 5/8 8/7 5/8\n",
      " 9/4 3/3 0/8 6/4 8/7 5/2 7/7 9/5 3/9 8/0 1/2 4/2 5/3 6/8 7/4 5/1 5/4 5/0 0/7 6/0 6/3 0/4 3/8 7/7 9/1 1/9 1/8 3/0 9/5 5/2 4/7 3/0 8/0 3/7 4/1 2/3 6/0 9/4 2/8 0/9 3/2 8/3 3/5 8/7 8/2 7/4 5/4 6/7 3/0 7/5 2/1 7/7 9/4 6/1 4/7 9/2 2/4 5/2 1/9 3/5 2/7 5/7 8/4 5/5\n",
      " 9/3 3/5 0/3 6/7 8/8 5/0 7/0 9/0 3/2 8/3 1/0 4/9 5/0 6/9 7/8 5/1 5/3 5/8 0/2 6/9 6/3 0/2 3/3 7/9 9/9 1/0 1/3 3/1 9/3 5/4 4/2 3/0 8/4 3/4 4/7 2/0 6/9 9/5 2/9 0/9 3/2 8/7 3/4 8/4 8/1 7/4 5/2 6/7 3/0 7/0 2/5 7/1 9/2 6/4 4/8 9/0 2/8 5/9 1/8 3/7 2/7 5/3 8/8 5/8\n",
      " 9/5 3/3 0/8 6/0 8/5 5/7 7/7 9/2 3/3 8/8 1/8 4/9 5/5 6/7 7/7 5/9 5/3 5/3 0/1 6/9 6/2 0/5 3/7 7/9 9/2 1/2 1/0 3/7 9/0 5/7 4/0 3/1 8/3 3/4 4/5 2/2 6/7 9/0 2/1 0/4 3/9 8/2 3/0 8/7 8/2 7/7 5/3 6/0 3/5 7/4 2/3 7/0 9/3 6/0 4/5 9/7 2/1 5/0 1/9 3/3 2/3 5/5 8/8 5/7\n",
      " 9/5 3/8 0/2 6/2 8/0 5/9 7/1 9/0 3/5 8/3 1/3 4/2 5/9 6/8 7/8 5/9 5/9 5/5 0/3 6/3 6/8 0/1 3/3 7/3 9/2 1/5 1/7 3/8 9/9 5/8 4/2 3/1 8/3 3/5 4/0 2/2 6/5 9/3 2/9 0/7 3/1 8/2 3/7 8/4 8/5 7/3 5/8 6/2 3/5 7/0 2/5 7/4 9/7 6/2 4/8 9/1 2/1 5/3 1/1 3/1 2/4 5/2 8/8 5/8\n",
      " 9/4 3/7 0/3 6/9 8/3 5/9 7/8 9/9 3/3 8/4 1/4 4/4 5/1 6/4 7/8 5/0 5/4 5/1 0/1 6/9 6/0 0/2 3/0 7/3 9/8 1/1 1/5 3/3 9/2 5/2 4/0 3/7 8/1 3/5 4/7 2/5 6/8 9/2 2/3 0/2 3/4 8/5 3/4 8/4 8/8 7/9 5/9 6/5 3/0 7/8 2/0 7/0 9/3 6/8 4/7 9/2 2/0 5/3 1/3 3/1 2/7 5/4 8/5 5/3\n",
      " 9/1 3/8 0/5 6/9 8/9 5/0 7/4 9/9 3/7 8/9 1/2 4/3 5/8 6/3 7/0 5/0 5/4 5/1 0/0 6/8 6/2 0/1 3/5 7/9 9/1 1/8 1/7 3/9 9/0 5/8 4/1 3/2 8/9 3/1 4/5 2/9 6/7 9/9 2/4 0/2 3/8 8/3 3/5 8/1 8/1 7/5 5/9 6/7 3/2 7/5 2/2 7/1 9/7 6/9 4/0 9/7 2/7 5/2 1/4 3/7 2/9 5/5 8/4 5/3\n",
      " 9/0 3/1 0/3 6/4 8/1 5/4 7/4 9/9 3/1 8/8 1/1 4/5 5/0 6/2 7/3 5/3 5/0 5/4 0/5 6/4 6/2 0/2 3/3 7/0 9/3 1/9 1/3 3/3 9/2 5/0 4/7 3/9 8/1 3/4 4/7 2/7 6/9 9/4 2/8 0/5 3/8 8/4 3/0 8/2 8/1 7/0 5/3 6/5 3/1 7/1 2/9 7/9 9/8 6/1 4/1 9/9 2/4 5/5 1/4 3/4 2/2 5/7 8/9 5/4\n",
      " 9/5 3/2 0/3 6/4 8/3 5/2 7/8 9/5 3/3 8/3 1/3 4/7 5/4 6/7 7/7 5/0 5/2 5/8 0/0 6/4 6/0 0/1 3/1 7/1 9/2 1/2 1/5 3/2 9/1 5/1 4/4 3/0 8/4 3/2 4/4 2/3 6/1 9/1 2/4 0/3 3/0 8/5 3/9 8/2 8/2 7/9 5/8 6/3 3/9 7/0 2/0 7/9 9/7 6/3 4/5 9/0 2/0 5/3 1/4 3/0 2/8 5/4 8/8 5/7\n",
      " 9/7 3/3 0/7 6/2 8/9 5/2 7/1 9/3 3/2 8/2 1/3 4/4 5/5 6/4 7/8 5/7 5/4 5/9 0/2 6/0 6/7 0/3 3/4 7/0 9/2 1/8 1/9 3/2 9/7 5/2 4/1 3/8 8/4 3/9 4/5 2/1 6/2 9/3 2/9 0/1 3/3 8/9 3/2 8/1 8/3 7/9 5/9 6/5 3/1 7/1 2/3 7/9 9/5 6/7 4/0 9/2 2/2 5/4 1/0 3/5 2/2 5/7 8/0 5/9\n",
      " 9/0 3/2 0/2 6/3 8/2 5/7 7/0 9/7 3/2 8/8 1/3 4/7 5/9 6/4 7/3 5/4 5/3 5/8 0/9 6/1 6/5 0/4 3/1 7/5 9/2 1/9 1/1 3/2 9/7 5/0 4/2 3/1 8/0 3/7 4/0 2/2 6/3 9/3 2/2 0/4 3/4 8/3 3/8 8/0 8/3 7/4 5/3 6/0 3/5 7/8 2/0 7/1 9/2 6/9 4/8 9/2 2/9 5/0 1/4 3/8 2/8 5/2 8/8 5/5\n",
      " 9/9 3/5 0/8 6/0 8/3 5/4 7/0 9/3 3/4 8/2 1/1 4/2 5/2 6/2 7/7 5/8 5/5 5/8 0/7 6/4 6/1 0/8 3/0 7/4 9/7 1/2 1/5 3/4 9/7 5/0 4/3 3/7 8/9 3/0 4/2 2/5 6/3 9/0 2/0 0/9 3/8 8/0 3/4 8/1 8/3 7/4 5/4 6/7 3/0 7/5 2/8 7/8 9/5 6/8 4/9 9/8 2/1 5/4 1/7 3/7 2/4 5/8 8/9 5/3\n",
      " 9/8 3/0 0/3 6/0 8/2 5/3 7/0 9/3 3/2 8/7 1/2 4/4 5/0 6/7 7/0 5/3 5/0 5/4 0/3 6/9 6/5 0/5 3/3 7/0 9/7 1/0 1/1 3/7 9/9 5/0 4/2 3/9 8/5 3/5 4/0 2/8 6/3 9/7 2/0 0/0 3/8 8/5 3/4 8/1 8/3 7/1 5/1 6/9 3/1 7/7 2/7 7/4 9/4 6/7 4/7 9/0 2/4 5/9 1/3 3/4 2/2 5/9 8/7 5/0\n",
      " 9/4 3/5 0/3 6/5 8/3 5/3 7/0 9/3 3/0 8/2 1/9 4/9 5/0 6/7 7/7 5/2 5/2 5/4 0/7 6/1 6/1 0/3 3/2 7/3 9/0 1/2 1/2 3/3 9/3 5/1 4/4 3/9 8/8 3/3 4/8 2/3 6/9 9/4 2/4 0/9 3/4 8/8 3/0 8/2 8/2 7/0 5/0 6/1 3/0 7/3 2/9 7/9 9/8 6/9 4/1 9/8 2/4 5/0 1/8 3/1 2/7 5/8 8/4 5/4\n",
      " 9/9 3/0 0/7 6/1 8/2 5/3 7/8 9/2 3/1 8/1 1/9 4/8 5/7 6/2 7/3 5/0 5/9 5/8 0/8 6/7 6/7 0/2 3/2 7/8 9/7 1/7 1/5 3/1 9/9 5/3 4/3 3/7 8/8 3/3 4/3 2/4 6/8 9/5 2/4 0/4 3/1 8/7 3/3 8/5 8/3 7/5 5/4 6/8 3/5 7/4 2/9 7/5 9/9 6/7 4/0 9/7 2/2 5/1 1/0 3/1 2/0 5/8 8/3 5/1\n",
      " 9/4 3/9 0/5 6/3 8/9 5/4 7/9 9/1 3/4 8/4 1/9 4/4 5/9 6/9 7/2 5/8 5/0 5/4 0/5 6/2 6/2 0/7 3/7 7/9 9/8 1/2 1/3 3/5 9/9 5/5 4/3 3/8 8/4 3/2 4/0 2/5 6/5 9/2 2/9 0/1 3/3 8/8 3/9 8/8 8/0 7/5 5/7 6/4 3/2 7/2 2/4 7/8 9/3 6/9 4/4 9/2 2/3 5/8 1/4 3/0 2/9 5/2 8/7 5/2\n",
      " 9/3 3/7 0/9 6/9 8/8 5/7 7/2 9/9 3/4 8/9 1/1 4/0 5/7 6/3 7/5 5/1 5/7 5/4 0/3 6/0 6/2 0/7 3/0 7/8 9/1 1/9 1/3 3/9 9/3 5/8 4/0 3/5 8/4 3/5 4/8 2/3 6/3 9/3 2/3 0/0 3/7 8/0 3/7 8/4 8/7 7/0 5/3 6/7 3/5 7/1 2/4 7/8 9/4 6/7 4/2 9/4 2/0 5/2 1/7 3/9 2/2 5/7 8/2 5/1\n",
      " 9/2 3/4 0/1 6/0 8/5 5/2 7/0 9/8 3/7 8/9 1/5 4/7 5/9 6/2 7/0 5/2 5/1 5/8 0/2 6/4 6/9 0/9 3/0 7/5 9/1 1/1 1/7 3/9 9/0 5/4 4/8 3/2 8/1 3/1 4/2 2/4 6/3 9/7 2/8 0/2 3/2 8/4 3/5 8/4 8/1 7/4 5/1 6/5 3/2 7/8 2/7 7/7 9/0 6/8 4/7 9/1 2/2 5/2 1/8 3/5 2/2 5/4 8/3 5/3\n",
      " 9/8 3/0 0/4 6/5 8/1 5/2 7/8 9/4 3/8 8/3 1/2 4/0 5/8 6/2 7/2 5/2 5/2 5/3 0/9 6/2 6/0 0/2 3/4 7/3 9/2 1/0 1/8 3/3 9/1 5/2 4/1 3/7 8/3 3/7 4/0 2/8 6/3 9/9 2/7 0/2 3/3 8/2 3/0 8/9 8/7 7/3 5/3 6/0 3/3 7/4 2/9 7/3 9/8 6/0 4/3 9/8 2/5 5/2 1/8 3/8 2/8 5/7 8/5 5/0\n",
      " 9/0 3/4 0/4 6/3 8/0 5/2 7/0 9/8 3/5 8/4 1/3 4/1 5/9 6/0 7/1 5/2 5/8 5/7 0/4 6/4 6/2 0/4 3/0 7/3 9/3 1/1 1/3 3/1 9/8 5/8 4/2 3/8 8/9 3/4 4/1 2/9 6/0 9/7 2/2 0/5 3/1 8/1 3/5 8/2 8/3 7/1 5/2 6/5 3/7 7/1 2/3 7/7 9/8 6/4 4/9 9/2 2/7 5/4 1/0 3/3 2/7 5/2 8/7 5/5\n",
      " 9/4 3/3 0/9 6/5 8/9 5/7 7/0 9/1 3/4 8/9 1/3 4/0 5/5 6/7 7/9 5/0 5/3 5/0 0/1 6/8 6/1 0/5 3/4 7/4 9/8 1/0 1/7 3/3 9/0 5/0 4/8 3/9 8/7 3/2 4/2 2/3 6/8 9/0 2/1 0/4 3/9 8/3 3/1 8/2 8/4 7/2 5/7 6/2 3/1 7/7 2/5 7/7 9/3 6/9 4/7 9/7 2/3 5/7 1/4 3/0 2/8 5/5 8/7 5/9\n",
      " 9/0 3/2 0/4 6/9 8/1 5/0 7/8 9/3 3/2 8/0 1/7 4/5 5/1 6/1 7/9 5/8 5/7 5/7 0/4 6/1 6/7 0/9 3/8 7/2 9/9 1/9 1/7 3/7 9/2 5/1 4/2 3/5 8/9 3/4 4/5 2/7 6/0 9/7 2/2 0/7 3/7 8/7 3/9 8/8 8/4 7/2 5/5 6/0 3/5 7/0 2/0 7/7 9/1 6/0 4/0 9/7 2/0 5/9 1/4 3/3 2/0 5/2 8/0 5/5\n",
      " 9/7 3/8 0/4 6/9 8/7 5/2 7/7 9/8 3/7 8/9 1/9 4/1 5/1 6/7 7/9 5/1 5/1 5/5 0/7 6/2 6/5 0/0 3/5 7/2 9/0 1/7 1/7 3/2 9/8 5/0 4/2 3/4 8/5 3/0 4/2 2/1 6/1 9/5 2/2 0/1 3/0 8/1 3/0 8/2 8/3 7/1 5/2 6/4 3/3 7/3 2/3 7/3 9/0 6/7 4/3 9/2 2/9 5/9 1/2 3/3 2/2 5/9 8/4 5/8\n",
      " 9/7 3/3 0/5 6/8 8/7 5/9 7/5 9/8 3/9 8/3 1/0 4/7 5/5 6/9 7/9 5/8 5/2 5/8 0/5 6/3 6/2 0/2 3/4 7/2 9/2 1/3 1/4 3/3 9/7 5/2 4/7 3/1 8/4 3/0 4/0 2/2 6/0 9/8 2/1 0/5 3/8 8/1 3/5 8/2 8/2 7/2 5/9 6/4 3/2 7/2 2/8 7/4 9/3 6/2 4/5 9/9 2/7 5/0 1/0 3/5 2/3 5/5 8/0 5/7\n",
      " 9/2 3/3 0/2 6/5 8/2 5/3 7/4 9/0 3/8 8/4 1/2 4/2 5/8 6/9 7/9 5/7 5/0 5/1 0/8 6/2 6/2 0/9 3/5 7/7 9/5 1/5 1/3 3/2 9/7 5/8 4/3 3/9 8/9 3/8 4/9 2/8 6/8 9/8 2/3 0/8 3/2 8/3 3/8 8/3 8/9 7/0 5/4 6/2 3/7 7/5 2/8 7/7 9/9 6/0 4/2 9/2 2/5 5/0 1/0 3/5 2/4 5/0 8/2 5/2\n",
      " 9/4 3/2 0/4 6/2 8/0 5/8 7/2 9/5 3/3 8/1 1/1 4/4 5/9 6/2 7/4 5/5 5/4 5/7 0/4 6/2 6/9 0/1 3/4 7/2 9/2 1/3 1/3 3/3 9/7 5/2 4/7 3/2 8/7 3/3 4/9 2/7 6/5 9/9 2/0 0/7 3/8 8/5 3/4 8/3 8/9 7/4 5/5 6/0 3/8 7/0 2/9 7/5 9/4 6/2 4/4 9/5 2/0 5/4 1/3 3/1 2/3 5/3 8/5 5/0\n",
      " 9/5 3/4 0/0 6/9 8/8 5/7 7/8 9/3 3/4 8/2 1/9 4/0 5/2 6/7 7/9 5/0 5/1 5/1 0/9 6/7 6/3 0/2 3/9 7/9 9/8 1/3 1/0 3/1 9/5 5/3 4/1 3/2 8/9 3/9 4/1 2/1 6/0 9/2 2/9 0/3 3/5 8/8 3/3 8/4 8/2 7/5 5/3 6/3 3/9 7/5 2/4 7/2 9/8 6/3 4/0 9/8 2/3 5/8 1/5 3/5 2/1 5/5 8/8 5/3\n",
      " 9/1 3/1 0/0 6/0 8/8 5/3 7/5 9/4 3/2 8/8 1/8 4/7 5/2 6/7 7/3 5/5 5/7 5/4 0/7 6/8 6/3 0/1 3/2 7/5 9/3 1/3 1/0 3/7 9/1 5/4 4/9 3/1 8/7 3/1 4/2 2/8 6/9 9/8 2/0 0/7 3/3 8/4 3/9 8/2 8/7 7/9 5/0 6/0 3/5 7/8 2/8 7/2 9/5 6/3 4/3 9/4 2/4 5/8 1/2 3/7 2/5 5/0 8/2 5/7\n",
      " 9/8 3/2 0/5 6/8 8/1 5/7 7/3 9/4 3/7 8/2 1/7 4/2 5/1 6/3 7/5 5/7 5/1 5/5 0/8 6/2 6/5 0/1 3/8 7/7 9/7 1/4 1/7 3/2 9/2 5/9 4/3 3/4 8/4 3/3 4/3 2/5 6/9 9/1 2/1 0/2 3/1 8/7 3/2 8/1 8/3 7/3 5/8 6/2 3/2 7/3 2/8 7/3 9/2 6/0 4/1 9/1 2/3 5/2 1/4 3/4 2/8 5/3 8/8 5/0\n",
      " 9/2 3/2 0/0 6/0 8/4 5/9 7/5 9/5 3/9 8/5 1/4 4/2 5/1 6/1 7/7 5/9 5/7 5/3 0/2 6/3 6/3 0/4 3/8 7/4 9/0 1/2 1/3 3/2 9/5 5/9 4/4 3/5 8/7 3/1 4/2 2/7 6/3 9/7 2/8 0/0 3/5 8/1 3/5 8/7 8/4 7/1 5/2 6/8 3/8 7/2 2/4 7/2 9/0 6/1 4/7 9/0 2/7 5/4 1/1 3/8 2/3 5/5 8/4 5/0\n",
      " 9/2 3/1 0/9 6/5 8/1 5/1 7/0 9/8 3/1 8/4 1/5 4/7 5/4 6/4 7/7 5/3 5/4 5/4 0/3 6/0 6/1 0/3 3/2 7/7 9/1 1/5 1/5 3/9 9/3 5/2 4/4 3/0 8/2 3/8 4/9 2/2 6/3 9/1 2/3 0/0 3/8 8/8 3/2 8/7 8/1 7/2 5/0 6/3 3/5 7/3 2/8 7/2 9/8 6/7 4/2 9/5 2/0 5/0 1/4 3/0 2/4 5/0 8/8 5/2\n",
      " 9/9 3/3 0/7 6/5 8/4 5/9 7/3 9/0 3/4 8/8 1/8 4/3 5/1 6/8 7/7 5/9 5/0 5/2 0/4 6/8 6/7 0/5 3/3 7/5 9/3 1/9 1/8 3/4 9/9 5/4 4/2 3/8 8/9 3/8 4/7 2/1 6/4 9/1 2/9 0/1 3/8 8/1 3/9 8/1 8/8 7/4 5/8 6/7 3/2 7/3 2/2 7/2 9/1 6/9 4/1 9/3 2/2 5/0 1/7 3/3 2/0 5/5 8/7 5/9\n",
      " 9/9 3/9 0/2 6/4 8/1 5/1 7/7 9/7 3/0 8/3 1/3 4/2 5/2 6/2 7/4 5/4 5/4 5/0 0/0 6/8 6/9 0/2 3/2 7/8 9/4 1/0 1/0 3/3 9/4 5/2 4/9 3/1 8/0 3/2 4/4 2/2 6/3 9/0 2/8 0/5 3/0 8/1 3/2 8/0 8/2 7/0 5/0 6/8 3/8 7/1 2/7 7/8 9/0 6/9 4/4 9/9 2/8 5/8 1/5 3/4 2/7 5/3 8/4 5/9\n",
      " 9/8 3/2 0/9 6/7 8/3 5/1 7/7 9/7 3/9 8/2 1/0 4/2 5/0 6/7 7/3 5/5 5/1 5/1 0/2 6/2 6/2 0/1 3/5 7/8 9/7 1/3 1/3 3/8 9/5 5/8 4/7 3/0 8/4 3/0 4/7 2/3 6/1 9/1 2/4 0/9 3/1 8/3 3/1 8/5 8/3 7/7 5/9 6/9 3/3 7/3 2/8 7/1 9/8 6/7 4/8 9/2 2/9 5/9 1/7 3/5 2/0 5/9 8/3 5/4\n",
      " 9/0 3/1 0/1 6/5 8/1 5/8 7/3 9/9 3/7 8/2 1/8 4/8 5/5 6/0 7/3 5/3 5/3 5/2 0/1 6/2 6/3 0/3 3/7 7/4 9/1 1/9 1/7 3/7 9/4 5/5 4/3 3/4 8/3 3/3 4/7 2/4 6/8 9/7 2/7 0/3 3/8 8/3 3/9 8/5 8/1 7/9 5/4 6/7 3/2 7/9 2/1 7/2 9/3 6/5 4/2 9/9 2/1 5/3 1/7 3/3 2/1 5/4 8/1 5/0\n",
      " 9/0 3/5 0/0 6/0 8/7 5/0 7/3 9/3 3/8 8/0 1/0 4/9 5/2 6/5 7/3 5/7 5/5 5/0 0/0 6/3 6/8 0/1 3/8 7/8 9/7 1/4 1/2 3/3 9/8 5/1 4/3 3/9 8/1 3/3 4/1 2/3 6/4 9/0 2/2 0/7 3/9 8/2 3/1 8/1 8/9 7/9 5/2 6/1 3/0 7/1 2/5 7/9 9/2 6/3 4/4 9/8 2/5 5/4 1/7 3/1 2/2 5/9 8/1 5/5\n",
      " 9/0 3/1 0/5 6/2 8/5 5/8 7/2 9/4 3/3 8/0 1/7 4/8 5/1 6/9 7/8 5/3 5/5 5/3 0/2 6/3 6/3 0/4 3/0 7/0 9/8 1/5 1/8 3/7 9/3 5/3 4/0 3/0 8/1 3/9 4/5 2/3 6/3 9/8 2/3 0/3 3/4 8/1 3/0 8/1 8/3 7/7 5/9 6/3 3/8 7/1 2/7 7/1 9/4 6/7 4/2 9/8 2/4 5/2 1/5 3/0 2/5 5/1 8/5 5/9\n",
      " 9/2 3/0 0/5 6/2 8/3 5/9 7/9 9/0 3/0 8/0 1/9 4/7 5/9 6/1 7/1 5/4 5/4 5/1 0/5 6/0 6/7 0/5 3/7 7/7 9/5 1/8 1/0 3/0 9/3 5/3 4/5 3/0 8/0 3/1 4/0 2/1 6/3 9/9 2/5 0/2 3/8 8/0 3/5 8/4 8/5 7/7 5/2 6/8 3/3 7/3 2/1 7/2 9/5 6/9 4/0 9/9 2/9 5/4 1/1 3/2 2/0 5/2 8/0 5/7\n",
      " 9/8 3/7 0/8 6/8 8/2 5/1 7/1 9/2 3/3 8/9 1/9 4/8 5/0 6/9 7/7 5/2 5/8 5/8 0/3 6/0 6/4 0/0 3/8 7/2 9/9 1/3 1/3 3/5 9/8 5/2 4/2 3/9 8/2 3/3 4/9 2/8 6/4 9/2 2/1 0/0 3/4 8/4 3/8 8/3 8/4 7/2 5/8 6/4 3/1 7/0 2/4 7/9 9/5 6/7 4/7 9/9 2/3 5/2 1/4 3/2 2/7 5/5 8/0 5/4\n",
      " 9/4 3/8 0/2 6/7 8/9 5/3 7/2 9/0 3/9 8/4 1/2 4/0 5/7 6/4 7/3 5/3 5/3 5/9 0/3 6/5 6/5 0/5 3/5 7/2 9/8 1/4 1/8 3/1 9/9 5/0 4/8 3/5 8/9 3/1 4/1 2/3 6/0 9/2 2/2 0/3 3/3 8/2 3/7 8/5 8/9 7/4 5/9 6/4 3/1 7/3 2/7 7/8 9/7 6/0 4/9 9/5 2/9 5/9 1/2 3/1 2/0 5/3 8/4 5/8\n",
      " 9/5 3/8 0/3 6/1 8/9 5/0 7/4 9/4 3/3 8/3 1/3 4/1 5/0 6/2 7/4 5/5 5/0 5/2 0/7 6/9 6/0 0/3 3/8 7/8 9/5 1/3 1/7 3/8 9/7 5/7 4/1 3/3 8/1 3/4 4/4 2/1 6/0 9/3 2/1 0/8 3/0 8/3 3/8 8/0 8/8 7/2 5/4 6/5 3/3 7/4 2/4 7/0 9/0 6/7 4/3 9/9 2/7 5/7 1/0 3/0 2/4 5/8 8/1 5/7\n",
      " 9/7 3/1 0/8 6/2 8/7 5/9 7/2 9/9 3/1 8/7 1/7 4/3 5/0 6/2 7/5 5/7 5/4 5/1 0/3 6/2 6/1 0/2 3/1 7/2 9/1 1/5 1/8 3/3 9/7 5/9 4/3 3/8 8/2 3/2 4/9 2/5 6/8 9/7 2/3 0/9 3/0 8/2 3/2 8/3 8/8 7/8 5/3 6/8 3/4 7/3 2/3 7/1 9/5 6/0 4/8 9/4 2/9 5/8 1/8 3/0 2/9 5/4 8/7 5/0\n",
      " 9/7 3/3 0/4 6/2 8/5 5/3 7/5 9/4 3/2 8/0 1/5 4/9 5/5 6/1 7/7 5/5 5/2 5/2 0/2 6/0 6/5 0/0 3/9 7/7 9/0 1/8 1/7 3/8 9/9 5/9 4/7 3/2 8/2 3/8 4/2 2/3 6/1 9/2 2/2 0/7 3/7 8/7 3/8 8/4 8/2 7/2 5/2 6/3 3/7 7/2 2/0 7/2 9/7 6/8 4/2 9/5 2/1 5/0 1/0 3/3 2/9 5/8 8/2 5/4\n",
      " 9/7 3/0 0/2 6/3 8/8 5/8 7/7 9/8 3/0 8/1 1/7 4/1 5/3 6/1 7/5 5/5 5/2 5/0 0/5 6/2 6/8 0/8 3/5 7/0 9/2 1/7 1/4 3/1 9/3 5/0 4/8 3/5 8/0 3/8 4/2 2/9 6/0 9/3 2/7 0/8 3/2 8/9 3/3 8/0 8/4 7/7 5/9 6/9 3/9 7/1 2/3 7/3 9/8 6/5 4/7 9/9 2/7 5/7 1/5 3/7 2/4 5/8 8/9 5/7\n",
      " 9/2 3/0 0/1 6/5 8/3 5/9 7/3 9/4 3/4 8/0 1/8 4/7 5/9 6/2 7/0 5/3 5/8 5/9 0/1 6/9 6/4 0/0 3/4 7/0 9/9 1/3 1/3 3/3 9/5 5/4 4/3 3/5 8/0 3/9 4/8 2/9 6/1 9/4 2/3 0/4 3/2 8/2 3/9 8/7 8/8 7/9 5/4 6/9 3/3 7/0 2/7 7/8 9/2 6/0 4/4 9/2 2/4 5/8 1/5 3/4 2/0 5/4 8/8 5/9\n",
      " 9/3 3/0 0/5 6/3 8/1 5/4 7/8 9/0 3/5 8/4 1/9 4/9 5/3 6/0 7/8 5/7 5/9 5/4 0/8 6/9 6/7 0/3 3/5 7/8 9/4 1/8 1/1 3/8 9/4 5/0 4/2 3/3 8/7 3/5 4/9 2/8 6/8 9/5 2/4 0/3 3/8 8/7 3/5 8/1 8/8 7/1 5/9 6/2 3/2 7/0 2/0 7/3 9/2 6/7 4/7 9/8 2/5 5/8 1/0 3/9 2/4 5/2 8/2 5/2\n",
      " 9/5 3/7 0/8 6/2 8/5 5/3 7/4 9/1 3/8 8/0 1/2 4/5 5/2 6/3 7/0 5/9 5/8 5/0 0/0 6/7 6/8 0/8 3/0 7/8 9/5 1/1 1/2 3/1 9/0 5/3 4/9 3/8 8/8 3/1 4/2 2/0 6/7 9/8 2/2 0/4 3/2 8/1 3/2 8/2 8/9 7/2 5/4 6/2 3/2 7/5 2/8 7/7 9/9 6/1 4/0 9/1 2/1 5/0 1/3 3/9 2/9 5/0 8/4 5/9\n",
      " 9/0 3/7 0/4 6/3 8/8 5/8 7/0 9/8 3/0 8/9 1/3 4/2 5/3 6/3 7/1 5/3 5/3 5/0 0/2 6/8 6/3 0/2 3/0 7/9 9/9 1/3 1/4 3/0 9/3 5/0 4/3 3/2 8/0 3/0 4/8 2/4 6/7 9/9 2/3 0/2 3/4 8/4 3/5 8/1 8/3 7/9 5/1 6/7 3/2 7/0 2/2 7/0 9/3 6/7 4/5 9/7 2/8 5/5 1/4 3/8 2/2 5/4 8/0 5/2\n",
      " 9/2 3/2 0/2 6/7 8/2 5/5 7/3 9/1 3/2 8/7 1/4 4/8 5/4 6/2 7/7 5/4 5/5 5/2 0/3 6/8 6/4 0/8 3/7 7/2 9/0 1/4 1/5 3/3 9/5 5/1 4/4 3/2 8/4 3/9 4/0 2/4 6/0 9/9 2/3 0/0 3/2 8/1 3/3 8/3 8/7 7/7 5/8 6/4 3/0 7/1 2/3 7/0 9/7 6/0 4/8 9/4 2/3 5/0 1/8 3/2 2/4 5/3 8/4 5/7\n",
      " 9/9 3/0 0/4 6/5 8/2 5/3 7/2 9/1 3/9 8/3 1/5 4/2 5/1 6/3 7/1 5/5 5/1 5/2 0/8 6/8 6/8 0/0 3/8 7/4 9/0 1/1 1/1 3/8 9/2 5/1 4/7 3/3 8/8 3/1 4/0 2/4 6/7 9/9 2/7 0/8 3/9 8/0 3/1 8/2 8/9 7/8 5/4 6/4 3/1 7/3 2/5 7/3 9/1 6/1 4/4 9/9 2/2 5/3 1/1 3/3 2/5 5/9 8/2 5/5\n",
      " 9/9 3/3 0/9 6/7 8/2 5/7 7/1 9/3 3/4 8/1 1/8 4/2 5/7 6/2 7/9 5/1 5/2 5/7 0/2 6/9 6/7 0/8 3/7 7/5 9/3 1/9 1/9 3/0 9/2 5/3 4/4 3/4 8/2 3/8 4/8 2/7 6/8 9/3 2/0 0/5 3/1 8/5 3/2 8/0 8/1 7/2 5/3 6/2 3/3 7/2 2/4 7/3 9/7 6/0 4/3 9/2 2/3 5/2 1/9 3/8 2/3 5/7 8/1 5/2\n",
      " 9/1 3/3 0/9 6/5 8/2 5/4 7/5 9/3 3/9 8/1 1/8 4/8 5/1 6/8 7/9 5/3 5/5 5/4 0/3 6/0 6/0 0/8 3/2 7/4 9/2 1/1 1/3 3/8 9/9 5/4 4/4 3/8 8/1 3/0 4/0 2/9 6/7 9/7 2/8 0/3 3/7 8/2 3/8 8/5 8/5 7/3 5/2 6/5 3/7 7/4 2/5 7/8 9/9 6/2 4/7 9/7 2/5 5/4 1/2 3/8 2/4 5/3 8/7 5/7\n",
      " 9/9 3/7 0/4 6/0 8/7 5/7 7/9 9/5 3/2 8/1 1/3 4/9 5/4 6/0 7/5 5/8 5/2 5/4 0/9 6/8 6/3 0/1 3/3 7/8 9/8 1/4 1/2 3/7 9/0 5/1 4/2 3/7 8/8 3/2 4/7 2/5 6/9 9/7 2/5 0/5 3/2 8/9 3/8 8/4 8/4 7/0 5/8 6/1 3/5 7/5 2/5 7/5 9/0 6/5 4/9 9/5 2/1 5/4 1/3 3/4 2/1 5/2 8/2 5/5\n",
      " 9/2 3/7 0/7 6/2 8/5 5/1 7/2 9/2 3/5 8/9 1/3 4/2 5/3 6/0 7/3 5/2 5/7 5/3 0/5 6/8 6/1 0/1 3/5 7/5 9/3 1/0 1/1 3/0 9/8 5/8 4/5 3/7 8/8 3/8 4/4 2/7 6/9 9/7 2/4 0/3 3/9 8/8 3/3 8/8 8/4 7/7 5/4 6/9 3/3 7/0 2/4 7/1 9/7 6/8 4/2 9/0 2/9 5/0 1/1 3/4 2/9 5/3 8/2 5/7\n",
      " 9/2 3/2 0/4 6/4 8/4 5/0 7/1 9/4 3/7 8/2 1/2 4/4 5/8 6/9 7/9 5/5 5/8 5/2 0/9 6/2 6/4 0/7 3/5 7/9 9/2 1/0 1/5 3/1 9/2 5/7 4/0 3/3 8/3 3/9 4/5 2/1 6/3 9/7 2/9 0/7 3/3 8/8 3/2 8/9 8/4 7/1 5/0 6/5 3/8 7/5 2/3 7/0 9/3 6/2 4/0 9/3 2/2 5/3 1/1 3/2 2/2 5/8 8/5 5/2\n",
      " 9/3 3/0 0/0 6/2 8/7 5/9 7/0 9/0 3/0 8/7 1/1 4/3 5/2 6/9 7/0 5/2 5/7 5/2 0/0 6/7 6/1 0/1 3/2 7/0 9/7 1/8 1/8 3/3 9/7 5/3 4/5 3/1 8/0 3/4 4/9 2/3 6/7 9/7 2/1 0/8 3/3 8/7 3/4 8/1 8/7 7/9 5/2 6/4 3/2 7/1 2/4 7/1 9/0 6/1 4/1 9/9 2/0 5/0 1/0 3/3 2/9 5/2 8/1 5/3\n",
      " 9/5 3/2 0/0 6/4 8/7 5/4 7/8 9/1 3/1 8/5 1/4 4/2 5/5 6/0 7/0 5/9 5/4 5/2 0/1 6/7 6/3 0/3 3/1 7/4 9/2 1/0 1/4 3/8 9/3 5/9 4/7 3/1 8/0 3/3 4/0 2/0 6/8 9/8 2/8 0/9 3/4 8/8 3/1 8/3 8/2 7/3 5/7 6/8 3/9 7/1 2/2 7/3 9/2 6/8 4/0 9/8 2/3 5/3 1/3 3/7 2/3 5/8 8/0 5/0\n",
      " 9/3 3/8 0/3 6/4 8/9 5/8 7/2 9/8 3/8 8/1 1/2 4/7 5/8 6/8 7/3 5/8 5/3 5/5 0/0 6/9 6/4 0/1 3/3 7/3 9/7 1/1 1/3 3/3 9/2 5/2 4/0 3/8 8/7 3/1 4/7 2/7 6/0 9/8 2/2 0/8 3/5 8/2 3/2 8/7 8/9 7/3 5/0 6/2 3/1 7/8 2/4 7/3 9/0 6/2 4/9 9/8 2/3 5/9 1/9 3/9 2/9 5/0 8/7 5/4\n",
      " 9/8 3/2 0/5 6/7 8/9 5/5 7/4 9/7 3/2 8/4 1/5 4/9 5/8 6/0 7/7 5/5 5/8 5/2 0/3 6/7 6/9 0/9 3/8 7/0 9/9 1/0 1/4 3/4 9/9 5/1 4/3 3/5 8/0 3/3 4/7 2/4 6/1 9/3 2/0 0/2 3/9 8/8 3/4 8/8 8/3 7/5 5/9 6/7 3/9 7/4 2/1 7/9 9/1 6/8 4/4 9/1 2/3 5/7 1/1 3/8 2/5 5/4 8/1 5/7\n",
      " 9/7 3/8 0/1 6/2 8/7 5/0 7/0 9/3 3/9 8/3 1/9 4/0 5/0 6/7 7/1 5/0 5/3 5/4 0/7 6/4 6/7 0/2 3/4 7/5 9/4 1/3 1/9 3/2 9/0 5/5 4/2 3/0 8/0 3/7 4/0 2/9 6/5 9/1 2/9 0/2 3/3 8/1 3/9 8/3 8/1 7/9 5/1 6/3 3/9 7/0 2/8 7/7 9/0 6/0 4/1 9/7 2/4 5/0 1/5 3/7 2/8 5/7 8/4 5/7\n",
      " 9/2 3/3 0/3 6/3 8/3 5/5 7/4 9/7 3/3 8/7 1/3 4/0 5/4 6/0 7/5 5/0 5/8 5/4 0/7 6/7 6/5 0/4 3/5 7/0 9/0 1/2 1/4 3/9 9/3 5/7 4/2 3/0 8/8 3/9 4/9 2/0 6/7 9/1 2/0 0/7 3/9 8/5 3/0 8/4 8/3 7/8 5/8 6/2 3/2 7/2 2/3 7/3 9/2 6/0 4/7 9/4 2/5 5/7 1/2 3/9 2/2 5/0 8/4 5/5\n",
      " 9/1 3/4 0/2 6/5 8/2 5/0 7/2 9/2 3/3 8/8 1/5 4/1 5/9 6/0 7/1 5/7 5/1 5/9 0/5 6/0 6/1 0/9 3/0 7/9 9/2 1/7 1/9 3/7 9/4 5/8 4/0 3/4 8/7 3/9 4/8 2/7 6/9 9/2 2/3 0/4 3/3 8/5 3/5 8/2 8/4 7/0 5/9 6/3 3/8 7/2 2/1 7/2 9/2 6/3 4/0 9/9 2/2 5/5 1/0 3/8 2/7 5/2 8/3 5/5\n",
      " 9/5 3/9 0/4 6/0 8/8 5/4 7/0 9/9 3/3 8/9 1/9 4/9 5/4 6/7 7/9 5/8 5/5 5/9 0/3 6/9 6/0 0/2 3/4 7/1 9/0 1/7 1/9 3/0 9/4 5/2 4/0 3/7 8/5 3/9 4/5 2/9 6/7 9/8 2/0 0/4 3/8 8/0 3/9 8/4 8/9 7/8 5/3 6/0 3/7 7/0 2/0 7/7 9/4 6/4 4/2 9/4 2/4 5/3 1/3 3/1 2/4 5/3 8/4 5/8\n",
      " 9/9 3/7 0/0 6/4 8/8 5/0 7/4 9/1 3/0 8/2 1/1 4/0 5/3 6/9 7/4 5/5 5/3 5/1 0/8 6/8 6/3 0/3 3/5 7/4 9/7 1/8 1/2 3/4 9/4 5/2 4/7 3/9 8/3 3/1 4/3 2/5 6/9 9/7 2/7 0/4 3/0 8/2 3/5 8/2 8/2 7/5 5/3 6/8 3/2 7/1 2/0 7/5 9/0 6/9 4/1 9/2 2/1 5/3 1/9 3/5 2/3 5/9 8/8 5/9\n",
      " 9/0 3/2 0/0 6/2 8/8 5/2 7/3 9/1 3/4 8/9 1/3 4/3 5/1 6/5 7/9 5/2 5/5 5/0 0/2 6/2 6/4 0/1 3/3 7/7 9/9 1/5 1/8 3/1 9/9 5/3 4/3 3/3 8/3 3/7 4/0 2/5 6/5 9/2 2/7 0/4 3/5 8/3 3/4 8/7 8/0 7/2 5/4 6/0 3/1 7/1 2/0 7/9 9/9 6/3 4/3 9/2 2/0 5/8 1/9 3/2 2/2 5/2 8/9 5/5\n",
      " 9/7 3/5 0/8 6/4 8/5 5/9 7/0 9/7 3/3 8/4 1/9 4/2 5/9 6/1 7/5 5/2 5/1 5/4 0/0 6/4 6/8 0/0 3/3 7/7 9/2 1/8 1/4 3/0 9/8 5/2 4/1 3/9 8/1 3/9 4/3 2/1 6/2 9/5 2/8 0/5 3/2 8/5 3/0 8/0 8/7 7/8 5/0 6/3 3/4 7/2 2/9 7/2 9/9 6/1 4/3 9/1 2/4 5/0 1/4 3/0 2/1 5/8 8/8 5/4\n",
      " 9/4 3/9 0/4 6/4 8/5 5/7 7/8 9/3 3/2 8/7 1/3 4/3 5/9 6/3 7/7 5/5 5/4 5/2 0/2 6/8 6/2 0/9 3/8 7/0 9/1 1/2 1/7 3/9 9/2 5/3 4/7 3/1 8/2 3/1 4/9 2/9 6/5 9/2 2/0 0/7 3/2 8/7 3/7 8/2 8/7 7/3 5/8 6/8 3/3 7/8 2/7 7/2 9/3 6/7 4/8 9/5 2/7 5/3 1/0 3/3 2/5 5/8 8/8 5/8\n",
      " 9/2 3/9 0/1 6/9 8/7 5/3 7/1 9/3 3/2 8/5 1/8 4/4 5/1 6/0 7/4 5/4 5/5 5/4 0/7 6/1 6/2 0/2 3/3 7/1 9/0 1/7 1/0 3/0 9/7 5/2 4/1 3/9 8/3 3/5 4/4 2/9 6/8 9/9 2/3 0/5 3/5 8/9 3/2 8/5 8/5 7/9 5/3 6/8 3/3 7/9 2/3 7/9 9/8 6/8 4/4 9/7 2/3 5/9 1/7 3/4 2/0 5/5 8/9 5/8\n",
      " 9/3 3/8 0/5 6/0 8/0 5/1 7/9 9/5 3/9 8/1 1/0 4/1 5/9 6/0 7/7 5/7 5/5 5/1 0/4 6/9 6/2 0/4 3/9 7/1 9/3 1/3 1/2 3/0 9/0 5/2 4/2 3/5 8/5 3/0 4/8 2/2 6/0 9/9 2/1 0/2 3/7 8/2 3/0 8/7 8/9 7/5 5/2 6/7 3/2 7/0 2/8 7/8 9/8 6/5 4/4 9/5 2/8 5/8 1/5 3/1 2/4 5/7 8/7 5/4\n",
      " 9/4 3/2 0/3 6/7 8/7 5/4 7/0 9/7 3/5 8/5 1/1 4/5 5/2 6/0 7/1 5/0 5/5 5/3 0/0 6/5 6/2 0/9 3/2 7/7 9/0 1/2 1/3 3/3 9/8 5/9 4/1 3/0 8/2 3/8 4/5 2/5 6/2 9/9 2/8 0/7 3/2 8/0 3/2 8/4 8/4 7/1 5/7 6/2 3/4 7/1 2/4 7/7 9/0 6/3 4/8 9/8 2/2 5/2 1/2 3/3 2/3 5/4 8/1 5/5\n",
      " 9/1 3/2 0/2 6/8 8/4 5/5 7/0 9/7 3/5 8/7 1/4 4/3 5/5 6/4 7/2 5/9 5/4 5/4 0/9 6/3 6/2 0/2 3/3 7/4 9/3 1/2 1/9 3/5 9/9 5/3 4/9 3/1 8/1 3/2 4/2 2/1 6/9 9/8 2/3 0/2 3/2 8/0 3/0 8/8 8/8 7/7 5/1 6/4 3/1 7/7 2/3 7/4 9/5 6/8 4/8 9/1 2/8 5/5 1/1 3/8 2/3 5/5 8/7 5/2\n",
      " 9/0 3/7 0/0 6/9 8/7 5/3 7/2 9/8 3/3 8/0 1/1 4/1 5/3 6/7 7/3 5/8 5/1 5/4 0/4 6/9 6/9 0/7 3/7 7/2 9/7 1/9 1/8 3/5 9/5 5/9 4/7 3/1 8/1 3/1 4/8 2/2 6/0 9/2 2/8 0/7 3/3 8/3 3/5 8/5 8/9 7/7 5/9 6/8 3/5 7/1 2/7 7/0 9/1 6/1 4/1 9/9 2/3 5/1 1/7 3/3 2/7 5/3 8/4 5/0\n",
      " 9/3 3/0 0/0 6/2 8/2 5/7 7/2 9/3 3/0 8/1 1/9 4/2 5/8 6/7 7/9 5/9 5/5 5/1 0/1 6/0 6/9 0/0 3/4 7/1 9/4 1/4 1/2 3/2 9/8 5/3 4/7 3/5 8/3 3/9 4/2 2/3 6/2 9/2 2/7 0/7 3/7 8/3 3/3 8/1 8/8 7/3 5/0 6/8 3/3 7/2 2/1 7/5 9/5 6/9 4/3 9/9 2/9 5/0 1/1 3/9 2/7 5/1 8/7 5/4\n",
      " 9/8 3/7 0/3 6/9 8/4 5/0 7/4 9/4 3/7 8/8 1/7 4/1 5/5 6/7 7/2 5/2 5/4 5/1 0/0 6/1 6/0 0/3 3/0 7/3 9/1 1/2 1/1 3/3 9/4 5/7 4/3 3/5 8/4 3/0 4/2 2/7 6/9 9/5 2/1 0/8 3/3 8/2 3/2 8/2 8/5 7/9 5/4 6/9 3/7 7/3 2/3 7/2 9/7 6/2 4/5 9/0 2/0 5/7 1/9 3/3 2/8 5/5 8/3 5/2\n",
      " 9/9 3/8 0/1 6/3 8/0 5/9 7/1 9/7 3/5 8/4 1/1 4/3 5/3 6/1 7/4 5/4 5/2 5/4 0/1 6/3 6/2 0/5 3/9 7/8 9/3 1/2 1/2 3/0 9/3 5/9 4/3 3/8 8/0 3/4 4/5 2/1 6/9 9/5 2/2 0/3 3/5 8/2 3/8 8/2 8/3 7/5 5/4 6/7 3/2 7/7 2/0 7/2 9/3 6/0 4/2 9/3 2/1 5/9 1/4 3/8 2/9 5/2 8/9 5/3\n",
      " 9/0 3/9 0/2 6/4 8/3 5/4 7/3 9/5 3/0 8/5 1/0 4/0 5/2 6/9 7/7 5/9 5/2 5/8 0/2 6/3 6/7 0/0 3/7 7/5 9/7 1/2 1/9 3/3 9/8 5/4 4/9 3/0 8/1 3/0 4/9 2/2 6/4 9/3 2/9 0/5 3/4 8/3 3/2 8/3 8/2 7/7 5/0 6/4 3/3 7/8 2/0 7/9 9/4 6/0 4/8 9/0 2/0 5/3 1/9 3/2 2/5 5/3 8/3 5/9\n",
      " 9/7 3/8 0/0 6/7 8/1 5/7 7/2 9/4 3/2 8/0 1/9 4/8 5/2 6/5 7/1 5/4 5/7 5/2 0/5 6/0 6/3 0/2 3/5 7/8 9/0 1/3 1/8 3/8 9/3 5/8 4/1 3/7 8/8 3/3 4/1 2/8 6/8 9/1 2/3 0/4 3/5 8/9 3/7 8/9 8/2 7/8 5/2 6/3 3/8 7/8 2/8 7/2 9/7 6/4 4/1 9/8 2/8 5/2 1/3 3/2 2/2 5/9 8/2 5/9\n",
      " 9/0 3/2 0/7 6/4 8/0 5/9 7/4 9/2 3/9 8/3 1/5 4/1 5/1 6/4 7/8 5/7 5/3 5/5 0/2 6/9 6/2 0/4 3/2 7/8 9/4 1/8 1/9 3/8 9/0 5/3 4/5 3/7 8/9 3/0 4/9 2/4 6/9 9/7 2/8 0/8 3/0 8/4 3/1 8/9 8/9 7/5 5/0 6/2 3/5 7/8 2/8 7/9 9/4 6/7 4/3 9/4 2/3 5/7 1/8 3/5 2/0 5/1 8/0 5/7\n",
      " 9/8 3/4 0/9 6/8 8/0 5/2 7/4 9/0 3/5 8/8 1/3 4/9 5/3 6/4 7/9 5/0 5/1 5/5 0/3 6/8 6/0 0/0 3/1 7/2 9/0 1/2 1/7 3/8 9/3 5/7 4/7 3/7 8/8 3/3 4/0 2/2 6/2 9/5 2/3 0/8 3/2 8/0 3/8 8/3 8/8 7/4 5/5 6/8 3/4 7/2 2/2 7/0 9/8 6/7 4/2 9/2 2/1 5/5 1/4 3/7 2/3 5/0 8/7 5/0\n",
      " 9/2 3/8 0/8 6/1 8/3 5/3 7/3 9/8 3/8 8/8 1/1 4/1 5/2 6/3 7/3 5/0 5/8 5/3 0/8 6/3 6/4 0/0 3/9 7/7 9/9 1/2 1/2 3/5 9/2 5/5 4/2 3/7 8/9 3/0 4/0 2/2 6/9 9/3 2/4 0/5 3/3 8/9 3/3 8/3 8/0 7/7 5/1 6/0 3/4 7/4 2/4 7/4 9/2 6/0 4/1 9/7 2/9 5/7 1/3 3/1 2/3 5/2 8/2 5/7\n",
      " 9/1 3/8 0/1 6/3 8/4 5/2 7/8 9/1 3/5 8/0 1/8 4/3 5/8 6/3 7/3 5/4 5/8 5/1 0/4 6/4 6/8 0/2 3/3 7/2 9/5 1/2 1/8 3/8 9/5 5/1 4/4 3/7 8/1 3/2 4/9 2/3 6/8 9/0 2/9 0/1 3/0 8/8 3/3 8/2 8/1 7/2 5/3 6/2 3/8 7/5 2/0 7/5 9/1 6/2 4/3 9/9 2/1 5/3 1/8 3/5 2/8 5/7 8/3 5/2\n",
      " 9/3 3/0 0/2 6/1 8/2 5/3 7/2 9/3 3/0 8/4 1/9 4/7 5/8 6/3 7/0 5/3 5/0 5/2 0/0 6/9 6/7 0/2 3/4 7/1 9/3 1/7 1/7 3/8 9/9 5/2 4/0 3/9 8/3 3/3 4/0 2/5 6/3 9/0 2/9 0/5 3/0 8/8 3/2 8/3 8/4 7/3 5/3 6/0 3/2 7/3 2/3 7/5 9/0 6/0 4/2 9/7 2/0 5/1 1/8 3/9 2/2 5/0 8/0 5/4\n",
      " 9/4 3/9 0/5 6/0 8/8 5/1 7/7 9/3 3/4 8/1 1/3 4/3 5/0 6/4 7/5 5/2 5/4 5/4 0/0 6/4 6/0 0/8 3/8 7/1 9/5 1/8 1/1 3/7 9/0 5/7 4/1 3/3 8/3 3/0 4/3 2/9 6/3 9/3 2/0 0/5 3/8 8/2 3/2 8/9 8/8 7/8 5/3 6/2 3/8 7/3 2/4 7/7 9/4 6/8 4/8 9/9 2/7 5/2 1/3 3/0 2/7 5/5 8/5 5/9\n",
      " 9/5 3/4 0/9 6/3 8/9 5/9 7/3 9/0 3/9 8/8 1/7 4/9 5/9 6/2 7/4 5/4 5/7 5/5 0/7 6/2 6/0 0/9 3/0 7/5 9/7 1/1 1/8 3/0 9/2 5/2 4/2 3/8 8/2 3/0 4/8 2/8 6/3 9/0 2/3 0/8 3/4 8/7 3/1 8/8 8/2 7/9 5/2 6/7 3/5 7/2 2/1 7/3 9/0 6/0 4/2 9/4 2/2 5/2 1/8 3/8 2/9 5/0 8/9 5/8\n",
      " 9/8 3/0 0/3 6/3 8/1 5/4 7/9 9/4 3/2 8/9 1/4 4/2 5/8 6/3 7/5 5/9 5/0 5/0 0/2 6/0 6/3 0/7 3/3 7/0 9/0 1/3 1/0 3/3 9/8 5/3 4/3 3/4 8/2 3/8 4/7 2/3 6/1 9/4 2/8 0/4 3/2 8/3 3/1 8/2 8/7 7/7 5/8 6/5 3/8 7/9 2/8 7/1 9/1 6/1 4/7 9/1 2/3 5/3 1/4 3/5 2/5 5/0 8/9 5/0\n",
      " 9/0 3/7 0/3 6/1 8/9 5/4 7/3 9/7 3/0 8/1 1/2 4/0 5/0 6/7 7/5 5/2 5/2 5/2 0/1 6/4 6/3 0/2 3/2 7/0 9/8 1/0 1/9 3/9 9/5 5/0 4/1 3/0 8/0 3/3 4/5 2/0 6/0 9/8 2/0 0/5 3/9 8/1 3/1 8/4 8/1 7/8 5/2 6/1 3/5 7/8 2/3 7/3 9/0 6/2 4/4 9/4 2/8 5/9 1/9 3/1 2/0 5/7 8/1 5/9\n",
      " 9/9 3/8 0/4 6/2 8/3 5/0 7/9 9/3 3/5 8/8 1/5 4/9 5/9 6/8 7/4 5/8 5/4 5/2 0/0 6/8 6/7 0/1 3/3 7/5 9/0 1/5 1/5 3/8 9/2 5/9 4/3 3/5 8/0 3/3 4/3 2/0 6/0 9/2 2/4 0/8 3/7 8/2 3/7 8/7 8/1 7/3 5/7 6/0 3/4 7/2 2/5 7/4 9/1 6/4 4/5 9/2 2/0 5/2 1/3 3/8 2/8 5/1 8/4 5/7\n",
      " 9/3 3/2 0/9 6/8 8/8 5/4 7/2 9/5 3/7 8/5 1/8 4/3 5/2 6/1 7/9 5/2 5/0 5/4 0/9 6/3 6/4 0/2 3/9 7/0 9/0 1/4 1/1 3/0 9/5 5/2 4/8 3/3 8/7 3/1 4/2 2/2 6/7 9/8 2/8 0/4 3/7 8/9 3/1 8/7 8/4 7/2 5/7 6/3 3/3 7/3 2/2 7/4 9/1 6/5 4/1 9/5 2/3 5/0 1/7 3/9 2/7 5/3 8/0 5/3\n",
      " 9/5 3/3 0/2 6/0 8/1 5/7 7/4 9/3 3/9 8/7 1/1 4/1 5/9 6/8 7/9 5/4 5/7 5/7 0/3 6/2 6/7 0/2 3/9 7/1 9/2 1/3 1/0 3/2 9/4 5/7 4/4 3/2 8/3 3/8 4/9 2/3 6/7 9/9 2/3 0/8 3/9 8/9 3/3 8/0 8/5 7/8 5/7 6/8 3/4 7/4 2/3 7/0 9/3 6/3 4/9 9/9 2/4 5/7 1/3 3/0 2/2 5/3 8/1 5/7\n",
      " 9/4 3/7 0/1 6/5 8/2 5/9 7/7 9/3 3/8 8/2 1/3 4/1 5/0 6/3 7/7 5/7 5/2 5/0 0/8 6/2 6/0 0/2 3/9 7/7 9/2 1/3 1/1 3/3 9/3 5/0 4/8 3/8 8/1 3/3 4/8 2/7 6/7 9/2 2/7 0/5 3/3 8/1 3/4 8/4 8/5 7/0 5/3 6/9 3/7 7/3 2/9 7/5 9/7 6/1 4/3 9/0 2/0 5/8 1/7 3/3 2/7 5/0 8/0 5/2\n",
      " 9/5 3/7 0/7 6/2 8/3 5/1 7/0 9/2 3/1 8/4 1/8 4/1 5/4 6/7 7/0 5/0 5/5 5/9 0/2 6/2 6/7 0/9 3/3 7/2 9/0 1/0 1/4 3/1 9/0 5/0 4/1 3/4 8/0 3/0 4/4 2/2 6/1 9/9 2/8 0/9 3/8 8/4 3/4 8/4 8/5 7/8 5/8 6/5 3/8 7/4 2/2 7/0 9/9 6/9 4/8 9/7 2/1 5/5 1/8 3/2 2/0 5/3 8/3 5/5\n",
      " 9/7 3/1 0/5 6/7 8/8 5/2 7/9 9/3 3/8 8/4 1/8 4/4 5/1 6/8 7/0 5/1 5/3 5/4 0/3 6/1 6/7 0/1 3/0 7/4 9/0 1/3 1/5 3/0 9/9 5/1 4/0 3/4 8/5 3/8 4/0 2/3 6/2 9/5 2/4 0/7 3/2 8/2 3/1 8/5 8/1 7/0 5/4 6/9 3/9 7/1 2/1 7/2 9/3 6/3 4/2 9/7 2/1 5/8 1/3 3/3 2/0 5/3 8/4 5/8\n",
      " 9/2 3/3 0/2 6/9 8/0 5/7 7/5 9/0 3/7 8/0 1/8 4/1 5/3 6/3 7/5 5/3 5/5 5/3 0/0 6/1 6/2 0/3 3/2 7/3 9/2 1/4 1/3 3/5 9/2 5/9 4/5 3/0 8/5 3/0 4/2 2/2 6/4 9/9 2/0 0/0 3/9 8/8 3/0 8/8 8/9 7/9 5/7 6/8 3/8 7/7 2/3 7/8 9/7 6/3 4/2 9/1 2/2 5/3 1/5 3/2 2/4 5/2 8/4 5/5\n",
      " 9/7 3/2 0/8 6/5 8/7 5/7 7/2 9/5 3/1 8/8 1/1 4/4 5/2 6/0 7/8 5/4 5/7 5/3 0/7 6/4 6/7 0/2 3/2 7/8 9/5 1/2 1/9 3/2 9/2 5/4 4/7 3/3 8/0 3/1 4/1 2/2 6/4 9/4 2/4 0/9 3/1 8/2 3/1 8/8 8/2 7/0 5/3 6/0 3/7 7/1 2/5 7/9 9/5 6/5 4/8 9/5 2/3 5/1 1/0 3/3 2/0 5/4 8/1 5/2\n",
      " 9/4 3/2 0/3 6/7 8/4 5/8 7/2 9/8 3/2 8/4 1/2 4/2 5/4 6/3 7/0 5/8 5/9 5/7 0/0 6/4 6/2 0/0 3/3 7/3 9/4 1/0 1/7 3/1 9/0 5/2 4/7 3/0 8/0 3/2 4/0 2/2 6/3 9/0 2/4 0/4 3/9 8/0 3/5 8/9 8/2 7/0 5/2 6/1 3/9 7/1 2/0 7/4 9/0 6/9 4/0 9/3 2/2 5/2 1/5 3/7 2/4 5/7 8/4 5/7\n",
      " 9/3 3/1 0/8 6/1 8/4 5/4 7/4 9/2 3/7 8/1 1/4 4/2 5/1 6/7 7/8 5/3 5/9 5/2 0/0 6/7 6/4 0/7 3/4 7/2 9/4 1/2 1/8 3/3 9/4 5/3 4/0 3/9 8/7 3/3 4/5 2/8 6/8 9/8 2/1 0/2 3/3 8/9 3/7 8/3 8/0 7/8 5/7 6/9 3/2 7/0 2/0 7/9 9/3 6/9 4/0 9/5 2/1 5/1 1/0 3/8 2/0 5/4 8/9 5/5\n",
      " 9/4 3/5 0/3 6/7 8/3 5/4 7/0 9/9 3/5 8/3 1/5 4/0 5/4 6/8 7/4 5/5 5/1 5/5 0/2 6/8 6/1 0/2 3/4 7/9 9/4 1/2 1/9 3/8 9/9 5/5 4/1 3/3 8/3 3/1 4/2 2/8 6/0 9/1 2/9 0/4 3/7 8/4 3/8 8/0 8/7 7/4 5/7 6/7 3/3 7/0 2/0 7/1 9/2 6/0 4/2 9/4 2/3 5/3 1/7 3/2 2/3 5/1 8/3 5/2\n",
      " 9/8 3/5 0/5 6/9 8/2 5/7 7/7 9/8 3/3 8/3 1/0 4/5 5/7 6/2 7/9 5/7 5/3 5/5 0/5 6/7 6/8 0/7 3/7 7/1 9/1 1/4 1/2 3/4 9/8 5/5 4/4 3/2 8/1 3/0 4/9 2/5 6/3 9/2 2/7 0/9 3/2 8/3 3/9 8/3 8/5 7/5 5/8 6/4 3/5 7/3 2/1 7/0 9/1 6/3 4/2 9/9 2/8 5/3 1/5 3/8 2/5 5/9 8/3 5/2\n",
      " 9/5 3/9 0/8 6/4 8/0 5/0 7/7 9/7 3/9 8/9 1/8 4/2 5/0 6/3 7/1 5/8 5/1 5/1 0/1 6/7 6/2 0/2 3/3 7/3 9/3 1/8 1/3 3/2 9/4 5/0 4/3 3/4 8/1 3/2 4/7 2/3 6/2 9/0 2/0 0/7 3/0 8/7 3/9 8/2 8/7 7/2 5/7 6/7 3/5 7/9 2/4 7/9 9/5 6/9 4/5 9/7 2/9 5/1 1/2 3/2 2/3 5/0 8/7 5/9\n",
      " 9/9 3/4 0/1 6/7 8/7 5/0 7/0 9/0 3/8 8/8 1/8 4/4 5/7 6/5 7/7 5/5 5/2 5/8 0/7 6/8 6/7 0/4 3/5 7/3 9/5 1/0 1/0 3/0 9/2 5/1 4/9 3/0 8/2 3/4 4/5 2/9 6/0 9/2 2/7 0/2 3/2 8/9 3/5 8/9 8/5 7/2 5/7 6/9 3/3 7/9 2/0 7/5 9/4 6/5 4/9 9/2 2/3 5/3 1/2 3/2 2/0 5/0 8/2 5/5\n",
      " 9/4 3/4 0/2 6/3 8/1 5/1 7/7 9/2 3/1 8/8 1/0 4/7 5/3 6/4 7/2 5/2 5/2 5/7 0/9 6/9 6/3 0/4 3/2 7/2 9/3 1/8 1/0 3/9 9/7 5/3 4/1 3/1 8/1 3/4 4/4 2/7 6/7 9/3 2/1 0/9 3/0 8/5 3/2 8/0 8/4 7/8 5/4 6/1 3/5 7/8 2/4 7/7 9/1 6/8 4/3 9/0 2/3 5/7 1/7 3/3 2/3 5/2 8/1 5/8\n",
      " 9/0 3/4 0/8 6/5 8/3 5/0 7/0 9/0 3/0 8/2 1/4 4/2 5/0 6/3 7/3 5/3 5/0 5/4 0/9 6/4 6/0 0/2 3/8 7/1 9/9 1/5 1/5 3/7 9/0 5/5 4/5 3/3 8/9 3/8 4/1 2/4 6/3 9/0 2/3 0/5 3/2 8/7 3/9 8/8 8/2 7/1 5/9 6/3 3/7 7/8 2/4 7/1 9/0 6/0 4/7 9/2 2/2 5/1 1/0 3/2 2/0 5/5 8/9 5/3\n",
      " 9/2 3/0 0/0 6/7 8/7 5/7 7/9 9/2 3/8 8/7 1/3 4/7 5/3 6/0 7/2 5/8 5/1 5/8 0/9 6/5 6/2 0/2 3/1 7/5 9/4 1/2 1/7 3/3 9/9 5/3 4/3 3/1 8/5 3/1 4/7 2/4 6/0 9/5 2/0 0/0 3/2 8/9 3/8 8/0 8/4 7/8 5/1 6/4 3/5 7/8 2/0 7/3 9/8 6/2 4/4 9/3 2/0 5/7 1/1 3/4 2/2 5/7 8/8 5/7\n",
      " 9/3 3/3 0/3 6/2 8/5 5/0 7/7 9/0 3/1 8/7 1/3 4/1 5/2 6/3 7/2 5/4 5/1 5/0 0/2 6/7 6/5 0/5 3/0 7/5 9/0 1/2 1/2 3/4 9/5 5/9 4/1 3/3 8/2 3/9 4/0 2/2 6/0 9/3 2/2 0/5 3/2 8/3 3/2 8/2 8/1 7/5 5/1 6/5 3/8 7/7 2/5 7/3 9/7 6/3 4/2 9/5 2/7 5/1 1/4 3/0 2/0 5/8 8/8 5/3\n",
      " 9/2 3/2 0/3 6/3 8/2 5/0 7/3 9/5 3/1 8/5 1/3 4/0 5/2 6/1 7/1 5/8 5/0 5/3 0/9 6/2 6/5 0/3 3/3 7/2 9/8 1/1 1/8 3/9 9/2 5/1 4/1 3/2 8/2 3/9 4/3 2/0 6/0 9/2 2/9 0/2 3/5 8/3 3/2 8/9 8/5 7/5 5/8 6/3 3/1 7/2 2/3 7/7 9/7 6/8 4/3 9/2 2/5 5/2 1/8 3/9 2/7 5/3 8/1 5/9\n",
      " 9/7 3/0 0/2 6/1 8/0 5/0 7/9 9/3 3/3 8/1 1/2 4/4 5/0 6/5 7/4 5/9 5/4 5/0 0/3 6/1 6/0 0/4 3/1 7/0 9/9 1/0 1/9 3/8 9/8 5/4 4/3 3/3 8/3 3/2 4/0 2/4 6/8 9/3 2/0 0/4 3/5 8/4 3/4 8/0 8/2 7/1 5/7 6/9 3/9 7/4 2/3 7/5 9/9 6/1 4/2 9/8 2/4 5/2 1/7 3/4 2/3 5/9 8/1 5/8\n",
      " 9/7 3/3 0/1 6/0 8/7 5/2 7/5 9/1 3/1 8/4 1/4 4/3 5/8 6/0 7/3 5/2\n",
      "Accuracy: 9.91% for 10000 images.\n"
     ]
    }
   ],
   "source": [
    "# Test on ALL the images\n",
    "#tensor_image, label = next(iter(testloader)) # returns a batch of images\n",
    "\n",
    "correct_net = 0\n",
    "incorrect_net = 0\n",
    "\n",
    "for imagesX, labelsX in testloader:\n",
    "    print('')\n",
    "    for i in range(len(labelsX.tolist())):\n",
    "        first_image = numpy.array(imagesX, dtype='float')[i] # get the ith image in the batch\n",
    "\n",
    "        prediction = model(imagesX[i])\n",
    "        prediction = prediction.detach().numpy()\n",
    "        max_prob = max(list(numpy.array(prediction)[0]))\n",
    "        predicted_label = list(prediction[0]).index(max_prob)\n",
    "\n",
    "        print(f' {label[i].item()}/{predicted_label}', end = '')\n",
    "\n",
    "        if label[i].item() == predicted_label:\n",
    "            correct_net += 1\n",
    "            #print('+', end = '')\n",
    "        else:\n",
    "            incorrect_net += 1\n",
    "            #print(predicted_label, end = '') #let's take a look at what we're missing\n",
    "\n",
    "\n",
    "accuracy_net = round(correct_net * 100 / (correct_net + incorrect_net), 2)\n",
    "print('')\n",
    "print(f'Accuracy: {accuracy_net}% for {correct_net + incorrect_net} images.')"
   ],
   "metadata": {
    "collapsed": false,
    "pycharm": {
     "name": "#%%\n"
    }
   }
  },
  {
   "cell_type": "markdown",
   "source": [
    "  <br> <br>**3. Train the model on only one epoch?** <br>\n",
    "Training the model on only one epoch results in even higher loss & likely some gross underfitting."
   ],
   "metadata": {
    "collapsed": false
   }
  }
 ],
 "metadata": {
  "kernelspec": {
   "display_name": "Python 3",
   "language": "python",
   "name": "python3"
  },
  "language_info": {
   "codemirror_mode": {
    "name": "ipython",
    "version": 3
   },
   "file_extension": ".py",
   "mimetype": "text/x-python",
   "name": "python",
   "nbconvert_exporter": "python",
   "pygments_lexer": "ipython3",
   "version": "3.8.8"
  }
 },
 "nbformat": 4,
 "nbformat_minor": 5
}