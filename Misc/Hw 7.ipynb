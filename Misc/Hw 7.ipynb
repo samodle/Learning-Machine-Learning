{
 "cells": [
  {
   "cell_type": "markdown",
   "metadata": {
    "collapsed": true,
    "pycharm": {
     "name": "#%% md\n"
    }
   },
   "source": [
    "Homework 7 <br>\n",
    "Sam Odle"
   ]
  },
  {
   "cell_type": "code",
   "execution_count": 38,
   "outputs": [],
   "source": [
    "import torch\n",
    "from torch.backends import cudnn\n",
    "from torchvision import datasets, transforms\n",
    "import torchvision\n",
    "import matplotlib.pyplot as plt\n",
    "import numpy as np\n",
    "from torch import nn, optim\n",
    "import random\n",
    "import pandas as pd\n",
    "from timeit import default_timer as timer\n"
   ],
   "metadata": {
    "collapsed": false,
    "pycharm": {
     "name": "#%%\n"
    }
   }
  },
  {
   "cell_type": "markdown",
   "source": [
    "GPU Implementation"
   ],
   "metadata": {
    "collapsed": false
   }
  },
  {
   "cell_type": "code",
   "execution_count": 39,
   "outputs": [
    {
     "name": "stdout",
     "output_type": "stream",
     "text": [
      "Train on gpu: True\n",
      "1 gpus detected.\n",
      "cuda\n",
      "__CUDNN VERSION: 8200\n",
      "__Number CUDA Devices: 1\n",
      "__CUDA Device Name: NVIDIA GeForce RTX 2080 Ti\n",
      "__CUDA Device Total Memory [GB]: 11.810832384\n"
     ]
    }
   ],
   "source": [
    "# Whether to train on a gpu\n",
    "train_on_gpu = torch.cuda.is_available()\n",
    "print(f'Train on gpu: {train_on_gpu}')\n",
    "\n",
    "# Number of gpus\n",
    "if train_on_gpu:\n",
    "    gpu_count = torch.cuda.device_count()\n",
    "    print(f'{gpu_count} gpus detected.')\n",
    "    if gpu_count > 1:\n",
    "        multi_gpu = True\n",
    "    else:\n",
    "        multi_gpu = False\n",
    "\n",
    "CUDA_DEVICE = torch.device('cuda' if torch.cuda.is_available() else 'cpu')\n",
    "print(CUDA_DEVICE)\n",
    "\n",
    "\n",
    "print('__CUDNN VERSION:', torch.backends.cudnn.version())\n",
    "print('__Number CUDA Devices:', torch.cuda.device_count())\n",
    "print('__CUDA Device Name:',torch.cuda.get_device_name(0))\n",
    "print('__CUDA Device Total Memory [GB]:',torch.cuda.get_device_properties(0).total_memory/1e9)\n"
   ],
   "metadata": {
    "collapsed": false,
    "pycharm": {
     "name": "#%%\n"
    }
   }
  },
  {
   "cell_type": "markdown",
   "source": [
    "Correctly pre-processes images into train, validation, and holdout by randomly specifying indicies and feeding these to torch.utils.data.sampler.SubsetRandomSampler\n",
    "\n",
    "Correctly adds applicable data augmentations to your DataLoader"
   ],
   "metadata": {
    "collapsed": false
   }
  },
  {
   "cell_type": "code",
   "execution_count": 40,
   "outputs": [],
   "source": [
    "from torch.utils.data import SubsetRandomSampler\n",
    "num_workers = 1\n",
    "pin_memory = True\n",
    "batch_size = 32\n",
    "valid_size = 0.1\n",
    "\n",
    "valid_transform = transforms.Compose([\n",
    "        transforms.Resize(size=[224,224]),\n",
    "        transforms.ToTensor(),\n",
    "        transforms.Normalize([0.485, 0.456, 0.406],\n",
    "                             [0.229, 0.224, 0.225])  # Imagenet standards\n",
    "    ])\n",
    "\n",
    "main_dataset = datasets.ImageFolder(root='images/', transform=valid_transform)\n",
    "\n",
    "num_images = len(main_dataset)\n",
    "indices = list(range(num_images))\n",
    "n_test = int( num_images * .1 )  # number of test/val elements\n",
    "n_train = num_images - 2 * n_test\n",
    "\n",
    "np.random.seed(42)\n",
    "idx = list(range(num_images))  # indices to all elements\n",
    "random.shuffle(idx)  # in-place shuffle the indices\n",
    "\n",
    "train_idx = idx[:n_train]\n",
    "valid_idx = idx[n_train:(n_train + n_test)]\n",
    "test_idx = idx[(n_train + n_test):]\n",
    "\n",
    "train_sampler = SubsetRandomSampler(train_idx)\n",
    "valid_sampler = SubsetRandomSampler(valid_idx)\n",
    "test_sampler= SubsetRandomSampler(test_idx)\n",
    "\n",
    "\n",
    "\n",
    "train_transforms = [\n",
    "    transforms.Resize(size=[224,224]),\n",
    "    transforms.RandomRotation(degrees=90),\n",
    "    transforms.ColorJitter(),\n",
    "    transforms.RandomHorizontalFlip(),\n",
    "    transforms.RandomVerticalFlip(),\n",
    "    transforms.ToTensor(),\n",
    "    transforms.Normalize([0.485, 0.456, 0.406],\n",
    "                         [0.229, 0.224, 0.225])  # Imagenet standards\n",
    "]\n",
    "\n",
    "\n",
    "train_loader = torch.utils.data.DataLoader(\n",
    "    main_dataset,  batch_size=batch_size, sampler=train_sampler,\n",
    "    num_workers=num_workers, pin_memory=pin_memory, drop_last=False\n",
    ")\n",
    "\n",
    "test_loader = torch.utils.data.DataLoader(\n",
    "    main_dataset,  batch_size=batch_size, sampler=test_sampler,\n",
    "    num_workers=num_workers, pin_memory=pin_memory, drop_last=False\n",
    ")\n",
    "\n",
    "valid_loader = torch.utils.data.DataLoader(\n",
    "    main_dataset,  batch_size=batch_size, sampler=valid_sampler,\n",
    "    num_workers=num_workers, pin_memory=pin_memory, drop_last=False\n",
    ")\n",
    "\n",
    "train_loader.dataset.transforms = train_transforms"
   ],
   "metadata": {
    "collapsed": false,
    "pycharm": {
     "name": "#%%\n"
    }
   }
  },
  {
   "cell_type": "markdown",
   "source": [
    "Correctly download and instantiate a CNN pre-trained on ImageNet"
   ],
   "metadata": {
    "collapsed": false
   }
  },
  {
   "cell_type": "code",
   "execution_count": 41,
   "outputs": [],
   "source": [
    "model = torchvision.models.vgg16(pretrained=True)\n",
    "# Freeze early layers\n",
    "for param in model.parameters():\n",
    "    param.requires_grad = False\n",
    "n_inputs = model.classifier[6].in_features\n",
    "\n",
    "# Add on classifier\n",
    "model.classifier[6] = nn.Sequential(\n",
    "    nn.Linear(n_inputs, 256), nn.ReLU(), nn.Dropout(0.2),\n",
    "    nn.Linear(256, 2), nn.LogSoftmax(dim=1)) #change from LogSoftmax(dim=1) to Softmax\n",
    "\n",
    "# Move to gpu and parallelize\n",
    "if train_on_gpu:\n",
    "    model = model.to('cuda')\n",
    "\n",
    "if multi_gpu:\n",
    "    model = nn.DataParallel(model)"
   ],
   "metadata": {
    "collapsed": false,
    "pycharm": {
     "name": "#%%\n"
    }
   }
  },
  {
   "cell_type": "markdown",
   "source": [
    "Correctly fine-tune that CNN on your blood cell images using training and validation"
   ],
   "metadata": {
    "collapsed": false
   }
  },
  {
   "cell_type": "code",
   "execution_count": 41,
   "outputs": [],
   "source": [],
   "metadata": {
    "collapsed": false,
    "pycharm": {
     "name": "#%%\n"
    }
   }
  },
  {
   "cell_type": "markdown",
   "source": [
    "Implemented from https://github.com/WillKoehrsen/pytorch_challenge/blob/master/Transfer%20Learning%20in%20PyTorch.ipynb"
   ],
   "metadata": {
    "collapsed": false
   }
  },
  {
   "cell_type": "code",
   "execution_count": 42,
   "outputs": [],
   "source": [
    "def train(model,\n",
    "          criterion,\n",
    "          optimizer,\n",
    "          train_loader,\n",
    "          valid_loader,\n",
    "          save_file_name,\n",
    "          max_epochs_stop=3,\n",
    "          n_epochs=20,\n",
    "          print_every=1):\n",
    "    \"\"\"Train a PyTorch Model\n",
    "\n",
    "    Params\n",
    "    --------\n",
    "        model (PyTorch model): cnn to train\n",
    "        criterion (PyTorch loss): objective to minimize\n",
    "        optimizer (PyTorch optimizier): optimizer to compute gradients of model parameters\n",
    "        train_loader (PyTorch dataloader): training dataloader to iterate through\n",
    "        valid_loader (PyTorch dataloader): validation dataloader used for early stopping\n",
    "        save_file_name (str ending in '.pt'): file path to save the model state dict\n",
    "        max_epochs_stop (int): maximum number of epochs with no improvement in validation loss for early stopping\n",
    "        n_epochs (int): maximum number of training epochs\n",
    "        print_every (int): frequency of epochs to print training stats\n",
    "\n",
    "    Returns\n",
    "    --------\n",
    "        model (PyTorch model): trained cnn with best weights\n",
    "        history (DataFrame): history of train and validation loss and accuracy\n",
    "    \"\"\"\n",
    "\n",
    "    # Early stopping intialization\n",
    "    epochs_no_improve = 0\n",
    "    valid_loss_min = np.Inf\n",
    "\n",
    "    valid_max_acc = 0\n",
    "    history = []\n",
    "\n",
    "    # Number of epochs already trained (if using loaded in model weights)\n",
    "    try:\n",
    "        print(f'Model has been trained for: {model.epochs} epochs.\\n')\n",
    "    except:\n",
    "        model.epochs = 0\n",
    "        print(f'Starting Training from Scratch.\\n')\n",
    "\n",
    "    overall_start = timer()\n",
    "\n",
    "    # Main loop\n",
    "    for epoch in range(n_epochs):\n",
    "\n",
    "        # keep track of training and validation loss each epoch\n",
    "        train_loss = 0.0\n",
    "        valid_loss = 0.0\n",
    "\n",
    "        train_acc = 0\n",
    "        valid_acc = 0\n",
    "\n",
    "        # Set to training\n",
    "        model.train()\n",
    "        start = timer()\n",
    "\n",
    "        # Training loop\n",
    "        for ii, (data, target) in enumerate(train_loader):\n",
    "            # Tensors to gpu\n",
    "            if train_on_gpu:\n",
    "                data, target = data.cuda(), target.cuda()\n",
    "\n",
    "            # Clear gradients\n",
    "            optimizer.zero_grad()\n",
    "            # Predicted outputs are log probabilities\n",
    "            output = model(data)\n",
    "\n",
    "            # Loss and backpropagation of gradients\n",
    "            loss = criterion(output, target)\n",
    "            loss.backward()\n",
    "\n",
    "            # Update the parameters\n",
    "            optimizer.step()\n",
    "\n",
    "            # Track train loss by multiplying average loss by number of examples in batch\n",
    "            train_loss += loss.item() * data.size(0)\n",
    "\n",
    "            # Calculate accuracy by finding max log probability\n",
    "            _, pred = torch.max(output, dim=1)\n",
    "            correct_tensor = pred.eq(target.data.view_as(pred))\n",
    "            # Need to convert correct tensor from int to float to average\n",
    "            accuracy = torch.mean(correct_tensor.type(torch.FloatTensor))\n",
    "            # Multiply average accuracy times the number of examples in batch\n",
    "            train_acc += accuracy.item() * data.size(0)\n",
    "\n",
    "            # Track training progress\n",
    "            print(\n",
    "                f'Epoch: {epoch}\\t{100 * (ii + 1) / len(train_loader):.2f}% complete. {timer() - start:.2f} seconds elapsed in epoch.',\n",
    "                end='\\r')\n",
    "\n",
    "        # After training loops ends, start validation\n",
    "        else:\n",
    "            model.epochs += 1\n",
    "\n",
    "            # Don't need to keep track of gradients\n",
    "            with torch.no_grad():\n",
    "                # Set to evaluation mode\n",
    "                model.eval()\n",
    "\n",
    "                # Validation loop\n",
    "                for data, target in valid_loader:\n",
    "                    # Tensors to gpu\n",
    "                    if train_on_gpu:\n",
    "                        data, target = data.cuda(), target.cuda()\n",
    "\n",
    "                    # Forward pass\n",
    "                    output = model(data)\n",
    "\n",
    "                    # Validation loss\n",
    "                    loss = criterion(output, target)\n",
    "                    # Multiply average loss times the number of examples in batch\n",
    "                    valid_loss += loss.item() * data.size(0)\n",
    "\n",
    "                    # Calculate validation accuracy\n",
    "                    _, pred = torch.max(output, dim=1)\n",
    "                    correct_tensor = pred.eq(target.data.view_as(pred))\n",
    "                    accuracy = torch.mean(\n",
    "                        correct_tensor.type(torch.FloatTensor))\n",
    "                    # Multiply average accuracy times the number of examples\n",
    "                    valid_acc += accuracy.item() * data.size(0)\n",
    "\n",
    "                # Calculate average losses\n",
    "                train_loss = train_loss / len(train_loader.dataset)\n",
    "                valid_loss = valid_loss / len(valid_loader.dataset)\n",
    "\n",
    "                # Calculate average accuracy\n",
    "                train_acc = train_acc / len(train_loader.dataset)\n",
    "                valid_acc = valid_acc / len(valid_loader.dataset)\n",
    "\n",
    "                history.append([train_loss, valid_loss, train_acc, valid_acc])\n",
    "\n",
    "                # Print training and validation results\n",
    "                if (epoch + 1) % print_every == 0:\n",
    "                    print(\n",
    "                        f'\\nEpoch: {epoch} \\tTraining Loss: {train_loss:.4f} \\tValidation Loss: {valid_loss:.4f}'\n",
    "                    )\n",
    "                    print(\n",
    "                        f'\\t\\tTraining Accuracy: {100 * train_acc:.2f}%\\t Validation Accuracy: {100 * valid_acc:.2f}%'\n",
    "                    )\n",
    "\n",
    "                # Save the model if validation loss decreases\n",
    "                if valid_loss < valid_loss_min:\n",
    "                    # Save model\n",
    "                    torch.save(model.state_dict(), save_file_name)\n",
    "                    # Track improvement\n",
    "                    epochs_no_improve = 0\n",
    "                    valid_loss_min = valid_loss\n",
    "                    valid_best_acc = valid_acc\n",
    "                    best_epoch = epoch\n",
    "\n",
    "                # Otherwise increment count of epochs with no improvement\n",
    "                else:\n",
    "                    epochs_no_improve += 1\n",
    "                    # Trigger early stopping\n",
    "                    if epochs_no_improve >= max_epochs_stop:\n",
    "                        print(\n",
    "                            f'\\nEarly Stopping! Total epochs: {epoch}. Best epoch: {best_epoch} with loss: {valid_loss_min:.2f} and acc: {100 * valid_acc:.2f}%'\n",
    "                        )\n",
    "                        total_time = timer() - overall_start\n",
    "                        print(\n",
    "                            f'{total_time:.2f} total seconds elapsed. {total_time / (epoch+1):.2f} seconds per epoch.'\n",
    "                        )\n",
    "\n",
    "                        # Load the best state dict\n",
    "                        model.load_state_dict(torch.load(save_file_name))\n",
    "                        # Attach the optimizer\n",
    "                        model.optimizer = optimizer\n",
    "\n",
    "                        # Format history\n",
    "                        history = pd.DataFrame(\n",
    "                            history,\n",
    "                            columns=[\n",
    "                                'train_loss', 'valid_loss', 'train_acc',\n",
    "                                'valid_acc'\n",
    "                            ])\n",
    "                        return model, history\n",
    "\n",
    "    # Attach the optimizer\n",
    "    model.optimizer = optimizer\n",
    "    # Record overall time and print out stats\n",
    "    total_time = timer() - overall_start\n",
    "    print(\n",
    "        f'\\nBest epoch: {best_epoch} with loss: {valid_loss_min:.2f} and acc: {100 * valid_acc:.2f}%'\n",
    "    )\n",
    "    print(\n",
    "        f'{total_time:.2f} total seconds elapsed. {total_time / (epoch):.2f} seconds per epoch.'\n",
    "    )\n",
    "    # Format history\n",
    "    history = pd.DataFrame(\n",
    "        history,\n",
    "        columns=['train_loss', 'valid_loss', 'train_acc', 'valid_acc'])\n",
    "    return model, history"
   ],
   "metadata": {
    "collapsed": false,
    "pycharm": {
     "name": "#%%\n"
    }
   }
  },
  {
   "cell_type": "code",
   "execution_count": 43,
   "outputs": [
    {
     "name": "stdout",
     "output_type": "stream",
     "text": [
      "Starting Training from Scratch.\n",
      "\n",
      "Epoch: 0\t100.00% complete. 46.08 seconds elapsed in epoch.\r\n",
      "Epoch: 0 \tTraining Loss: 0.2789 \tValidation Loss: 0.0279\n",
      "\t\tTraining Accuracy: 68.01%\t Validation Accuracy: 8.86%\n",
      "Epoch: 1\t100.00% complete. 46.39 seconds elapsed in epoch.\r\n",
      "Epoch: 1 \tTraining Loss: 0.2474 \tValidation Loss: 0.0240\n",
      "\t\tTraining Accuracy: 69.78%\t Validation Accuracy: 9.02%\n",
      "Epoch: 2\t100.00% complete. 46.29 seconds elapsed in epoch.\r\n",
      "Epoch: 2 \tTraining Loss: 0.2439 \tValidation Loss: 0.0235\n",
      "\t\tTraining Accuracy: 69.90%\t Validation Accuracy: 9.15%\n",
      "Epoch: 3\t100.00% complete. 45.15 seconds elapsed in epoch.\r\n",
      "Epoch: 3 \tTraining Loss: 0.2426 \tValidation Loss: 0.0247\n",
      "\t\tTraining Accuracy: 69.91%\t Validation Accuracy: 9.00%\n",
      "Epoch: 4\t100.00% complete. 45.09 seconds elapsed in epoch.\r\n",
      "Epoch: 4 \tTraining Loss: 0.2396 \tValidation Loss: 0.0235\n",
      "\t\tTraining Accuracy: 70.11%\t Validation Accuracy: 9.01%\n",
      "Epoch: 5\t100.00% complete. 44.85 seconds elapsed in epoch.\r\n",
      "Epoch: 5 \tTraining Loss: 0.2376 \tValidation Loss: 0.0262\n",
      "\t\tTraining Accuracy: 70.20%\t Validation Accuracy: 8.88%\n",
      "Epoch: 6\t100.00% complete. 44.87 seconds elapsed in epoch.\r\n",
      "Epoch: 6 \tTraining Loss: 0.2399 \tValidation Loss: 0.0257\n",
      "\t\tTraining Accuracy: 70.05%\t Validation Accuracy: 8.93%\n",
      "Epoch: 7\t100.00% complete. 44.89 seconds elapsed in epoch.\r\n",
      "Epoch: 7 \tTraining Loss: 0.2362 \tValidation Loss: 0.0321\n",
      "\t\tTraining Accuracy: 70.07%\t Validation Accuracy: 8.58%\n",
      "Epoch: 8\t100.00% complete. 44.92 seconds elapsed in epoch.\r\n",
      "Epoch: 8 \tTraining Loss: 0.2331 \tValidation Loss: 0.0225\n",
      "\t\tTraining Accuracy: 70.49%\t Validation Accuracy: 9.10%\n",
      "Epoch: 9\t100.00% complete. 45.01 seconds elapsed in epoch.\r\n",
      "Epoch: 9 \tTraining Loss: 0.2319 \tValidation Loss: 0.0267\n",
      "\t\tTraining Accuracy: 70.58%\t Validation Accuracy: 8.92%\n",
      "Epoch: 10\t100.00% complete. 44.89 seconds elapsed in epoch.\r\n",
      "Epoch: 10 \tTraining Loss: 0.2288 \tValidation Loss: 0.0241\n",
      "\t\tTraining Accuracy: 70.53%\t Validation Accuracy: 9.03%\n",
      "Epoch: 11\t100.00% complete. 44.94 seconds elapsed in epoch.\r\n",
      "Epoch: 11 \tTraining Loss: 0.2281 \tValidation Loss: 0.0259\n",
      "\t\tTraining Accuracy: 70.76%\t Validation Accuracy: 8.93%\n",
      "Epoch: 12\t100.00% complete. 44.87 seconds elapsed in epoch.\r\n",
      "Epoch: 12 \tTraining Loss: 0.2326 \tValidation Loss: 0.0258\n",
      "\t\tTraining Accuracy: 70.34%\t Validation Accuracy: 8.93%\n",
      "Epoch: 13\t100.00% complete. 44.88 seconds elapsed in epoch.\r\n",
      "Epoch: 13 \tTraining Loss: 0.2289 \tValidation Loss: 0.0283\n",
      "\t\tTraining Accuracy: 70.51%\t Validation Accuracy: 8.80%\n",
      "Epoch: 14\t100.00% complete. 44.89 seconds elapsed in epoch.\r\n",
      "Epoch: 14 \tTraining Loss: 0.2275 \tValidation Loss: 0.0306\n",
      "\t\tTraining Accuracy: 70.58%\t Validation Accuracy: 8.73%\n",
      "Epoch: 15\t100.00% complete. 44.92 seconds elapsed in epoch.\r\n",
      "Epoch: 15 \tTraining Loss: 0.2254 \tValidation Loss: 0.0264\n",
      "\t\tTraining Accuracy: 70.64%\t Validation Accuracy: 8.91%\n",
      "Epoch: 16\t100.00% complete. 44.88 seconds elapsed in epoch.\r\n",
      "Epoch: 16 \tTraining Loss: 0.2262 \tValidation Loss: 0.0228\n",
      "\t\tTraining Accuracy: 70.71%\t Validation Accuracy: 9.08%\n",
      "Epoch: 17\t100.00% complete. 44.90 seconds elapsed in epoch.\r\n",
      "Epoch: 17 \tTraining Loss: 0.2260 \tValidation Loss: 0.0274\n",
      "\t\tTraining Accuracy: 70.89%\t Validation Accuracy: 8.90%\n",
      "Epoch: 18\t100.00% complete. 44.90 seconds elapsed in epoch.\r\n",
      "Epoch: 18 \tTraining Loss: 0.2269 \tValidation Loss: 0.0252\n",
      "\t\tTraining Accuracy: 70.57%\t Validation Accuracy: 8.98%\n",
      "Epoch: 19\t100.00% complete. 44.98 seconds elapsed in epoch.\r\n",
      "Epoch: 19 \tTraining Loss: 0.2258 \tValidation Loss: 0.0306\n",
      "\t\tTraining Accuracy: 70.67%\t Validation Accuracy: 8.72%\n",
      "Epoch: 20\t100.00% complete. 44.89 seconds elapsed in epoch.\r\n",
      "Epoch: 20 \tTraining Loss: 0.2240 \tValidation Loss: 0.0304\n",
      "\t\tTraining Accuracy: 70.85%\t Validation Accuracy: 8.67%\n",
      "Epoch: 21\t100.00% complete. 44.91 seconds elapsed in epoch.\r\n",
      "Epoch: 21 \tTraining Loss: 0.2274 \tValidation Loss: 0.0213\n",
      "\t\tTraining Accuracy: 70.68%\t Validation Accuracy: 9.17%\n",
      "Epoch: 22\t100.00% complete. 45.00 seconds elapsed in epoch.\r\n",
      "Epoch: 22 \tTraining Loss: 0.2254 \tValidation Loss: 0.0288\n",
      "\t\tTraining Accuracy: 70.72%\t Validation Accuracy: 8.82%\n",
      "Epoch: 23\t100.00% complete. 45.00 seconds elapsed in epoch.\r\n",
      "Epoch: 23 \tTraining Loss: 0.2268 \tValidation Loss: 0.0233\n",
      "\t\tTraining Accuracy: 70.63%\t Validation Accuracy: 9.06%\n",
      "Epoch: 24\t100.00% complete. 45.14 seconds elapsed in epoch.\r\n",
      "Epoch: 24 \tTraining Loss: 0.2235 \tValidation Loss: 0.0265\n",
      "\t\tTraining Accuracy: 70.76%\t Validation Accuracy: 8.90%\n",
      "Epoch: 25\t100.00% complete. 46.52 seconds elapsed in epoch.\r\n",
      "Epoch: 25 \tTraining Loss: 0.2245 \tValidation Loss: 0.0279\n",
      "\t\tTraining Accuracy: 70.78%\t Validation Accuracy: 8.86%\n",
      "Epoch: 26\t100.00% complete. 45.85 seconds elapsed in epoch.\r\n",
      "Epoch: 26 \tTraining Loss: 0.2274 \tValidation Loss: 0.0225\n",
      "\t\tTraining Accuracy: 70.77%\t Validation Accuracy: 9.10%\n",
      "Epoch: 27\t100.00% complete. 46.19 seconds elapsed in epoch.\r\n",
      "Epoch: 27 \tTraining Loss: 0.2246 \tValidation Loss: 0.0267\n",
      "\t\tTraining Accuracy: 70.87%\t Validation Accuracy: 8.86%\n",
      "Epoch: 28\t100.00% complete. 46.27 seconds elapsed in epoch.\r\n",
      "Epoch: 28 \tTraining Loss: 0.2225 \tValidation Loss: 0.0258\n",
      "\t\tTraining Accuracy: 70.88%\t Validation Accuracy: 8.94%\n",
      "Epoch: 29\t100.00% complete. 45.25 seconds elapsed in epoch.\r\n",
      "Epoch: 29 \tTraining Loss: 0.2256 \tValidation Loss: 0.0238\n",
      "\t\tTraining Accuracy: 70.67%\t Validation Accuracy: 9.02%\n",
      "\n",
      "Best epoch: 21 with loss: 0.02 and acc: 9.02%\n",
      "1562.80 total seconds elapsed. 53.89 seconds per epoch.\n"
     ]
    }
   ],
   "source": [
    "criterion = nn.NLLLoss()\n",
    "optimizer = optim.Adam(model.parameters(), lr=.001)\n",
    "model, history = train(\n",
    "    model,\n",
    "    criterion,\n",
    "    optimizer,\n",
    "    train_loader,\n",
    "    valid_loader,\n",
    "    save_file_name='file_save_name',\n",
    "    max_epochs_stop=20,\n",
    "    n_epochs=30,\n",
    "    print_every=1)"
   ],
   "metadata": {
    "collapsed": false,
    "pycharm": {
     "name": "#%%\n"
    }
   }
  },
  {
   "cell_type": "code",
   "execution_count": 44,
   "outputs": [
    {
     "data": {
      "text/plain": "Text(0.5, 1.0, 'Training and Validation Losses')"
     },
     "execution_count": 44,
     "metadata": {},
     "output_type": "execute_result"
    },
    {
     "data": {
      "text/plain": "<Figure size 576x432 with 1 Axes>",
      "image/png": "[encoded data removed]"
     },
     "metadata": {
      "needs_background": "light"
     },
     "output_type": "display_data"
    }
   ],
   "source": [
    "\n",
    "plt.figure(figsize=(8, 6))\n",
    "for c in ['train_loss', 'valid_loss']:\n",
    "    plt.plot(\n",
    "        history[c], label=c)\n",
    "plt.legend()\n",
    "plt.xlabel('Epoch')\n",
    "plt.ylabel('Average Negative Log Likelihood')\n",
    "plt.title('Training and Validation Losses')"
   ],
   "metadata": {
    "collapsed": false,
    "pycharm": {
     "name": "#%%\n"
    }
   }
  },
  {
   "cell_type": "code",
   "execution_count": 45,
   "outputs": [
    {
     "data": {
      "text/plain": "Text(0.5, 1.0, 'Training and Validation Accuracy')"
     },
     "execution_count": 45,
     "metadata": {},
     "output_type": "execute_result"
    },
    {
     "data": {
      "text/plain": "<Figure size 576x432 with 1 Axes>",
      "image/png": "[encoded data removed]"
     },
     "metadata": {
      "needs_background": "light"
     },
     "output_type": "display_data"
    }
   ],
   "source": [
    "plt.figure(figsize=(8, 6))\n",
    "for c in ['train_acc', 'valid_acc']:\n",
    "    plt.plot(\n",
    "        100 * history[c], label=c)\n",
    "plt.legend()\n",
    "plt.xlabel('Epoch')\n",
    "plt.ylabel('Average Accuracy')\n",
    "plt.title('Training and Validation Accuracy')\n"
   ],
   "metadata": {
    "collapsed": false,
    "pycharm": {
     "name": "#%%\n"
    }
   }
  },
  {
   "cell_type": "markdown",
   "source": [
    "Report your results on the holdout set"
   ],
   "metadata": {
    "collapsed": false
   }
  },
  {
   "cell_type": "code",
   "execution_count": 46,
   "outputs": [
    {
     "name": "stdout",
     "output_type": "stream",
     "text": [
      "Holdout Accuracy: 8.97%\n"
     ]
    }
   ],
   "source": [
    "holdout_loss = 0.0\n",
    "holdout_acc = 0\n",
    "\n",
    "#test_loader.dataset.t\n",
    "\n",
    "with torch.no_grad():\n",
    "    # Set to evaluation mode\n",
    "    model.eval()\n",
    "\n",
    "    # Validation loop\n",
    "    for data, target in test_loader:\n",
    "        if train_on_gpu:\n",
    "            data, target = data.cuda(), target.cuda()\n",
    "\n",
    "        # Forward pass\n",
    "        output = model(data)\n",
    "\n",
    "        # Validation loss\n",
    "        loss = criterion(output, target)\n",
    "        # Multiply average loss times the number of examples in batch\n",
    "        holdout_loss += loss.item() * data.size(0)\n",
    "\n",
    "        # Calculate validation accuracy\n",
    "        _, pred = torch.max(output, dim=1)\n",
    "        correct_tensor = pred.eq(target.data.view_as(pred))\n",
    "        accuracy = torch.mean(correct_tensor.type(torch.FloatTensor))\n",
    "        # Multiply average accuracy times the number of examples\n",
    "        holdout_acc += accuracy.item() * data.size(0)\n",
    "\n",
    "    # Calculate average losses\n",
    "    holdout_loss = holdout_loss / len(test_loader.dataset)\n",
    "\n",
    "    # Calculate average accuracy\n",
    "    holdout_acc = holdout_acc / len(test_loader.dataset)\n",
    "    holdout_acc = round(holdout_acc*100, 2)\n",
    "\n",
    "print(f'Holdout Accuracy: {holdout_acc}%')"
   ],
   "metadata": {
    "collapsed": false,
    "pycharm": {
     "name": "#%%\n"
    }
   }
  }
 ],
 "metadata": {
  "kernelspec": {
   "display_name": "Python 3",
   "language": "python",
   "name": "python3"
  },
  "language_info": {
   "codemirror_mode": {
    "name": "ipython",
    "version": 2
   },
   "file_extension": ".py",
   "mimetype": "text/x-python",
   "name": "python",
   "nbconvert_exporter": "python",
   "pygments_lexer": "ipython2",
   "version": "2.7.6"
  }
 },
 "nbformat": 4,
 "nbformat_minor": 0
}