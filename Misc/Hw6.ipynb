{
 "cells": [
  {
   "cell_type": "markdown",
   "metadata": {
    "collapsed": true,
    "pycharm": {
     "name": "#%% md\n"
    }
   },
   "source": [
    "Homework 6 <br>\n",
    "Sam Odle"
   ]
  },
  {
   "cell_type": "code",
   "execution_count": 3,
   "outputs": [],
   "source": [
    "import torch\n",
    "from torch.backends import cudnn\n",
    "from torchvision import datasets, transforms\n",
    "import matplotlib.pyplot as plt\n",
    "import numpy\n",
    "from torch import nn, optim\n",
    "import torch.nn.functional as F\n",
    "import random\n",
    "import warnings\n",
    "import argparse"
   ],
   "metadata": {
    "collapsed": false,
    "pycharm": {
     "name": "#%%\n"
    }
   }
  },
  {
   "cell_type": "markdown",
   "source": [
    "GPU Implementation"
   ],
   "metadata": {
    "collapsed": false
   }
  },
  {
   "cell_type": "code",
   "execution_count": 4,
   "outputs": [
    {
     "name": "stdout",
     "output_type": "stream",
     "text": [
      "cuda\n",
      "__CUDNN VERSION: 8200\n",
      "__Number CUDA Devices: 1\n",
      "__CUDA Device Name: NVIDIA GeForce RTX 2080 Ti\n",
      "__CUDA Device Total Memory [GB]: 11.810832384\n"
     ]
    }
   ],
   "source": [
    "CUDA_DEVICE = torch.device('cuda' if torch.cuda.is_available() else 'cpu')\n",
    "print(CUDA_DEVICE)\n",
    "\n",
    "\n",
    "print('__CUDNN VERSION:', torch.backends.cudnn.version())\n",
    "print('__Number CUDA Devices:', torch.cuda.device_count())\n",
    "print('__CUDA Device Name:',torch.cuda.get_device_name(0))\n",
    "print('__CUDA Device Total Memory [GB]:',torch.cuda.get_device_properties(0).total_memory/1e9)\n"
   ],
   "metadata": {
    "collapsed": false,
    "pycharm": {
     "name": "#%%\n"
    }
   }
  },
  {
   "cell_type": "markdown",
   "source": [
    "### Download the Fashion MNIST dataset\n",
    "\n",
    "And convert it into a format (a tensor) that pytorch understands. A tensor can be thought of as matrix (you get to define the dimensions).\n",
    "\n",
    "Feed the raw images and their labels into a DataLoader that will serve them up in batches to train the model."
   ],
   "metadata": {
    "collapsed": false
   }
  },
  {
   "cell_type": "code",
   "execution_count": 5,
   "outputs": [],
   "source": [
    "# Define a transform for the data\n",
    "transform = transforms.Compose([transforms.ToTensor()])\n",
    "#transform.to(device)\n",
    "\n",
    "# Download and load the training data\n",
    "trainset = datasets.FashionMNIST('~/.pytorch/F_MNIST_data/', download=True, train=True, transform=transform)\n",
    "#trainset.to(device)\n",
    "trainloader = torch.utils.data.DataLoader(trainset, batch_size=64, shuffle=True)\n",
    "#trainloader.to(device)\n",
    "\n",
    "# Download and load the test data\n",
    "testset = datasets.FashionMNIST('~/.pytorch/F_MNIST_data/', download=True, train=False, transform=transform)\n",
    "#testset.to(device)\n",
    "testloader = torch.utils.data.DataLoader(testset, batch_size=64, shuffle=True)\n",
    "#testloader.to(device)\n"
   ],
   "metadata": {
    "collapsed": false,
    "pycharm": {
     "name": "#%%\n"
    }
   }
  },
  {
   "cell_type": "markdown",
   "source": [
    "### View a sample image and label\n",
    "We need to reshape the tensor and feed those pixels into a display library"
   ],
   "metadata": {
    "collapsed": false
   }
  },
  {
   "cell_type": "code",
   "execution_count": 6,
   "outputs": [
    {
     "name": "stdout",
     "output_type": "stream",
     "text": [
      "Label of image tensor(1)\n",
      "(1, 28, 28)\n"
     ]
    },
    {
     "data": {
      "text/plain": "<Figure size 432x288 with 1 Axes>",
      "image/png": "[encoded data removed]"
     },
     "metadata": {
      "needs_background": "light"
     },
     "output_type": "display_data"
    }
   ],
   "source": [
    "tensor_image, label = next(iter(trainloader)) # returns a batch of images\n",
    "tensor_image.to(CUDA_DEVICE)\n",
    "label.to(CUDA_DEVICE)\n",
    "print(\"Label of image\", label[0])\n",
    "first_image = numpy.array(tensor_image, dtype='float')[0] # get the first image in the batch\n",
    "print(first_image.shape)\n",
    "pixels = first_image.reshape((28, 28))\n",
    "plt.imshow(pixels, cmap='gray')\n",
    "plt.show()"
   ],
   "metadata": {
    "collapsed": false,
    "pycharm": {
     "name": "#%%\n"
    }
   }
  },
  {
   "cell_type": "markdown",
   "source": [
    "### Define your model\n",
    "We will have three hidden layers, an input later, and then an output layer. All nodes are Linear nodes (using linear activation).\n",
    "\n",
    "The input layer takes 784 == 28x28 features, corresponding to our greyscale input images.\n",
    "The three hidden layers have 256, 128, and 64 neurons respectively; each previous layer's neurons all feed into each neuron in the next layer (\"fully connected\").\n",
    "The final layer has ten neurons, one representing each of the ten possible classes for this model.\n",
    "\n",
    "Under the forward method, we define the activation function for each later: we're using ReLu for all the hidden layers. In the last layer, we're switching to softmax so we can get the probabilities for each class."
   ],
   "metadata": {
    "collapsed": false
   }
  },
  {
   "cell_type": "code",
   "execution_count": 7,
   "outputs": [],
   "source": [
    "# Define your network architecture here\n",
    "class Classifier(nn.Module):\n",
    "    def __init__(self):\n",
    "        super().__init__()\n",
    "        self.fc1 = nn.Linear(784, 256)\n",
    "        self.fc2 = nn.Linear(256, 128)\n",
    "        self.fc3 = nn.Linear(128, 64)\n",
    "        self.fc4 = nn.Linear(64, 10)\n",
    "        \n",
    "    def forward(self, x):\n",
    "        # make sure input tensor is flattened\n",
    "        x = x.view(x.shape[0], -1) # -1 means we'll let the computer figure out how many rows to include\n",
    "        \n",
    "        x = F.relu(self.fc1(x))\n",
    "        x = F.relu(self.fc2(x))\n",
    "        x = F.relu(self.fc3(x))\n",
    "        x = F.softmax(self.fc4(x), dim=1)\n",
    "        \n",
    "        return x"
   ],
   "metadata": {
    "collapsed": false,
    "pycharm": {
     "name": "#%%\n"
    }
   }
  },
  {
   "cell_type": "markdown",
   "source": [
    "### Training the model\n",
    "We choose a learning rate (lr) and some number of epochs, with the goal that the loss is going down each epoch until model convergence on the minimum loss (estimated)."
   ],
   "metadata": {
    "collapsed": false
   }
  },
  {
   "cell_type": "code",
   "execution_count": 11,
   "outputs": [
    {
     "name": "stdout",
     "output_type": "stream",
     "text": [
      "In epoch 0\n",
      "\tTraining loss: 1.8692638332655689\n",
      "\tValidation loss: 1.7042128295655463\n",
      "In epoch 1\n",
      "\tTraining loss: 1.684629597770634\n",
      "\tValidation loss: 1.672311230829567\n",
      "In epoch 2\n",
      "\tTraining loss: 1.669388559708463\n",
      "\tValidation loss: 1.6660853973619498\n",
      "In epoch 3\n",
      "\tTraining loss: 1.6610548723735281\n",
      "\tValidation loss: 1.6613141366630604\n",
      "In epoch 4\n",
      "\tTraining loss: 1.657216088476974\n",
      "\tValidation loss: 1.6608641944873106\n",
      "In epoch 5\n",
      "\tTraining loss: 1.6533906703818835\n",
      "\tValidation loss: 1.6711284802977446\n",
      "In epoch 6\n",
      "\tTraining loss: 1.6484404396909131\n",
      "\tValidation loss: 1.6590384093059856\n",
      "In epoch 7\n",
      "\tTraining loss: 1.6445606447486227\n",
      "\tValidation loss: 1.6931577579231019\n",
      "In epoch 8\n",
      "\tTraining loss: 1.6428488124408194\n",
      "\tValidation loss: 1.6724887699078603\n",
      "In epoch 9\n",
      "\tTraining loss: 1.64063304395818\n",
      "\tValidation loss: 1.644675995893539\n",
      "In epoch 10\n",
      "\tTraining loss: 1.6379204823264182\n",
      "\tValidation loss: 1.655404717299589\n",
      "In epoch 11\n",
      "\tTraining loss: 1.6376395280173084\n",
      "\tValidation loss: 1.6994319015247807\n",
      "In epoch 12\n",
      "\tTraining loss: 1.6357850093068853\n",
      "\tValidation loss: 1.6689207424783403\n",
      "In epoch 13\n",
      "\tTraining loss: 1.6363637183012485\n",
      "\tValidation loss: 1.6586428994585753\n",
      "In epoch 14\n",
      "\tTraining loss: 1.6357246026047256\n",
      "\tValidation loss: 1.6615107940260772\n",
      "In epoch 15\n",
      "\tTraining loss: 1.6334323500519368\n",
      "\tValidation loss: 1.6404211217430746\n",
      "In epoch 16\n",
      "\tTraining loss: 1.631511964523462\n",
      "\tValidation loss: 1.6411089585844878\n",
      "In epoch 17\n",
      "\tTraining loss: 1.6304447701744942\n",
      "\tValidation loss: 1.6456898610303357\n",
      "In epoch 18\n",
      "\tTraining loss: 1.6296421942680375\n",
      "\tValidation loss: 1.6412036525216072\n",
      "In epoch 19\n",
      "\tTraining loss: 1.6293135793732683\n",
      "\tValidation loss: 1.645390365533768\n"
     ]
    }
   ],
   "source": [
    "# store train and validation loss in separate arrays, one for each epoch, and graph this!! be careful about eval vs train mode\n",
    "\n",
    "# Create the custom network above, define the loss criterion, and choose an optimizer to learn weights\n",
    "model = Classifier().to(CUDA_DEVICE)\n",
    "model.to(CUDA_DEVICE) # GPU IMPLEMENTATION\n",
    "loss_criterion = nn.CrossEntropyLoss()##.to(CUDA_DEVICE)\n",
    "##loss_criterion.to(CUDA_DEVICE)\n",
    "optimizer = optim.SGD(model.parameters(), lr=0.3)\n",
    "#optimizer.to(CUDA_DEVICE)\n",
    "\n",
    "# Train the network here\n",
    "epochs = 20\n",
    "\n",
    "val_losses = []\n",
    "train_losses = []\n",
    "\n",
    "for e in range(epochs):\n",
    "    print(\"In epoch\", e)\n",
    "    running_loss = 0\n",
    "    running_loss_V = 0\n",
    "\n",
    "    model.train()\n",
    "    #model.to(device)\n",
    "    for images, labels in trainloader: # processing one batch at a time\n",
    "        images = images.to(CUDA_DEVICE)\n",
    "        labels = labels.to(CUDA_DEVICE)\n",
    "        predictions = model(images) # predict labels\n",
    "        loss = loss_criterion(predictions, labels) # calculate the loss\n",
    "\n",
    "        # BACK PROPAGATION OF LOSS to generate updated weights\n",
    "        optimizer.zero_grad() # pytorch accumulates gradients from previous backwards\n",
    "                              # passes by default -- we want to zero them out;\n",
    "                              # you can read online why they have this implementation choice\n",
    "        loss.backward() # compute gradients by using the predictions' grad_fn\n",
    "                        # that was passed to loss_criterion() above -- this is how it\n",
    "                        # knows what model parameters need updating eventually\n",
    "                        # (this is confusing IMO and not obvious to those used to OOP)\n",
    "        optimizer.step() # using gradients just calculated for model parameters, \n",
    "                         # update the weights via the optimizer (which was init with those \n",
    "                         # model parameters)\n",
    "\n",
    "        running_loss += loss.item()\n",
    "\n",
    "    model.eval()##.to(CUDA_DEVICE)\n",
    "    for images_V, labels_V in testloader:\n",
    "        images_V = images_V.to(CUDA_DEVICE)\n",
    "        labels_V = labels_V.to(CUDA_DEVICE)\n",
    "        predictions_V = model(images_V) # predict labels\n",
    "        loss_V = loss_criterion(predictions_V, labels_V) # calculate the loss\n",
    "\n",
    "\n",
    "        running_loss_V += loss_V.item()\n",
    "\n",
    "    train_losses.append(running_loss/len(trainloader))\n",
    "    val_losses.append(running_loss_V/len(testloader))\n",
    "\n",
    "    print(f\"\\tTraining loss: {running_loss/len(trainloader)}\")\n",
    "    print(f\"\\tValidation loss: {running_loss_V/len(testloader)}\")"
   ],
   "metadata": {
    "collapsed": false,
    "pycharm": {
     "name": "#%%\n"
    }
   }
  },
  {
   "cell_type": "markdown",
   "source": [
    "## Graph of Training & Validation Loss"
   ],
   "metadata": {
    "collapsed": false
   }
  },
  {
   "cell_type": "code",
   "execution_count": 12,
   "outputs": [
    {
     "data": {
      "text/plain": "<Figure size 720x1080 with 1 Axes>",
      "image/png": "[encoded data removed]"
     },
     "metadata": {
      "needs_background": "light"
     },
     "output_type": "display_data"
    }
   ],
   "source": [
    "plt.figure(figsize=(10,15))\n",
    "plt.title(\"Training and Validation Loss\")\n",
    "plt.plot(val_losses,label=\"val\")\n",
    "plt.plot(train_losses,label=\"train\")\n",
    "plt.xlabel(\"Iterations\")\n",
    "plt.ylabel(\"Loss\")\n",
    "plt.legend()\n",
    "plt.show()\n",
    "\n"
   ],
   "metadata": {
    "collapsed": false,
    "pycharm": {
     "name": "#%%\n"
    }
   }
  },
  {
   "cell_type": "markdown",
   "source": [
    "## Training vs Validation Loss Discussion\n",
    "The validation loss (in blue above) out-performs the training loss (orange) for the first two epochs then is comparable to worse for the remaining epochs.  It is possible, looking at the final four epochs, that the model has started to overfit.  The 4th to last epoch has lower validation loss than the final three epochs. During those same four epochs, the training loss continues to trend downward.   Interestingly the validation loss line only rarely trends in the same direction twice in a row, and never more.  The cause of this may be features or characteristics of images in the validation set that are not in the training set.\n",
    "\n",
    "<br><br><br>\n",
    "### Making predictions\n",
    "Once we've trained the model, we can grab an image and pull out information about its predicted class."
   ],
   "metadata": {
    "collapsed": false
   }
  },
  {
   "cell_type": "code",
   "execution_count": 17,
   "outputs": [
    {
     "data": {
      "text/plain": "<Figure size 432x288 with 1 Axes>",
      "image/png": "[encoded data removed]"
     },
     "metadata": {
      "needs_background": "light"
     },
     "output_type": "display_data"
    },
    {
     "name": "stdout",
     "output_type": "stream",
     "text": [
      "tensor([[3.0806e-23, 1.0171e-17, 1.0058e-04, 2.3033e-15, 9.9990e-01, 9.7217e-15,\n",
      "         1.9791e-17, 4.0878e-28, 3.0920e-17, 1.2038e-33]], device='cuda:0',\n",
      "       grad_fn=<SoftmaxBackward0>)\n",
      "max_prob 0.9998994\n",
      "Predicted label:  4\n",
      "Target label:  4\n",
      "Successful prediction!\n"
     ]
    }
   ],
   "source": [
    "# Test the trained model\n",
    "tensor_image, label = next(iter(testloader)) # returns a batch of images\n",
    "tensor_image = tensor_image.to(CUDA_DEVICE)\n",
    "label = label.to(CUDA_DEVICE)\n",
    "\n",
    "#print(\"Target label of image: \", label[0])\n",
    "first_image = numpy.array(tensor_image.cpu(), dtype='float')[0] # get the first image in the batch\n",
    "\n",
    "#print(first_image.shape)\n",
    "pixels = first_image.reshape((28, 28))\n",
    "plt.imshow(pixels, cmap='gray')\n",
    "plt.show()\n",
    "\n",
    "prediction = model(tensor_image[0])\n",
    "print(prediction)\n",
    "prediction = prediction.cpu().detach().numpy()\n",
    "max_prob = max(list(numpy.array(prediction)[0]))\n",
    "print('max_prob', max_prob)\n",
    "predicted_label = list(prediction[0]).index(max_prob)\n",
    "print(\"Predicted label: \", predicted_label)\n",
    "\n",
    "tgt_lbl = label[0].item()\n",
    "print(\"Target label: \", tgt_lbl)\n",
    "\n",
    "if tgt_lbl == predicted_label:\n",
    "    print(\"Successful prediction!\")\n",
    "else:\n",
    "    print(\"Not quite...\")"
   ],
   "metadata": {
    "collapsed": false,
    "pycharm": {
     "name": "#%%\n"
    }
   }
  },
  {
   "cell_type": "markdown",
   "source": [
    "### Accuracy for each batch"
   ],
   "metadata": {
    "collapsed": false
   }
  },
  {
   "cell_type": "code",
   "execution_count": 19,
   "outputs": [
    {
     "name": "stdout",
     "output_type": "stream",
     "text": [
      "++++++++4+++0++7++++++++++30++++++++++++++4++++++++3+0+++++++4++\n",
      "Accuracy: 85.94% for 64 images.\n"
     ]
    }
   ],
   "source": [
    "# Test the trained model\n",
    "tensor_image, label = next(iter(testloader)) # returns a batch of images\n",
    "tensor_image = tensor_image.to(CUDA_DEVICE)\n",
    "label = label.to(CUDA_DEVICE)\n",
    "\n",
    "correct = 0\n",
    "incorrect = 0\n",
    "\n",
    "for i in range(len(label.tolist())):\n",
    "    first_image = numpy.array(tensor_image.cpu(), dtype='float')[i] # get the first image in the batch\n",
    "\n",
    "    prediction = model(tensor_image[i])\n",
    "    prediction = prediction.cpu().detach().numpy()\n",
    "    max_prob = max(list(numpy.array(prediction)[0]))\n",
    "    predicted_label = list(prediction[0]).index(max_prob)\n",
    "\n",
    "    if label[i].item() == predicted_label:\n",
    "        correct += 1\n",
    "        print('+', end = '')\n",
    "    else:\n",
    "        incorrect += 1\n",
    "        print(predicted_label, end = '') #let's take a look at what we're missing\n",
    "\n",
    "accuracy = round(correct * 100 / (correct + incorrect), 2)\n",
    "print('')\n",
    "print(f'Accuracy: {accuracy}% for {correct + incorrect} images.')"
   ],
   "metadata": {
    "collapsed": false,
    "pycharm": {
     "name": "#%%\n"
    }
   }
  },
  {
   "cell_type": "markdown",
   "source": [
    "### Playground\n",
    "\n",
    "What happens when you: <br>\n",
    " <br>**1. Use a much smaller learning rate for the model?** <br>\n",
    "    Using the initial learning rate of 0.3, the model settles into a loss of ~1.7 after 7/8 epochs. <br>\n",
    "User larger learning rates (around 0.5), the lost evens out quicker but appears to remain more variable after the mean appears to stabilize.\n",
    "\n",
    "<br> <br>**2. Feed in the entire test dataset to the model, to make predictions? Could you write code to do this, and measure your model performance?** <br>"
   ],
   "metadata": {
    "collapsed": false
   }
  },
  {
   "cell_type": "code",
   "execution_count": 22,
   "outputs": [
    {
     "name": "stdout",
     "output_type": "stream",
     "text": [
      "Accuracy: 10.49% for 10000 images.\n"
     ]
    }
   ],
   "source": [
    "# This is not quite right...    Test on ALL the images\n",
    "correct_net = 0\n",
    "incorrect_net = 0\n",
    "\n",
    "for imagesX, labelsX in testloader:\n",
    "    imagesX = imagesX.to(CUDA_DEVICE)\n",
    "    labelsX = labelsX.to(CUDA_DEVICE)\n",
    "    for i in range(len(labelsX.tolist())):\n",
    "        first_image = numpy.array(imagesX.cpu(), dtype='float')[i] # get the ith image in the batch\n",
    "\n",
    "        prediction = model(imagesX[i])\n",
    "        prediction = prediction.cpu().detach().numpy()\n",
    "        max_prob = max(list(numpy.array(prediction)[0]))\n",
    "        predicted_label = list(prediction[0]).index(max_prob)\n",
    "\n",
    "        #print(f' {label[i].item()}/{predicted_label}', end = '')\n",
    "\n",
    "        if label[i].item() == predicted_label:\n",
    "            correct_net += 1\n",
    "            #print('+', end = '')\n",
    "        else:\n",
    "            incorrect_net += 1\n",
    "            #print(predicted_label, end = '') #let's take a look at what we're missing\n",
    "\n",
    "\n",
    "accuracy_net = round(correct_net * 100 / (correct_net + incorrect_net), 2)\n",
    "print(f'Accuracy: {accuracy_net}% for {correct_net + incorrect_net} images.')"
   ],
   "metadata": {
    "collapsed": false,
    "pycharm": {
     "name": "#%%\n"
    }
   }
  },
  {
   "cell_type": "markdown",
   "source": [
    "  <br> <br>**3. Train the model on only one epoch?** <br>\n",
    "Training the model on only one epoch results in even higher loss & likely some gross underfitting."
   ],
   "metadata": {
    "collapsed": false
   }
  }
 ],
 "metadata": {
  "kernelspec": {
   "display_name": "Python 3",
   "language": "python",
   "name": "python3"
  },
  "language_info": {
   "codemirror_mode": {
    "name": "ipython",
    "version": 2
   },
   "file_extension": ".py",
   "mimetype": "text/x-python",
   "name": "python",
   "nbconvert_exporter": "python",
   "pygments_lexer": "ipython2",
   "version": "2.7.6"
  }
 },
 "nbformat": 4,
 "nbformat_minor": 0
}