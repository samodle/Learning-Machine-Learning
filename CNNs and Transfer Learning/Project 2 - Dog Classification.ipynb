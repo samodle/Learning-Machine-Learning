{
 "cells": [
  {
   "cell_type": "markdown",
   "source": [
    "GPU Implementation"
   ],
   "metadata": {
    "collapsed": false
   }
  },
  {
   "cell_type": "code",
   "execution_count": 33,
   "outputs": [
    {
     "name": "stdout",
     "output_type": "stream",
     "text": [
      "Train on gpu: True\n",
      "1 gpus detected.\n",
      "cuda\n",
      "__CUDNN VERSION: 8200\n",
      "__Number CUDA Devices: 1\n",
      "__CUDA Device Name: NVIDIA GeForce RTX 2080 Ti\n",
      "__CUDA Device Total Memory [GB]: 11.810832384\n"
     ]
    }
   ],
   "source": [
    "import torch\n",
    "\n",
    "# Whether to train on a gpu\n",
    "train_on_gpu = torch.cuda.is_available()\n",
    "print(f'Train on gpu: {train_on_gpu}')\n",
    "\n",
    "# Number of gpus\n",
    "if train_on_gpu:\n",
    "    gpu_count = torch.cuda.device_count()\n",
    "    print(f'{gpu_count} gpus detected.')\n",
    "    if gpu_count > 1:\n",
    "        multi_gpu = True\n",
    "    else:\n",
    "        multi_gpu = False\n",
    "\n",
    "CUDA_DEVICE = torch.device('cuda' if torch.cuda.is_available() else 'cpu')\n",
    "print(CUDA_DEVICE)\n",
    "\n",
    "\n",
    "print('__CUDNN VERSION:', torch.backends.cudnn.version())\n",
    "print('__Number CUDA Devices:', torch.cuda.device_count())\n",
    "print('__CUDA Device Name:',torch.cuda.get_device_name(0))\n",
    "print('__CUDA Device Total Memory [GB]:',torch.cuda.get_device_properties(0).total_memory/1e9)\n",
    "\n"
   ],
   "metadata": {
    "collapsed": false,
    "pycharm": {
     "name": "#%%\n"
    }
   }
  },
  {
   "cell_type": "code",
   "execution_count": 2,
   "outputs": [],
   "source": [
    "import pandas as pd\n",
    "pd.set_option(\"display.max_rows\", None)"
   ],
   "metadata": {
    "collapsed": false,
    "pycharm": {
     "name": "#%%\n"
    }
   }
  },
  {
   "cell_type": "markdown",
   "source": [
    "# Part 1 & 2: Dataset Download And Extraction\n",
    "\n",
    "###### Create train and holdout folders, where each folder has the three classes as subfolders. Discuss in a markdown cell how many images you chose to have in each class' holdout folder. (Note: you can move images into the folders by hand if you don't want to write a script, but make sure you don't have the same images in train and holdout). Make sure all the class names are the same across folders. Now repeat the process for train and validation, so that you have a train, validation, and holdout folders at the same directory level. Discuss how/why you chose what's in your holdout.\t5 points\n",
    "\n",
    "Image Count Discussion:\n",
    "<br>\n",
    "I started by setting the number of training images to the number used in the paper (http://vision.stanford.edu/aditya86/ImageNetDogs/)  Although they used the full remainder of the balance of the images for testing, I wanted some for holdout validation and so split the remainder roughly in half between validation and holdout."
   ],
   "metadata": {
    "collapsed": false
   }
  },
  {
   "cell_type": "code",
   "execution_count": 29,
   "outputs": [
    {
     "name": "stdout",
     "output_type": "stream",
     "text": [
      "Directory Created: train/\n",
      "Directory Created: train/\n",
      "Directory Created: train/\n",
      "Directory Created: test/\n",
      "Directory Created: test/\n",
      "Directory Created: test/\n",
      "Directory Created: holdout/\n",
      "Directory Created: holdout/\n",
      "Directory Created: holdout/\n"
     ]
    }
   ],
   "source": [
    "import os, shutil\n",
    "import random\n",
    "\n",
    "directory = '/Users/samodle/Documents/Repos/SimpleMachineLearningProjects/CNNs and Transfer Learning/Images/'\n",
    "\n",
    "num_training_images_per_breed = 100\n",
    "num_test_images_per_breed = 25\n",
    "source_paths = ['n02109047-Great_Dane', 'n02094258-Norwich_terrier', 'n02094114-Norfolk_terrier']\n",
    "destination_paths = ['train/', 'test/', 'holdout/']\n",
    "\n",
    "dest_train = 0\n",
    "dest_test = 1\n",
    "dest_holdout = 2\n",
    "\n",
    "for path in destination_paths:\n",
    "    if not os.path.exists(directory + path):\n",
    "      # Create a new directory because it does not exist\n",
    "      os.makedirs(directory + path)\n",
    "      print(f'Directory Created: {path}')\n",
    "    else:\n",
    "        print(f'Already Exists: {path}')\n",
    "\n",
    "    if not os.path.exists(directory + path + 'great_dane/'):\n",
    "        os.makedirs(directory + path + 'great_dane/')\n",
    "        print(f'Directory Created: {path}')\n",
    "\n",
    "    if not os.path.exists(directory + path + 'norwich_terrier/'):\n",
    "        os.makedirs(directory + path + 'norwich_terrier/')\n",
    "\n",
    "    if not os.path.exists(directory + path + 'norfolk_terrier/'):\n",
    "        os.makedirs(directory + path + 'norfolk_terrier/')\n",
    "        print(f'Directory Created: {path}')\n",
    "\n"
   ],
   "metadata": {
    "collapsed": false,
    "pycharm": {
     "name": "#%%\n"
    }
   }
  },
  {
   "cell_type": "code",
   "execution_count": 30,
   "outputs": [
    {
     "name": "stdout",
     "output_type": "stream",
     "text": [
      "['n02109047_28208.jpg', 'n02109047_25342.jpg', 'n02109047_9503.jpg', 'n02109047_9604.jpg', 'n02109047_28433.jpg', 'n02109047_1876.jpg', 'n02109047_6265.jpg', 'n02109047_4267.jpg', 'n02109047_6680.jpg', 'n02109047_7072.jpg', 'n02109047_7156.jpg', 'n02109047_31274.jpg', 'n02109047_12678.jpg', 'n02109047_23852.jpg', 'n02109047_13868.jpg', 'n02109047_2851.jpg', 'n02109047_31117.jpg', 'n02109047_875.jpg', 'n02109047_23058.jpg', 'n02109047_2553.jpg', 'n02109047_33588.jpg', 'n02109047_1672.jpg', 'n02109047_5618.jpg', 'n02109047_17629.jpg', 'n02109047_2630.jpg']\n",
      "['n02109047_8090.jpg', 'n02109047_6447.jpg', 'n02109047_13016.jpg', 'n02109047_20023.jpg', 'n02109047_26860.jpg', 'n02109047_25603.jpg', 'n02109047_24340.jpg', 'n02109047_2859.jpg', 'n02109047_18490.jpg', 'n02109047_2527.jpg', 'n02109047_5936.jpg', 'n02109047_33029.jpg', 'n02109047_22481.jpg', 'n02109047_21567.jpg', 'n02109047_13072.jpg', 'n02109047_94.jpg', 'n02109047_3001.jpg', 'n02109047_5910.jpg', 'n02109047_13730.jpg', 'n02109047_24773.jpg', 'n02109047_25291.jpg', 'n02109047_2465.jpg', 'n02109047_1533.jpg', 'n02109047_3643.jpg', 'n02109047_7227.jpg', 'n02109047_31522.jpg', 'n02109047_34102.jpg', 'n02109047_1284.jpg', 'n02109047_9396.jpg', 'n02109047_1480.jpg', 'n02109047_17874.jpg']\n",
      "['n02094258_1897.jpg', 'n02094258_773.jpg', 'n02094258_2070.jpg', 'n02094258_2107.jpg', 'n02094258_1460.jpg', 'n02094258_61.jpg', 'n02094258_2159.jpg', 'n02094258_3020.jpg', 'n02094258_237.jpg', 'n02094258_95.jpg', 'n02094258_1775.jpg', 'n02094258_2767.jpg', 'n02094258_3329.jpg', 'n02094258_2908.jpg', 'n02094258_1291.jpg', 'n02094258_310.jpg', 'n02094258_1825.jpg', 'n02094258_81.jpg', 'n02094258_1408.jpg', 'n02094258_3392.jpg', 'n02094258_2475.jpg', 'n02094258_1278.jpg', 'n02094258_201.jpg', 'n02094258_52.jpg', 'n02094258_619.jpg']\n",
      "['n02094258_3339.jpg', 'n02094258_2583.jpg', 'n02094258_3138.jpg', 'n02094258_3298.jpg', 'n02094258_645.jpg', 'n02094258_1717.jpg', 'n02094258_257.jpg', 'n02094258_860.jpg', 'n02094258_322.jpg', 'n02094258_2816.jpg', 'n02094258_2751.jpg', 'n02094258_530.jpg', 'n02094258_726.jpg', 'n02094258_2911.jpg', 'n02094258_1404.jpg', 'n02094258_2694.jpg', 'n02094258_230.jpg', 'n02094258_3165.jpg', 'n02094258_1996.jpg', 'n02094258_2047.jpg', 'n02094258_50.jpg', 'n02094258_1823.jpg', 'n02094258_2668.jpg', 'n02094258_1407.jpg', 'n02094258_2708.jpg', 'n02094258_2730.jpg', 'n02094258_3758.jpg', 'n02094258_1614.jpg', 'n02094258_3598.jpg', 'n02094258_1760.jpg', 'n02094258_752.jpg', 'n02094258_355.jpg', 'n02094258_221.jpg', 'n02094258_792.jpg', 'n02094258_990.jpg', 'n02094258_3555.jpg', 'n02094258_166.jpg', 'n02094258_1579.jpg', 'n02094258_992.jpg', 'n02094258_1783.jpg', 'n02094258_2842.jpg', 'n02094258_1594.jpg', 'n02094258_3630.jpg', 'n02094258_3008.jpg', 'n02094258_1150.jpg', 'n02094258_1187.jpg', 'n02094258_2539.jpg', 'n02094258_1862.jpg', 'n02094258_1678.jpg', 'n02094258_2617.jpg', 'n02094258_847.jpg', 'n02094258_739.jpg', 'n02094258_3493.jpg', 'n02094258_1469.jpg', 'n02094258_1864.jpg', 'n02094258_103.jpg', 'n02094258_1091.jpg', 'n02094258_2956.jpg', 'n02094258_262.jpg', 'n02094258_1132.jpg']\n",
      "['n02094114_4501.jpg', 'n02094114_3409.jpg', 'n02094114_1498.jpg', 'n02094114_1826.jpg', 'n02094114_2631.jpg', 'n02094114_2245.jpg', 'n02094114_566.jpg', 'n02094114_1020.jpg', 'n02094114_1179.jpg', 'n02094114_1457.jpg', 'n02094114_1985.jpg', 'n02094114_1696.jpg', 'n02094114_363.jpg', 'n02094114_3199.jpg', 'n02094114_3545.jpg', 'n02094114_1448.jpg', 'n02094114_815.jpg', 'n02094114_140.jpg', 'n02094114_3435.jpg', 'n02094114_876.jpg', 'n02094114_2040.jpg', 'n02094114_4397.jpg', 'n02094114_3733.jpg', 'n02094114_99.jpg', 'n02094114_3864.jpg']\n",
      "['n02094114_1852.jpg', 'n02094114_3458.jpg', 'n02094114_2008.jpg', 'n02094114_2785.jpg', 'n02094114_3667.jpg', 'n02094114_2169.jpg', 'n02094114_3925.jpg', 'n02094114_1698.jpg', 'n02094114_1459.jpg', 'n02094114_1467.jpg', 'n02094114_4537.jpg', 'n02094114_4127.jpg', 'n02094114_981.jpg', 'n02094114_3404.jpg', 'n02094114_4394.jpg', 'n02094114_348.jpg', 'n02094114_1984.jpg', 'n02094114_4142.jpg', 'n02094114_2526.jpg', 'n02094114_1198.jpg', 'n02094114_3172.jpg', 'n02094114_2537.jpg', 'n02094114_2454.jpg', 'n02094114_2440.jpg', 'n02094114_2129.jpg', 'n02094114_1540.jpg', 'n02094114_3425.jpg', 'n02094114_1232.jpg', 'n02094114_3222.jpg', 'n02094114_1353.jpg', 'n02094114_1230.jpg', 'n02094114_838.jpg', 'n02094114_4165.jpg', 'n02094114_3187.jpg', 'n02094114_487.jpg', 'n02094114_3686.jpg', 'n02094114_1330.jpg', 'n02094114_4506.jpg', 'n02094114_297.jpg', 'n02094114_2955.jpg', 'n02094114_907.jpg', 'n02094114_4266.jpg', 'n02094114_1444.jpg', 'n02094114_2211.jpg', 'n02094114_496.jpg', 'n02094114_4305.jpg', 'n02094114_694.jpg']\n"
     ]
    }
   ],
   "source": [
    "# split up the training, holdout, and test datasets\n",
    "for path in source_paths:\n",
    "    all_files = os.listdir(directory + path)\n",
    "\n",
    "    #split out the training data\n",
    "    train = random.sample(all_files, num_training_images_per_breed)\n",
    "\n",
    "    if 'Great_Dane' in path:\n",
    "        for f in train:\n",
    "            shutil.copy(directory + path + '/' + f, directory + destination_paths[dest_train] + 'great_dane/')\n",
    "    elif 'Norwich' in path:\n",
    "         for f in train:\n",
    "            shutil.copy(directory + path + '/' + f, directory + destination_paths[dest_train] + 'norwich_terrier/')\n",
    "    elif 'Norfolk' in path:\n",
    "        for f in train:\n",
    "            shutil.copy(directory + path + '/' + f, directory + destination_paths[dest_train] + 'norfolk_terrier/')\n",
    "\n",
    "\n",
    "    test_and_hold = [x for x in all_files if x not in train]\n",
    "    # print(train)\n",
    "\n",
    "    #split the test from the holdout\n",
    "    test = random.sample(test_and_hold, num_test_images_per_breed)\n",
    "\n",
    "    if 'Great_Dane' in path:\n",
    "        for f in test:\n",
    "            shutil.copy(directory + path + '/' + f, directory + destination_paths[dest_test] + 'great_dane/')\n",
    "    elif 'Norwich' in path:\n",
    "         for f in test:\n",
    "            shutil.copy(directory + path + '/' + f, directory + destination_paths[dest_test] + 'norwich_terrier/')\n",
    "    elif 'Norfolk' in path:\n",
    "        for f in test:\n",
    "            shutil.copy(directory + path + '/' + f, directory + destination_paths[dest_test] + 'norfolk_terrier/')\n",
    "\n",
    "\n",
    "    holdout = [x for x in test_and_hold if x not in test]\n",
    "    if 'Great_Dane' in path:\n",
    "        for f in holdout:\n",
    "            shutil.copy(directory + path + '/' + f, directory + destination_paths[dest_holdout] + 'great_dane/')\n",
    "    elif 'Norwich' in path:\n",
    "         for f in holdout:\n",
    "            shutil.copy(directory + path + '/' + f, directory + destination_paths[dest_holdout] + 'norwich_terrier/')\n",
    "    elif 'Norfolk' in path:\n",
    "        for f in holdout:\n",
    "            shutil.copy(directory + path + '/' + f, directory + destination_paths[dest_holdout] + 'norfolk_terrier/')\n",
    "\n",
    "    print(test)\n",
    "    print(holdout)\n"
   ],
   "metadata": {
    "collapsed": false,
    "pycharm": {
     "name": "#%%\n"
    }
   }
  },
  {
   "cell_type": "markdown",
   "source": [
    "###### Define a list of image transformations to be used during training, passing them to transforms.Compose(). <br> Discuss why you think these transformations might help."
   ],
   "metadata": {
    "collapsed": false
   }
  },
  {
   "cell_type": "code",
   "execution_count": 34,
   "outputs": [],
   "source": [
    "import torchvision.transforms as transforms\n",
    "\n",
    "train_transforms = transforms.Compose([\n",
    "    transforms.Resize(size=[224,224]),\n",
    "    transforms.RandomRotation(degrees=90),\n",
    "    transforms.ColorJitter(),\n",
    "    transforms.RandomHorizontalFlip(),\n",
    "    transforms.RandomVerticalFlip(),\n",
    "    transforms.ToTensor(),\n",
    "    transforms.Normalize([0.485, 0.456, 0.406],\n",
    "                         [0.229, 0.224, 0.225])  # Imagenet standards\n",
    "])\n"
   ],
   "metadata": {
    "collapsed": false,
    "pycharm": {
     "name": "#%%\n"
    }
   }
  },
  {
   "cell_type": "markdown",
   "source": [
    "The training transforms will both augment the training dataset and prepare the images for the model.  Transformations such as the color jitter, rotation and flipping all create additional images for the model to learn off of.  Transformations like normalization and converting the image to tensors are there to prepare the data for model intake.  Resize is also there to keep the number of features at a reasonable level for this exercise (and also to line up with the imagenet models)/\n",
    "\n",
    "###### Repeat the step above for test and validation transformations."
   ],
   "metadata": {
    "collapsed": false
   }
  },
  {
   "cell_type": "code",
   "execution_count": 35,
   "outputs": [],
   "source": [
    "test_transforms = transforms.Compose([\n",
    "        transforms.Resize(size=[224,224]),\n",
    "        transforms.ToTensor(),\n",
    "        transforms.Normalize([0.485, 0.456, 0.406],\n",
    "                             [0.229, 0.224, 0.225])  # Imagenet standards\n",
    "    ])\n",
    "\n",
    "valid_transforms = transforms.Compose([\n",
    "        transforms.Resize(size=[224,224]),\n",
    "        transforms.ToTensor(),\n",
    "        transforms.Normalize([0.485, 0.456, 0.406],\n",
    "                             [0.229, 0.224, 0.225])  # Imagenet standards\n",
    "    ])\n"
   ],
   "metadata": {
    "collapsed": false,
    "pycharm": {
     "name": "#%%\n"
    }
   }
  },
  {
   "cell_type": "markdown",
   "source": [
    "###### Correctly set up DataLoaders for the three folders (train, validation, holdout). <br> Discuss what options you chose for these loaders, and why (including batch size, shuffling, and dropping last).\n",
    "\n",
    "I plan to experiment wth these parameters as we go. To get started, I'm using Workers = 4 and Batch Size = 4 because these numbers are similar to homework 7 and are what they use in the pytorch docs (https://pytorch.org/tutorials/beginner/transfer_learning_tutorial.html)  Shuffling intuitively makes sense as we plan to feed these images through several times.  Dropping last is true initially as this is a small dataset and I don't want to give equal weight to a potentially small sample."
   ],
   "metadata": {
    "collapsed": false
   }
  },
  {
   "cell_type": "code",
   "execution_count": 36,
   "outputs": [],
   "source": [
    "import torch.utils.data as data\n",
    "import torchvision\n",
    "\n",
    "BATCH_SIZE = 4\n",
    "WORKERS = 4\n",
    "DROP = False\n",
    "\n",
    "TRAIN_DATA_PATH = \"./images/train/\"\n",
    "TEST_DATA_PATH = \"./images/test/\"\n",
    "HOLDOUT_DATA_PATH = \"./images/holdout/\"\n",
    "\n",
    "train_data = torchvision.datasets.ImageFolder(root=TRAIN_DATA_PATH, transform=train_transforms)\n",
    "train_data_loader = data.DataLoader(train_data, batch_size=BATCH_SIZE, shuffle=True,  num_workers=WORKERS, drop_last=DROP)\n",
    "\n",
    "test_data = torchvision.datasets.ImageFolder(root=TEST_DATA_PATH, transform=test_transforms)\n",
    "test_data_loader  = data.DataLoader(test_data, batch_size=BATCH_SIZE, shuffle=True, num_workers=WORKERS, drop_last=DROP)\n",
    "\n",
    "holdout_data = torchvision.datasets.ImageFolder(root=HOLDOUT_DATA_PATH, transform=test_transforms)\n",
    "holdout_data_loader  = data.DataLoader(holdout_data, batch_size=BATCH_SIZE, shuffle=True, num_workers=WORKERS, drop_last=DROP)\n"
   ],
   "metadata": {
    "collapsed": false,
    "pycharm": {
     "name": "#%%\n"
    }
   }
  },
  {
   "cell_type": "code",
   "execution_count": 6,
   "outputs": [
    {
     "name": "stdout",
     "output_type": "stream",
     "text": [
      "['great_dane', 'norfolk_terrier', 'norwich_terrier']\n"
     ]
    },
    {
     "data": {
      "text/plain": "<Figure size 432x288 with 1 Axes>",
      "image/png": "[encoded data removed]"
     },
     "metadata": {
      "needs_background": "light"
     },
     "output_type": "display_data"
    }
   ],
   "source": [
    "import numpy as np\n",
    "import matplotlib.pyplot as plt\n",
    "\n",
    "class_names = train_data.classes\n",
    "print(class_names)\n",
    "\n",
    "#source: https://pytorch.org/tutorials/beginner/transfer_learning_tutorial.html\n",
    "def imshow(inp, title=None):\n",
    "    \"\"\"Imshow for Tensor.\"\"\"\n",
    "    inp = inp.numpy().transpose((1, 2, 0))\n",
    "    mean = np.array([0.485, 0.456, 0.406])\n",
    "    std = np.array([0.229, 0.224, 0.225])\n",
    "    inp = std * inp + mean\n",
    "    inp = np.clip(inp, 0, 1)\n",
    "    plt.imshow(inp)\n",
    "    if title is not None:\n",
    "        plt.title(title)\n",
    "    plt.pause(0.001)  # pause a bit so that plots are updated\n",
    "\n",
    "\n",
    "# Get a batch of training data\n",
    "inputs, classes = next(iter(train_data_loader))\n",
    "\n",
    "# Make a grid from batch\n",
    "out = torchvision.utils.make_grid(inputs)\n",
    "\n",
    "imshow(out, title=[class_names[x] for x in classes])"
   ],
   "metadata": {
    "collapsed": false,
    "pycharm": {
     "name": "#%%\n"
    }
   }
  },
  {
   "cell_type": "markdown",
   "source": [
    "# Part 3: Data model setup\n",
    "##### Instantiate any pre-trained ImageNet model. Discuss why you chose it amongst the others.\n",
    "\n",
    "I chose vgg19 because I had experience with vgg16 which is a pretty safe pick for imagenet classification and the '19' version seems to be a potentially more powerful version of the '16'"
   ],
   "metadata": {
    "collapsed": false,
    "pycharm": {
     "name": "#%% md\n"
    }
   }
  },
  {
   "cell_type": "code",
   "execution_count": 37,
   "outputs": [
    {
     "name": "stderr",
     "output_type": "stream",
     "text": [
      "Downloading: \"https://download.pytorch.org/models/vgg19-dcbb9e9d.pth\" to C:\\Users\\Samuel/.cache\\torch\\hub\\checkpoints\\vgg19-dcbb9e9d.pth\n",
      "4.3%IOPub message rate exceeded.\n",
      "The notebook server will temporarily stop sending output\n",
      "to the client in order to avoid crashing it.\n",
      "To change this limit, set the config variable\n",
      "`--NotebookApp.iopub_msg_rate_limit`.\n",
      "\n",
      "Current values:\n",
      "NotebookApp.iopub_msg_rate_limit=1000.0 (msgs/sec)\n",
      "NotebookApp.rate_limit_window=3.0 (secs)\n",
      "\n",
      "17.6%IOPub message rate exceeded.\n",
      "The notebook server will temporarily stop sending output\n",
      "to the client in order to avoid crashing it.\n",
      "To change this limit, set the config variable\n",
      "`--NotebookApp.iopub_msg_rate_limit`.\n",
      "\n",
      "Current values:\n",
      "NotebookApp.iopub_msg_rate_limit=1000.0 (msgs/sec)\n",
      "NotebookApp.rate_limit_window=3.0 (secs)\n",
      "\n",
      "32.9%IOPub message rate exceeded.\n",
      "The notebook server will temporarily stop sending output\n",
      "to the client in order to avoid crashing it.\n",
      "To change this limit, set the config variable\n",
      "`--NotebookApp.iopub_msg_rate_limit`.\n",
      "\n",
      "Current values:\n",
      "NotebookApp.iopub_msg_rate_limit=1000.0 (msgs/sec)\n",
      "NotebookApp.rate_limit_window=3.0 (secs)\n",
      "\n",
      "49.5%IOPub message rate exceeded.\n",
      "The notebook server will temporarily stop sending output\n",
      "to the client in order to avoid crashing it.\n",
      "To change this limit, set the config variable\n",
      "`--NotebookApp.iopub_msg_rate_limit`.\n",
      "\n",
      "Current values:\n",
      "NotebookApp.iopub_msg_rate_limit=1000.0 (msgs/sec)\n",
      "NotebookApp.rate_limit_window=3.0 (secs)\n",
      "\n",
      "65.3%IOPub message rate exceeded.\n",
      "The notebook server will temporarily stop sending output\n",
      "to the client in order to avoid crashing it.\n",
      "To change this limit, set the config variable\n",
      "`--NotebookApp.iopub_msg_rate_limit`.\n",
      "\n",
      "Current values:\n",
      "NotebookApp.iopub_msg_rate_limit=1000.0 (msgs/sec)\n",
      "NotebookApp.rate_limit_window=3.0 (secs)\n",
      "\n",
      "81.4%IOPub message rate exceeded.\n",
      "The notebook server will temporarily stop sending output\n",
      "to the client in order to avoid crashing it.\n",
      "To change this limit, set the config variable\n",
      "`--NotebookApp.iopub_msg_rate_limit`.\n",
      "\n",
      "Current values:\n",
      "NotebookApp.iopub_msg_rate_limit=1000.0 (msgs/sec)\n",
      "NotebookApp.rate_limit_window=3.0 (secs)\n",
      "\n",
      "98.1%IOPub message rate exceeded.\n",
      "The notebook server will temporarily stop sending output\n",
      "to the client in order to avoid crashing it.\n",
      "To change this limit, set the config variable\n",
      "`--NotebookApp.iopub_msg_rate_limit`.\n",
      "\n",
      "Current values:\n",
      "NotebookApp.iopub_msg_rate_limit=1000.0 (msgs/sec)\n",
      "NotebookApp.rate_limit_window=3.0 (secs)\n",
      "\n"
     ]
    }
   ],
   "source": [
    "from torch import nn, optim\n",
    "import pandas as pd\n",
    "from timeit import default_timer as timer\n",
    "\n",
    "model = torchvision.models.vgg19(pretrained=True)"
   ],
   "metadata": {
    "collapsed": false,
    "pycharm": {
     "name": "#%%\n"
    }
   }
  },
  {
   "cell_type": "markdown",
   "source": [
    "##### Write code to freeze/unfreeze the pretrained model layers.\n",
    "##### Replace the head of the model with sequential layer(s) to predict our three classes."
   ],
   "metadata": {
    "collapsed": false
   }
  },
  {
   "cell_type": "code",
   "execution_count": 38,
   "outputs": [
    {
     "name": "stdout",
     "output_type": "stream",
     "text": [
      "Sequential(\n",
      "  (0): Linear(in_features=25088, out_features=4096, bias=True)\n",
      "  (1): ReLU(inplace=True)\n",
      "  (2): Dropout(p=0.5, inplace=False)\n",
      "  (3): Linear(in_features=4096, out_features=4096, bias=True)\n",
      "  (4): ReLU(inplace=True)\n",
      "  (5): Dropout(p=0.5, inplace=False)\n",
      "  (6): Sequential(\n",
      "    (0): Linear(in_features=4096, out_features=256, bias=True)\n",
      "    (1): ReLU()\n",
      "    (2): Dropout(p=0.4, inplace=False)\n",
      "    (3): Linear(in_features=256, out_features=3, bias=True)\n",
      "    (4): LogSoftmax(dim=1)\n",
      "  )\n",
      ")\n"
     ]
    }
   ],
   "source": [
    "n_classes = 3\n",
    "\n",
    "# Freeze early layers\n",
    "for param in model.parameters():\n",
    "    param.requires_grad = False\n",
    "n_inputs = model.classifier[6].in_features\n",
    "\n",
    "# Add on classifier\n",
    "# modified from: https://towardsdatascience.com/transfer-learning-with-convolutional-neural-networks-in-pytorch-dd09190245ce\n",
    "model.classifier[6] = nn.Sequential(\n",
    "                      nn.Linear(n_inputs, 256),\n",
    "                      nn.ReLU(),\n",
    "                      nn.Dropout(0.4),\n",
    "                      nn.Linear(256, n_classes),\n",
    "                      nn.LogSoftmax(dim=1))\n",
    "\n",
    "print(model.classifier)"
   ],
   "metadata": {
    "collapsed": false,
    "pycharm": {
     "name": "#%%\n"
    }
   }
  },
  {
   "cell_type": "markdown",
   "source": [
    "###### What activation function did you use in the step above? Why?\n",
    "I chose logsoftmax for the activation function. I read (https://cs231n.github.io/neural-networks-case-study/) it has better/more efficient gradient decent and there may be advantages to using log probabilities over the probabilities from just using softmax.\n",
    "###### Did you use dropout in the step above? Why or why not?\n",
    "I did use dropout in the step above because with relatively few images I thought it would be a good time to try to leverage dropout to prevent overfitting of the data.\n",
    "###### Did you use batch normalization in the step above? Why or why not?\n",
    "I breifly experimented with batch normalization when I first did this using vgg16 and found it didnt seem to make a difference (using this code: https://www.machinecurve.com/index.php/2021/03/29/batch-normalization-with-pytorch/). It also seemed like having only a few images would make batch normalization a great tool to prevent individual outlier images from overly impacting the weights of the section we are training here. (Especially since there are some outliers like the wet dog)"
   ],
   "metadata": {
    "collapsed": false,
    "pycharm": {
     "name": "#%% md\n"
    }
   }
  },
  {
   "cell_type": "markdown",
   "source": [
    "###### Choose and instantiate an optimizer. Discuss your choice.\n",
    "\n",
    "I chose to use AdamW, based off of the original Adam (paper: https://arxiv.org/abs/1412.6980) as my optimizer.  I've used Adam before and found it to be a good general purpose optimizer, however I wanted to try AdamW as I read it is supposed to generalize better because weight decay is performed only after controlling the parameter-wise step size.\n",
    "###### Choose and instantiate a loss function. Discuss your choice.\n",
    "For this paper I considered the Negative Log Likelihood loss as well as the Cross Entropy Loss. I believe both will work well for this classification task, I went with Cross Entropy as I have a hunch the harsher penalities with the NLL may make it difficult for this dog breed identification."
   ],
   "metadata": {
    "collapsed": false
   }
  },
  {
   "cell_type": "code",
   "execution_count": 40,
   "outputs": [],
   "source": [
    "criterion = nn.CrossEntropyLoss()\n",
    "optimizer = optim.AdamW(model.parameters(), lr=.001)"
   ],
   "metadata": {
    "collapsed": false,
    "pycharm": {
     "name": "#%%\n"
    }
   }
  },
  {
   "cell_type": "markdown",
   "source": [
    "###### Write code that places the model on the GPU, if it exists, otherwise using the CPU."
   ],
   "metadata": {
    "collapsed": false
   }
  },
  {
   "cell_type": "code",
   "execution_count": 39,
   "outputs": [],
   "source": [
    "# Move to gpu and parallelize\n",
    "if train_on_gpu:\n",
    "    model = model.to('cuda')\n",
    "\n",
    "if multi_gpu:\n",
    "    model = nn.DataParallel(model)\n"
   ],
   "metadata": {
    "collapsed": false,
    "pycharm": {
     "name": "#%%\n"
    }
   }
  },
  {
   "cell_type": "markdown",
   "source": [
    "# Part 4: Training your model\n",
    "###### Correctly set up your model to train over 20 epochs, Correctly set up your model to use your batches for training, Correctly make predictions with your model (the predictions can be wrong).\n",
    "###### Correctly call your loss function and back-propagate its results, Use the optimizer correctly to update weights/gradients, Correctly record training losses for each epoch.\n",
    "###### Correctly set up validation at each epoch, Correctly record validation losses for each epoch, Correctly record training and validation accuracies for each epoch\n",
    "###### Write code that places the model on the GPU, if it exists, otherwise using the CPU."
   ],
   "metadata": {
    "collapsed": false,
    "pycharm": {
     "name": "#%% md\n"
    }
   }
  },
  {
   "cell_type": "code",
   "execution_count": 41,
   "outputs": [],
   "source": [
    "def train(model,\n",
    "          criterion,\n",
    "          optimizer,\n",
    "          train_loader,\n",
    "          valid_loader,\n",
    "          save_file_name,\n",
    "          max_epochs_stop=3,\n",
    "          n_epochs=20,\n",
    "          print_every=1):\n",
    "    \"\"\"Train a PyTorch Model\n",
    "\n",
    "    Params\n",
    "    --------\n",
    "        model (PyTorch model): cnn to train\n",
    "        criterion (PyTorch loss): objective to minimize\n",
    "        optimizer (PyTorch optimizier): optimizer to compute gradients of model parameters\n",
    "        train_loader (PyTorch dataloader): training dataloader to iterate through\n",
    "        valid_loader (PyTorch dataloader): validation dataloader used for early stopping\n",
    "        save_file_name (str ending in '.pt'): file path to save the model state dict\n",
    "        max_epochs_stop (int): maximum number of epochs with no improvement in validation loss for early stopping\n",
    "        n_epochs (int): maximum number of training epochs\n",
    "        print_every (int): frequency of epochs to print training stats\n",
    "\n",
    "    Returns\n",
    "    --------\n",
    "        model (PyTorch model): trained cnn with best weights\n",
    "        history (DataFrame): history of train and validation loss and accuracy\n",
    "    \"\"\"\n",
    "\n",
    "    # Early stopping intialization\n",
    "    epochs_no_improve = 0\n",
    "    valid_loss_min = np.Inf\n",
    "\n",
    "    valid_max_acc = 0\n",
    "    history = []\n",
    "\n",
    "    # Number of epochs already trained (if using loaded in model weights)\n",
    "    try:\n",
    "        print(f'Model has been trained for: {model.epochs} epochs.\\n')\n",
    "    except:\n",
    "        model.epochs = 0\n",
    "        print(f'Starting Training from Scratch.\\n')\n",
    "\n",
    "    overall_start = timer()\n",
    "\n",
    "    # Main loop\n",
    "    for epoch in range(n_epochs):\n",
    "\n",
    "        # keep track of training and validation loss each epoch\n",
    "        train_loss = 0.0\n",
    "        valid_loss = 0.0\n",
    "\n",
    "        train_acc = 0\n",
    "        valid_acc = 0\n",
    "\n",
    "        # Set to training\n",
    "        model.train()\n",
    "        start = timer()\n",
    "\n",
    "        # Training loop\n",
    "        for ii, (data, target) in enumerate(train_loader):\n",
    "            # Tensors to gpu\n",
    "            if train_on_gpu:\n",
    "                data, target = data.cuda(), target.cuda()\n",
    "\n",
    "            # Clear gradients\n",
    "            optimizer.zero_grad()\n",
    "            # Predicted outputs are log probabilities\n",
    "            output = model(data)\n",
    "\n",
    "            # Loss and backpropagation of gradients\n",
    "            loss = criterion(output, target)\n",
    "            loss.backward()\n",
    "\n",
    "            # Update the parameters\n",
    "            optimizer.step()\n",
    "\n",
    "            # Track train loss by multiplying average loss by number of examples in batch\n",
    "            train_loss += loss.item() * data.size(0)\n",
    "\n",
    "            # Calculate accuracy by finding max log probability\n",
    "            _, pred = torch.max(output, dim=1)\n",
    "            correct_tensor = pred.eq(target.data.view_as(pred))\n",
    "            # Need to convert correct tensor from int to float to average\n",
    "            accuracy = torch.mean(correct_tensor.type(torch.FloatTensor))\n",
    "            # Multiply average accuracy times the number of examples in batch\n",
    "            train_acc += accuracy.item() * data.size(0)\n",
    "\n",
    "            # Track training progress\n",
    "            print(\n",
    "                f'Epoch: {epoch}\\t{100 * (ii + 1) / len(train_loader):.2f}% complete. {timer() - start:.2f} seconds elapsed in epoch.',\n",
    "                end='\\r')\n",
    "\n",
    "        # After training loops ends, start validation\n",
    "        else:\n",
    "            model.epochs += 1\n",
    "\n",
    "            # Don't need to keep track of gradients\n",
    "            with torch.no_grad():\n",
    "                # Set to evaluation mode\n",
    "                model.eval()\n",
    "\n",
    "                # Validation loop\n",
    "                for data, target in valid_loader:\n",
    "                    # Tensors to gpu\n",
    "                    if train_on_gpu:\n",
    "                        data, target = data.cuda(), target.cuda()\n",
    "\n",
    "                    # Forward pass\n",
    "                    output = model(data)\n",
    "\n",
    "                    # Validation loss\n",
    "                    loss = criterion(output, target)\n",
    "                    # Multiply average loss times the number of examples in batch\n",
    "                    valid_loss += loss.item() * data.size(0)\n",
    "\n",
    "                    # Calculate validation accuracy\n",
    "                    _, pred = torch.max(output, dim=1)\n",
    "                    correct_tensor = pred.eq(target.data.view_as(pred))\n",
    "                    accuracy = torch.mean(\n",
    "                        correct_tensor.type(torch.FloatTensor))\n",
    "                    # Multiply average accuracy times the number of examples\n",
    "                    valid_acc += accuracy.item() * data.size(0)\n",
    "\n",
    "                # Calculate average losses\n",
    "                train_loss = train_loss / len(train_loader.dataset)\n",
    "                valid_loss = valid_loss / len(valid_loader.dataset)\n",
    "\n",
    "                # Calculate average accuracy\n",
    "                train_acc = train_acc / len(train_loader.dataset)\n",
    "                valid_acc = valid_acc / len(valid_loader.dataset)\n",
    "\n",
    "                history.append([train_loss, valid_loss, train_acc, valid_acc])\n",
    "\n",
    "                # Print training and validation results\n",
    "                if (epoch + 1) % print_every == 0:\n",
    "                    print(\n",
    "                        f'\\nEpoch: {epoch} \\tTraining Loss: {train_loss:.4f} \\tValidation Loss: {valid_loss:.4f}'\n",
    "                    )\n",
    "                    print(\n",
    "                        f'\\t\\tTraining Accuracy: {100 * train_acc:.2f}%\\t Validation Accuracy: {100 * valid_acc:.2f}%'\n",
    "                    )\n",
    "\n",
    "                # Save the model if validation loss decreases\n",
    "                if valid_loss < valid_loss_min:\n",
    "                    # Save model\n",
    "                    torch.save(model.state_dict(), save_file_name)\n",
    "                    # Track improvement\n",
    "                    epochs_no_improve = 0\n",
    "                    valid_loss_min = valid_loss\n",
    "                    valid_best_acc = valid_acc\n",
    "                    best_epoch = epoch\n",
    "\n",
    "                # Otherwise increment count of epochs with no improvement\n",
    "                else:\n",
    "                    epochs_no_improve += 1\n",
    "                    # Trigger early stopping\n",
    "                    if epochs_no_improve >= max_epochs_stop:\n",
    "                        print(\n",
    "                            f'\\nEarly Stopping! Total epochs: {epoch}. Best epoch: {best_epoch} with loss: {valid_loss_min:.2f} and acc: {100 * valid_acc:.2f}%'\n",
    "                        )\n",
    "                        total_time = timer() - overall_start\n",
    "                        print(\n",
    "                            f'{total_time:.2f} total seconds elapsed. {total_time / (epoch+1):.2f} seconds per epoch.'\n",
    "                        )\n",
    "\n",
    "                        # Load the best state dict\n",
    "                        model.load_state_dict(torch.load(save_file_name))\n",
    "                        # Attach the optimizer\n",
    "                        model.optimizer = optimizer\n",
    "\n",
    "                        # Format history\n",
    "                        history = pd.DataFrame(\n",
    "                            history,\n",
    "                            columns=[\n",
    "                                'train_loss', 'valid_loss', 'train_acc',\n",
    "                                'valid_acc'\n",
    "                            ])\n",
    "                        return model, history\n",
    "\n",
    "    # Attach the optimizer\n",
    "    model.optimizer = optimizer\n",
    "    # Record overall time and print out stats\n",
    "    total_time = timer() - overall_start\n",
    "    print(\n",
    "        f'\\nBest epoch: {best_epoch} with loss: {valid_loss_min:.2f} and acc: {100 * valid_acc:.2f}%'\n",
    "    )\n",
    "    print(\n",
    "        f'{total_time:.2f} total seconds elapsed. {total_time / (epoch):.2f} seconds per epoch.'\n",
    "    )\n",
    "    # Format history\n",
    "    history = pd.DataFrame(\n",
    "        history,\n",
    "        columns=['train_loss', 'valid_loss', 'train_acc', 'valid_acc'])\n",
    "    return model, history"
   ],
   "metadata": {
    "collapsed": false,
    "pycharm": {
     "name": "#%%\n"
    }
   }
  },
  {
   "cell_type": "code",
   "execution_count": 42,
   "outputs": [
    {
     "name": "stdout",
     "output_type": "stream",
     "text": [
      "Starting Training from Scratch.\n",
      "\n",
      "Epoch: 1\t100.00% complete. 2.75 seconds elapsed in epoch.\rpoch: 1\t5.33% complete. 1.34 seconds elapsed in epoch.Epoch: 1\t16.00% complete. 1.56 seconds elapsed in epoch.Epoch: 1\t30.67% complete. 1.78 seconds elapsed in epoch.Epoch: 1\t45.33% complete. 1.98 seconds elapsed in epoch.Epoch: 1\t60.00% complete. 2.19 seconds elapsed in epoch.Epoch: 1\t74.67% complete. 2.40 seconds elapsed in epoch.Epoch: 1\t89.33% complete. 2.60 seconds elapsed in epoch.\n",
      "Epoch: 1 \tTraining Loss: 0.5012 \tValidation Loss: 0.2293\n",
      "\t\tTraining Accuracy: 75.00%\t Validation Accuracy: 92.00%\n",
      "Epoch: 3\t100.00% complete. 2.63 seconds elapsed in epoch.\rpoch: 3\t5.33% complete. 1.30 seconds elapsed in epoch.Epoch: 3\t20.00% complete. 1.51 seconds elapsed in epoch.Epoch: 3\t34.67% complete. 1.71 seconds elapsed in epoch.Epoch: 3\t49.33% complete. 1.92 seconds elapsed in epoch.Epoch: 3\t64.00% complete. 2.13 seconds elapsed in epoch.Epoch: 3\t78.67% complete. 2.33 seconds elapsed in epoch.Epoch: 3\t93.33% complete. 2.54 seconds elapsed in epoch.\n",
      "Epoch: 3 \tTraining Loss: 0.4774 \tValidation Loss: 0.2328\n",
      "\t\tTraining Accuracy: 76.67%\t Validation Accuracy: 96.00%\n",
      "Epoch: 5\t100.00% complete. 2.62 seconds elapsed in epoch.\rpoch: 5\t5.33% complete. 1.28 seconds elapsed in epoch.Epoch: 5\t20.00% complete. 1.49 seconds elapsed in epoch.Epoch: 5\t34.67% complete. 1.69 seconds elapsed in epoch.Epoch: 5\t49.33% complete. 1.90 seconds elapsed in epoch.Epoch: 5\t64.00% complete. 2.11 seconds elapsed in epoch.Epoch: 5\t78.67% complete. 2.32 seconds elapsed in epoch.Epoch: 5\t93.33% complete. 2.52 seconds elapsed in epoch.\n",
      "Epoch: 5 \tTraining Loss: 0.4652 \tValidation Loss: 0.2366\n",
      "\t\tTraining Accuracy: 74.00%\t Validation Accuracy: 94.67%\n",
      "Epoch: 7\t100.00% complete. 2.71 seconds elapsed in epoch.\rpoch: 7\t5.33% complete. 1.32 seconds elapsed in epoch.Epoch: 7\t18.67% complete. 1.52 seconds elapsed in epoch.Epoch: 7\t32.00% complete. 1.74 seconds elapsed in epoch.Epoch: 7\t46.67% complete. 1.95 seconds elapsed in epoch.Epoch: 7\t61.33% complete. 2.16 seconds elapsed in epoch.Epoch: 7\t76.00% complete. 2.37 seconds elapsed in epoch.Epoch: 7\t90.67% complete. 2.58 seconds elapsed in epoch.\n",
      "Epoch: 7 \tTraining Loss: 0.4391 \tValidation Loss: 0.2197\n",
      "\t\tTraining Accuracy: 78.67%\t Validation Accuracy: 90.67%\n",
      "Epoch: 9\t100.00% complete. 2.80 seconds elapsed in epoch.\rpoch: 9\t5.33% complete. 1.39 seconds elapsed in epoch.Epoch: 9\t16.00% complete. 1.60 seconds elapsed in epoch.Epoch: 9\t30.67% complete. 1.82 seconds elapsed in epoch.Epoch: 9\t45.33% complete. 2.02 seconds elapsed in epoch.Epoch: 9\t60.00% complete. 2.23 seconds elapsed in epoch.Epoch: 9\t74.67% complete. 2.44 seconds elapsed in epoch.Epoch: 9\t89.33% complete. 2.65 seconds elapsed in epoch.\n",
      "Epoch: 9 \tTraining Loss: 0.4299 \tValidation Loss: 0.2239\n",
      "\t\tTraining Accuracy: 78.67%\t Validation Accuracy: 93.33%\n",
      "Epoch: 11\t100.00% complete. 2.68 seconds elapsed in epoch.\rpoch: 11\t5.33% complete. 1.32 seconds elapsed in epoch.Epoch: 11\t20.00% complete. 1.53 seconds elapsed in epoch.Epoch: 11\t34.67% complete. 1.74 seconds elapsed in epoch.Epoch: 11\t49.33% complete. 1.95 seconds elapsed in epoch.Epoch: 11\t64.00% complete. 2.16 seconds elapsed in epoch.Epoch: 11\t78.67% complete. 2.38 seconds elapsed in epoch.Epoch: 11\t93.33% complete. 2.58 seconds elapsed in epoch.\n",
      "Epoch: 11 \tTraining Loss: 0.4010 \tValidation Loss: 0.1894\n",
      "\t\tTraining Accuracy: 79.33%\t Validation Accuracy: 92.00%\n",
      "Epoch: 13\t100.00% complete. 2.65 seconds elapsed in epoch.\rpoch: 13\t5.33% complete. 1.30 seconds elapsed in epoch.Epoch: 13\t20.00% complete. 1.51 seconds elapsed in epoch.Epoch: 13\t34.67% complete. 1.72 seconds elapsed in epoch.Epoch: 13\t49.33% complete. 1.93 seconds elapsed in epoch.Epoch: 13\t64.00% complete. 2.14 seconds elapsed in epoch.Epoch: 13\t77.33% complete. 2.33 seconds elapsed in epoch.Epoch: 13\t92.00% complete. 2.54 seconds elapsed in epoch.\n",
      "Epoch: 13 \tTraining Loss: 0.4253 \tValidation Loss: 0.2064\n",
      "\t\tTraining Accuracy: 78.00%\t Validation Accuracy: 90.67%\n",
      "Epoch: 15\t100.00% complete. 2.69 seconds elapsed in epoch.\rpoch: 15\t5.33% complete. 1.33 seconds elapsed in epoch.Epoch: 15\t18.67% complete. 1.53 seconds elapsed in epoch.Epoch: 15\t33.33% complete. 1.73 seconds elapsed in epoch.Epoch: 15\t48.00% complete. 1.94 seconds elapsed in epoch.Epoch: 15\t62.67% complete. 2.15 seconds elapsed in epoch.Epoch: 15\t77.33% complete. 2.36 seconds elapsed in epoch.Epoch: 15\t92.00% complete. 2.57 seconds elapsed in epoch.\n",
      "Epoch: 15 \tTraining Loss: 0.4179 \tValidation Loss: 0.2270\n",
      "\t\tTraining Accuracy: 78.67%\t Validation Accuracy: 93.33%\n",
      "Epoch: 17\t100.00% complete. 2.66 seconds elapsed in epoch.\rpoch: 17\t5.33% complete. 1.30 seconds elapsed in epoch.Epoch: 17\t18.67% complete. 1.49 seconds elapsed in epoch.Epoch: 17\t33.33% complete. 1.70 seconds elapsed in epoch.Epoch: 17\t46.67% complete. 1.89 seconds elapsed in epoch.Epoch: 17\t61.33% complete. 2.10 seconds elapsed in epoch.Epoch: 17\t76.00% complete. 2.32 seconds elapsed in epoch.Epoch: 17\t90.67% complete. 2.52 seconds elapsed in epoch.\n",
      "Epoch: 17 \tTraining Loss: 0.3759 \tValidation Loss: 0.1831\n",
      "\t\tTraining Accuracy: 83.67%\t Validation Accuracy: 92.00%\n",
      "Epoch: 19\t100.00% complete. 2.66 seconds elapsed in epoch.\rpoch: 19\t5.33% complete. 1.29 seconds elapsed in epoch.Epoch: 19\t20.00% complete. 1.50 seconds elapsed in epoch.Epoch: 19\t34.67% complete. 1.71 seconds elapsed in epoch.Epoch: 19\t49.33% complete. 1.92 seconds elapsed in epoch.Epoch: 19\t64.00% complete. 2.13 seconds elapsed in epoch.Epoch: 19\t78.67% complete. 2.35 seconds elapsed in epoch.Epoch: 19\t93.33% complete. 2.56 seconds elapsed in epoch.\n",
      "Epoch: 19 \tTraining Loss: 0.3656 \tValidation Loss: 0.1731\n",
      "\t\tTraining Accuracy: 83.00%\t Validation Accuracy: 93.33%\n",
      "Epoch: 21\t100.00% complete. 2.76 seconds elapsed in epoch.\rpoch: 21\t4.00% complete. 1.31 seconds elapsed in epoch.Epoch: 21\t14.67% complete. 1.53 seconds elapsed in epoch.Epoch: 21\t29.33% complete. 1.74 seconds elapsed in epoch.Epoch: 21\t44.00% complete. 1.95 seconds elapsed in epoch.Epoch: 21\t58.67% complete. 2.16 seconds elapsed in epoch.Epoch: 21\t73.33% complete. 2.38 seconds elapsed in epoch.Epoch: 21\t88.00% complete. 2.59 seconds elapsed in epoch.\n",
      "Epoch: 21 \tTraining Loss: 0.3622 \tValidation Loss: 0.1957\n",
      "\t\tTraining Accuracy: 83.00%\t Validation Accuracy: 93.33%\n",
      "Epoch: 23\t100.00% complete. 2.69 seconds elapsed in epoch.\rpoch: 23\t5.33% complete. 1.32 seconds elapsed in epoch.Epoch: 23\t20.00% complete. 1.53 seconds elapsed in epoch.Epoch: 23\t34.67% complete. 1.74 seconds elapsed in epoch.Epoch: 23\t49.33% complete. 1.96 seconds elapsed in epoch.Epoch: 23\t64.00% complete. 2.17 seconds elapsed in epoch.Epoch: 23\t78.67% complete. 2.38 seconds elapsed in epoch.Epoch: 23\t93.33% complete. 2.59 seconds elapsed in epoch.\n",
      "Epoch: 23 \tTraining Loss: 0.3843 \tValidation Loss: 0.1829\n",
      "\t\tTraining Accuracy: 84.00%\t Validation Accuracy: 90.67%\n",
      "Epoch: 25\t100.00% complete. 2.72 seconds elapsed in epoch.\rpoch: 25\t5.33% complete. 1.28 seconds elapsed in epoch.Epoch: 25\t20.00% complete. 1.49 seconds elapsed in epoch.Epoch: 25\t34.67% complete. 1.70 seconds elapsed in epoch.Epoch: 25\t48.00% complete. 1.91 seconds elapsed in epoch.Epoch: 25\t61.33% complete. 2.14 seconds elapsed in epoch.Epoch: 25\t73.33% complete. 2.34 seconds elapsed in epoch.Epoch: 25\t88.00% complete. 2.55 seconds elapsed in epoch.\n",
      "Epoch: 25 \tTraining Loss: 0.4267 \tValidation Loss: 0.2283\n",
      "\t\tTraining Accuracy: 83.67%\t Validation Accuracy: 94.67%\n",
      "Epoch: 27\t100.00% complete. 2.70 seconds elapsed in epoch.\rpoch: 27\t5.33% complete. 1.30 seconds elapsed in epoch.Epoch: 27\t20.00% complete. 1.50 seconds elapsed in epoch.Epoch: 27\t34.67% complete. 1.72 seconds elapsed in epoch.Epoch: 27\t49.33% complete. 1.93 seconds elapsed in epoch.Epoch: 27\t64.00% complete. 2.14 seconds elapsed in epoch.Epoch: 27\t78.67% complete. 2.35 seconds elapsed in epoch.Epoch: 27\t92.00% complete. 2.56 seconds elapsed in epoch.\n",
      "Epoch: 27 \tTraining Loss: 0.3785 \tValidation Loss: 0.2733\n",
      "\t\tTraining Accuracy: 82.67%\t Validation Accuracy: 89.33%\n",
      "Epoch: 29\t100.00% complete. 2.69 seconds elapsed in epoch.\rpoch: 29\t5.33% complete. 1.33 seconds elapsed in epoch.Epoch: 29\t20.00% complete. 1.54 seconds elapsed in epoch.Epoch: 29\t34.67% complete. 1.75 seconds elapsed in epoch.Epoch: 29\t49.33% complete. 1.96 seconds elapsed in epoch.Epoch: 29\t64.00% complete. 2.17 seconds elapsed in epoch.Epoch: 29\t78.67% complete. 2.39 seconds elapsed in epoch.Epoch: 29\t93.33% complete. 2.60 seconds elapsed in epoch.\n",
      "Epoch: 29 \tTraining Loss: 0.3341 \tValidation Loss: 0.1718\n",
      "\t\tTraining Accuracy: 84.00%\t Validation Accuracy: 92.00%\n",
      "Epoch: 31\t100.00% complete. 2.93 seconds elapsed in epoch.\rpoch: 31\t5.33% complete. 1.37 seconds elapsed in epoch.Epoch: 31\t14.67% complete. 1.58 seconds elapsed in epoch.Epoch: 31\t28.00% complete. 1.77 seconds elapsed in epoch.Epoch: 31\t42.67% complete. 1.98 seconds elapsed in epoch.Epoch: 31\t56.00% complete. 2.20 seconds elapsed in epoch.Epoch: 31\t68.00% complete. 2.40 seconds elapsed in epoch.Epoch: 31\t81.33% complete. 2.62 seconds elapsed in epoch.Epoch: 31\t93.33% complete. 2.82 seconds elapsed in epoch.\n",
      "Epoch: 31 \tTraining Loss: 0.4177 \tValidation Loss: 0.1568\n",
      "\t\tTraining Accuracy: 82.67%\t Validation Accuracy: 96.00%\n",
      "Epoch: 33\t100.00% complete. 2.68 seconds elapsed in epoch.\rpoch: 33\t4.00% complete. 1.24 seconds elapsed in epoch.Epoch: 33\t16.00% complete. 1.45 seconds elapsed in epoch.Epoch: 33\t29.33% complete. 1.64 seconds elapsed in epoch.Epoch: 33\t44.00% complete. 1.86 seconds elapsed in epoch.Epoch: 33\t58.67% complete. 2.08 seconds elapsed in epoch.Epoch: 33\t73.33% complete. 2.30 seconds elapsed in epoch.Epoch: 33\t88.00% complete. 2.51 seconds elapsed in epoch.\n",
      "Epoch: 33 \tTraining Loss: 0.3497 \tValidation Loss: 0.1599\n",
      "\t\tTraining Accuracy: 84.67%\t Validation Accuracy: 90.67%\n",
      "Epoch: 35\t100.00% complete. 2.66 seconds elapsed in epoch.\rpoch: 35\t5.33% complete. 1.28 seconds elapsed in epoch.Epoch: 35\t18.67% complete. 1.49 seconds elapsed in epoch.Epoch: 35\t33.33% complete. 1.70 seconds elapsed in epoch.Epoch: 35\t46.67% complete. 1.89 seconds elapsed in epoch.Epoch: 35\t61.33% complete. 2.10 seconds elapsed in epoch.Epoch: 35\t76.00% complete. 2.32 seconds elapsed in epoch.Epoch: 35\t90.67% complete. 2.53 seconds elapsed in epoch.\n",
      "Epoch: 35 \tTraining Loss: 0.3632 \tValidation Loss: 0.2143\n",
      "\t\tTraining Accuracy: 83.33%\t Validation Accuracy: 93.33%\n",
      "Epoch: 37\t100.00% complete. 2.63 seconds elapsed in epoch.\rpoch: 37\t5.33% complete. 1.28 seconds elapsed in epoch.Epoch: 37\t20.00% complete. 1.49 seconds elapsed in epoch.Epoch: 37\t34.67% complete. 1.70 seconds elapsed in epoch.Epoch: 37\t49.33% complete. 1.91 seconds elapsed in epoch.Epoch: 37\t64.00% complete. 2.12 seconds elapsed in epoch.Epoch: 37\t78.67% complete. 2.33 seconds elapsed in epoch.Epoch: 37\t93.33% complete. 2.54 seconds elapsed in epoch.\n",
      "Epoch: 37 \tTraining Loss: 0.3103 \tValidation Loss: 0.2073\n",
      "\t\tTraining Accuracy: 86.00%\t Validation Accuracy: 93.33%\n",
      "Epoch: 39\t100.00% complete. 2.66 seconds elapsed in epoch.\rpoch: 39\t5.33% complete. 1.29 seconds elapsed in epoch.Epoch: 39\t20.00% complete. 1.50 seconds elapsed in epoch.Epoch: 39\t34.67% complete. 1.71 seconds elapsed in epoch.Epoch: 39\t49.33% complete. 1.93 seconds elapsed in epoch.Epoch: 39\t64.00% complete. 2.14 seconds elapsed in epoch.Epoch: 39\t77.33% complete. 2.34 seconds elapsed in epoch.Epoch: 39\t92.00% complete. 2.55 seconds elapsed in epoch.\n",
      "Epoch: 39 \tTraining Loss: 0.3292 \tValidation Loss: 0.1791\n",
      "\t\tTraining Accuracy: 86.33%\t Validation Accuracy: 93.33%\n",
      "Epoch: 41\t100.00% complete. 2.68 seconds elapsed in epoch.\rpoch: 41\t5.33% complete. 1.29 seconds elapsed in epoch.Epoch: 41\t20.00% complete. 1.50 seconds elapsed in epoch.Epoch: 41\t33.33% complete. 1.70 seconds elapsed in epoch.Epoch: 41\t48.00% complete. 1.91 seconds elapsed in epoch.Epoch: 41\t62.67% complete. 2.13 seconds elapsed in epoch.Epoch: 41\t77.33% complete. 2.34 seconds elapsed in epoch.Epoch: 41\t90.67% complete. 2.54 seconds elapsed in epoch.\n",
      "Epoch: 41 \tTraining Loss: 0.3293 \tValidation Loss: 0.1798\n",
      "\t\tTraining Accuracy: 85.00%\t Validation Accuracy: 90.67%\n",
      "Epoch: 43\t100.00% complete. 2.70 seconds elapsed in epoch.\rpoch: 43\t5.33% complete. 1.31 seconds elapsed in epoch.Epoch: 43\t20.00% complete. 1.52 seconds elapsed in epoch.Epoch: 43\t34.67% complete. 1.74 seconds elapsed in epoch.Epoch: 43\t49.33% complete. 1.96 seconds elapsed in epoch.Epoch: 43\t64.00% complete. 2.18 seconds elapsed in epoch.Epoch: 43\t78.67% complete. 2.39 seconds elapsed in epoch.Epoch: 43\t93.33% complete. 2.61 seconds elapsed in epoch.\n",
      "Epoch: 43 \tTraining Loss: 0.3077 \tValidation Loss: 0.1854\n",
      "\t\tTraining Accuracy: 84.33%\t Validation Accuracy: 93.33%\n",
      "Epoch: 44\t100.00% complete. 2.71 seconds elapsed in epoch.\r\n",
      "Best epoch: 31 with loss: 0.16 and acc: 92.00%\n",
      "217.22 total seconds elapsed. 4.94 seconds per epoch.\n"
     ]
    }
   ],
   "source": [
    "model, history = train(\n",
    "    model,\n",
    "    criterion,\n",
    "    optimizer,\n",
    "    train_data_loader,\n",
    "    test_data_loader,\n",
    "    save_file_name='dog_id_model',\n",
    "    max_epochs_stop=20,\n",
    "    n_epochs=45,\n",
    "    print_every=2)"
   ],
   "metadata": {
    "collapsed": false,
    "pycharm": {
     "name": "#%%\n"
    }
   }
  },
  {
   "cell_type": "markdown",
   "source": [
    "# Part 5: Model evaluation\n",
    "##### Graph training versus validation loss using matplotlib.pyplot (or other). Was your model overfitting, underfitting, or neither?\t5 points\n",
    "It is neither - if it was overfit we would expect to see low training loss and high validation loss which is not the case. It could be underfit as the training loss is high but the validation loss is lower."
   ],
   "metadata": {
    "collapsed": false
   }
  },
  {
   "cell_type": "code",
   "execution_count": 43,
   "outputs": [
    {
     "data": {
      "text/plain": "Text(0.5, 1.0, 'Training and Validation Losses')"
     },
     "execution_count": 43,
     "metadata": {},
     "output_type": "execute_result"
    },
    {
     "data": {
      "text/plain": "<Figure size 576x432 with 1 Axes>",
      "image/png": "[encoded data removed]"
     },
     "metadata": {
      "needs_background": "light"
     },
     "output_type": "display_data"
    }
   ],
   "source": [
    "\n",
    "plt.figure(figsize=(8, 6))\n",
    "for c in ['train_loss', 'valid_loss']:\n",
    "    plt.plot(\n",
    "        history[c], label=c)\n",
    "plt.legend()\n",
    "plt.xlabel('Epoch')\n",
    "plt.ylabel('Average Negative Log Likelihood')\n",
    "plt.title('Training and Validation Losses')\n"
   ],
   "metadata": {
    "collapsed": false,
    "pycharm": {
     "name": "#%%\n"
    }
   }
  },
  {
   "cell_type": "markdown",
   "source": [
    "##### Make a list of reasons why your model may have under-performed.\t5 points\n",
    "- Suboptimal parameters:  without doing parameter optimization like the gridsearch we did with the decision trees, it is likely better parameters could have been chosen for the model.\n",
    "- Not enough images:  Ideally, we would have had much larger training, testing, and holdout datasets to ensure the results will generalize better.\n",
    "- More time to train could lead to better results.\n",
    "##### Make a list of ways you could improve your model performance (you don't have to implement these unless you wan to).\n",
    "- Sucessfully implementing batch normalization would improve the weights in the layers we were training.\n",
    "- Training a larger portion of the vgg-19 model's weights on the dog data may have improved performance."
   ],
   "metadata": {
    "collapsed": false
   }
  },
  {
   "cell_type": "markdown",
   "source": [
    "\n",
    "##### Graph training versus validation accuracy using matplotlib.pyplot (or other). Score your model on its predictions on the holdout. Discuss why you think your results will or will not generalize.\n",
    "Although the results ended up being better than I expected after the results from the last homework, I don't think the model has seen enough data in order to generalize across more dog breeds without retraining.  I think it would do reasonably well if it were to be asked to continue to it's current task with a broader dataset because there was a bit of variation in the sample."
   ],
   "metadata": {
    "collapsed": false
   }
  },
  {
   "cell_type": "code",
   "execution_count": 44,
   "outputs": [
    {
     "data": {
      "text/plain": "Text(0.5, 1.0, 'Training and Validation Accuracy')"
     },
     "execution_count": 44,
     "metadata": {},
     "output_type": "execute_result"
    },
    {
     "data": {
      "text/plain": "<Figure size 576x432 with 1 Axes>",
      "image/png": "[encoded data removed]"
     },
     "metadata": {
      "needs_background": "light"
     },
     "output_type": "display_data"
    }
   ],
   "source": [
    "plt.figure(figsize=(8, 6))\n",
    "for c in ['train_acc', 'valid_acc']:\n",
    "    plt.plot(\n",
    "        100 * history[c], label=c)\n",
    "plt.legend()\n",
    "plt.xlabel('Epoch')\n",
    "plt.ylabel('Average Accuracy')\n",
    "plt.title('Training and Validation Accuracy')\n"
   ],
   "metadata": {
    "collapsed": false,
    "pycharm": {
     "name": "#%%\n"
    }
   }
  },
  {
   "cell_type": "code",
   "execution_count": 32,
   "outputs": [
    {
     "name": "stdout",
     "output_type": "stream",
     "text": [
      "Holdout Accuracy: 91.3%\n"
     ]
    }
   ],
   "source": [
    "holdout_loss = 0.0\n",
    "holdout_acc = 0\n",
    "\n",
    "#test_loader.dataset.t\n",
    "\n",
    "with torch.no_grad():\n",
    "    # Set to evaluation mode\n",
    "    model.eval()\n",
    "\n",
    "    # Validation loop\n",
    "    for data, target in holdout_data_loader:\n",
    "        if train_on_gpu:\n",
    "            data, target = data.cuda(), target.cuda()\n",
    "\n",
    "        # Forward pass\n",
    "        output = model(data)\n",
    "\n",
    "        # Validation loss\n",
    "        loss = criterion(output, target)\n",
    "        # Multiply average loss times the number of examples in batch\n",
    "        holdout_loss += loss.item() * data.size(0)\n",
    "\n",
    "        # Calculate validation accuracy\n",
    "        _, pred = torch.max(output, dim=1)\n",
    "        correct_tensor = pred.eq(target.data.view_as(pred))\n",
    "        accuracy = torch.mean(correct_tensor.type(torch.FloatTensor))\n",
    "        # Multiply average accuracy times the number of examples\n",
    "        holdout_acc += accuracy.item() * data.size(0)\n",
    "\n",
    "    # Calculate average losses\n",
    "    holdout_loss = holdout_loss / len(holdout_data_loader.dataset)\n",
    "\n",
    "    # Calculate average accuracy\n",
    "    holdout_acc = holdout_acc / len(holdout_data_loader.dataset)\n",
    "    holdout_acc = round(holdout_acc*100, 2)\n",
    "\n",
    "print(f'Holdout Accuracy: {holdout_acc}%')\n"
   ],
   "metadata": {
    "collapsed": false,
    "pycharm": {
     "name": "#%%\n"
    }
   }
  },
  {
   "cell_type": "markdown",
   "source": [
    "# Extra Credit\n",
    "The 'Novel dataset for Fine-Grained Image Categorization' paper begins by explaining both the challenges and importance of fine-grained image categorization before explaining this Stanford Dog dataset and providing training and testing recommendations.  The training and testing recommendations were useful and provided a nice baseline for my own project 2 implementation.  The way they gathered the data via imagenet then Mechanical Turk for validation makes sense but made me wonder if a partnership with a company like Rover or Wag (that has millions of dog pictures that have been labeled with breed and age information by their owners) would be ideal for a larger-scale version of this project.  One of the benefits of this dataset is the large number of classes (in this case dog breeds).  If we had had more time here it would be interesting to try different models on larger combinations of dog breeds."
   ],
   "metadata": {
    "collapsed": false
   }
  }
 ],
 "metadata": {
  "kernelspec": {
   "display_name": "Python 3",
   "language": "python",
   "name": "python3"
  },
  "language_info": {
   "codemirror_mode": {
    "name": "ipython",
    "version": 2
   },
   "file_extension": ".py",
   "mimetype": "text/x-python",
   "name": "python",
   "nbconvert_exporter": "python",
   "pygments_lexer": "ipython2",
   "version": "2.7.6"
  }
 },
 "nbformat": 4,
 "nbformat_minor": 0
}