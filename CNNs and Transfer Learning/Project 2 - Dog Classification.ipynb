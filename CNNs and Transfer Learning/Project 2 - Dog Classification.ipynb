{
 "cells": [
  {
   "cell_type": "markdown",
   "metadata": {
    "collapsed": true,
    "pycharm": {
     "name": "#%% md\n"
    }
   },
   "source": [
    "Sam Odle <br>\n",
    "October 2, 2021  <br>\n",
    "Project 2  <br>"
   ]
  },
  {
   "cell_type": "code",
   "execution_count": 3,
   "outputs": [],
   "source": [
    "import pandas as pd\n",
    "pd.set_option(\"display.max_rows\", None)"
   ],
   "metadata": {
    "collapsed": false,
    "pycharm": {
     "name": "#%%\n"
    }
   }
  },
  {
   "cell_type": "markdown",
   "source": [
    "# Part 1 & 2: Dataset Download And Extraction\n",
    "\n",
    "##### Create train and holdout folders, where each folder has the three classes as subfolders. Discuss in a markdown cell how many images you chose to have in each class' holdout folder. (Note: you can move images into the folders by hand if you don't want to write a script, but make sure you don't have the same images in train and holdout). Make sure all the class names are the same across folders. Now repeat the process for train and validation, so that you have a train, validation, and holdout folders at the same directory level. Discuss how/why you chose what's in your holdout.\t5 points"
   ],
   "metadata": {
    "collapsed": false
   }
  },
  {
   "cell_type": "code",
   "execution_count": 29,
   "outputs": [
    {
     "name": "stdout",
     "output_type": "stream",
     "text": [
      "Directory Created: train/\n",
      "Directory Created: train/\n",
      "Directory Created: train/\n",
      "Directory Created: test/\n",
      "Directory Created: test/\n",
      "Directory Created: test/\n",
      "Directory Created: holdout/\n",
      "Directory Created: holdout/\n",
      "Directory Created: holdout/\n"
     ]
    }
   ],
   "source": [
    "import os, shutil\n",
    "import random\n",
    "\n",
    "directory = '/Users/samodle/Documents/Repos/SimpleMachineLearningProjects/CNNs and Transfer Learning/Images/'\n",
    "\n",
    "num_training_images_per_breed = 100\n",
    "num_test_images_per_breed = 25\n",
    "source_paths = ['n02109047-Great_Dane', 'n02094258-Norwich_terrier', 'n02094114-Norfolk_terrier']\n",
    "destination_paths = ['train/', 'test/', 'holdout/']\n",
    "\n",
    "dest_train = 0\n",
    "dest_test = 1\n",
    "dest_holdout = 2\n",
    "\n",
    "for path in destination_paths:\n",
    "    if not os.path.exists(directory + path):\n",
    "      # Create a new directory because it does not exist\n",
    "      os.makedirs(directory + path)\n",
    "      print(f'Directory Created: {path}')\n",
    "    else:\n",
    "        print(f'Already Exists: {path}')\n",
    "\n",
    "    if not os.path.exists(directory + path + 'great_dane/'):\n",
    "        os.makedirs(directory + path + 'great_dane/')\n",
    "        print(f'Directory Created: {path}')\n",
    "\n",
    "    if not os.path.exists(directory + path + 'norwich_terrier/'):\n",
    "        os.makedirs(directory + path + 'norwich_terrier/')\n",
    "\n",
    "    if not os.path.exists(directory + path + 'norfolk_terrier/'):\n",
    "        os.makedirs(directory + path + 'norfolk_terrier/')\n",
    "        print(f'Directory Created: {path}')\n",
    "\n"
   ],
   "metadata": {
    "collapsed": false,
    "pycharm": {
     "name": "#%%\n"
    }
   }
  },
  {
   "cell_type": "code",
   "execution_count": 30,
   "outputs": [
    {
     "name": "stdout",
     "output_type": "stream",
     "text": [
      "['n02109047_28208.jpg', 'n02109047_25342.jpg', 'n02109047_9503.jpg', 'n02109047_9604.jpg', 'n02109047_28433.jpg', 'n02109047_1876.jpg', 'n02109047_6265.jpg', 'n02109047_4267.jpg', 'n02109047_6680.jpg', 'n02109047_7072.jpg', 'n02109047_7156.jpg', 'n02109047_31274.jpg', 'n02109047_12678.jpg', 'n02109047_23852.jpg', 'n02109047_13868.jpg', 'n02109047_2851.jpg', 'n02109047_31117.jpg', 'n02109047_875.jpg', 'n02109047_23058.jpg', 'n02109047_2553.jpg', 'n02109047_33588.jpg', 'n02109047_1672.jpg', 'n02109047_5618.jpg', 'n02109047_17629.jpg', 'n02109047_2630.jpg']\n",
      "['n02109047_8090.jpg', 'n02109047_6447.jpg', 'n02109047_13016.jpg', 'n02109047_20023.jpg', 'n02109047_26860.jpg', 'n02109047_25603.jpg', 'n02109047_24340.jpg', 'n02109047_2859.jpg', 'n02109047_18490.jpg', 'n02109047_2527.jpg', 'n02109047_5936.jpg', 'n02109047_33029.jpg', 'n02109047_22481.jpg', 'n02109047_21567.jpg', 'n02109047_13072.jpg', 'n02109047_94.jpg', 'n02109047_3001.jpg', 'n02109047_5910.jpg', 'n02109047_13730.jpg', 'n02109047_24773.jpg', 'n02109047_25291.jpg', 'n02109047_2465.jpg', 'n02109047_1533.jpg', 'n02109047_3643.jpg', 'n02109047_7227.jpg', 'n02109047_31522.jpg', 'n02109047_34102.jpg', 'n02109047_1284.jpg', 'n02109047_9396.jpg', 'n02109047_1480.jpg', 'n02109047_17874.jpg']\n",
      "['n02094258_1897.jpg', 'n02094258_773.jpg', 'n02094258_2070.jpg', 'n02094258_2107.jpg', 'n02094258_1460.jpg', 'n02094258_61.jpg', 'n02094258_2159.jpg', 'n02094258_3020.jpg', 'n02094258_237.jpg', 'n02094258_95.jpg', 'n02094258_1775.jpg', 'n02094258_2767.jpg', 'n02094258_3329.jpg', 'n02094258_2908.jpg', 'n02094258_1291.jpg', 'n02094258_310.jpg', 'n02094258_1825.jpg', 'n02094258_81.jpg', 'n02094258_1408.jpg', 'n02094258_3392.jpg', 'n02094258_2475.jpg', 'n02094258_1278.jpg', 'n02094258_201.jpg', 'n02094258_52.jpg', 'n02094258_619.jpg']\n",
      "['n02094258_3339.jpg', 'n02094258_2583.jpg', 'n02094258_3138.jpg', 'n02094258_3298.jpg', 'n02094258_645.jpg', 'n02094258_1717.jpg', 'n02094258_257.jpg', 'n02094258_860.jpg', 'n02094258_322.jpg', 'n02094258_2816.jpg', 'n02094258_2751.jpg', 'n02094258_530.jpg', 'n02094258_726.jpg', 'n02094258_2911.jpg', 'n02094258_1404.jpg', 'n02094258_2694.jpg', 'n02094258_230.jpg', 'n02094258_3165.jpg', 'n02094258_1996.jpg', 'n02094258_2047.jpg', 'n02094258_50.jpg', 'n02094258_1823.jpg', 'n02094258_2668.jpg', 'n02094258_1407.jpg', 'n02094258_2708.jpg', 'n02094258_2730.jpg', 'n02094258_3758.jpg', 'n02094258_1614.jpg', 'n02094258_3598.jpg', 'n02094258_1760.jpg', 'n02094258_752.jpg', 'n02094258_355.jpg', 'n02094258_221.jpg', 'n02094258_792.jpg', 'n02094258_990.jpg', 'n02094258_3555.jpg', 'n02094258_166.jpg', 'n02094258_1579.jpg', 'n02094258_992.jpg', 'n02094258_1783.jpg', 'n02094258_2842.jpg', 'n02094258_1594.jpg', 'n02094258_3630.jpg', 'n02094258_3008.jpg', 'n02094258_1150.jpg', 'n02094258_1187.jpg', 'n02094258_2539.jpg', 'n02094258_1862.jpg', 'n02094258_1678.jpg', 'n02094258_2617.jpg', 'n02094258_847.jpg', 'n02094258_739.jpg', 'n02094258_3493.jpg', 'n02094258_1469.jpg', 'n02094258_1864.jpg', 'n02094258_103.jpg', 'n02094258_1091.jpg', 'n02094258_2956.jpg', 'n02094258_262.jpg', 'n02094258_1132.jpg']\n",
      "['n02094114_4501.jpg', 'n02094114_3409.jpg', 'n02094114_1498.jpg', 'n02094114_1826.jpg', 'n02094114_2631.jpg', 'n02094114_2245.jpg', 'n02094114_566.jpg', 'n02094114_1020.jpg', 'n02094114_1179.jpg', 'n02094114_1457.jpg', 'n02094114_1985.jpg', 'n02094114_1696.jpg', 'n02094114_363.jpg', 'n02094114_3199.jpg', 'n02094114_3545.jpg', 'n02094114_1448.jpg', 'n02094114_815.jpg', 'n02094114_140.jpg', 'n02094114_3435.jpg', 'n02094114_876.jpg', 'n02094114_2040.jpg', 'n02094114_4397.jpg', 'n02094114_3733.jpg', 'n02094114_99.jpg', 'n02094114_3864.jpg']\n",
      "['n02094114_1852.jpg', 'n02094114_3458.jpg', 'n02094114_2008.jpg', 'n02094114_2785.jpg', 'n02094114_3667.jpg', 'n02094114_2169.jpg', 'n02094114_3925.jpg', 'n02094114_1698.jpg', 'n02094114_1459.jpg', 'n02094114_1467.jpg', 'n02094114_4537.jpg', 'n02094114_4127.jpg', 'n02094114_981.jpg', 'n02094114_3404.jpg', 'n02094114_4394.jpg', 'n02094114_348.jpg', 'n02094114_1984.jpg', 'n02094114_4142.jpg', 'n02094114_2526.jpg', 'n02094114_1198.jpg', 'n02094114_3172.jpg', 'n02094114_2537.jpg', 'n02094114_2454.jpg', 'n02094114_2440.jpg', 'n02094114_2129.jpg', 'n02094114_1540.jpg', 'n02094114_3425.jpg', 'n02094114_1232.jpg', 'n02094114_3222.jpg', 'n02094114_1353.jpg', 'n02094114_1230.jpg', 'n02094114_838.jpg', 'n02094114_4165.jpg', 'n02094114_3187.jpg', 'n02094114_487.jpg', 'n02094114_3686.jpg', 'n02094114_1330.jpg', 'n02094114_4506.jpg', 'n02094114_297.jpg', 'n02094114_2955.jpg', 'n02094114_907.jpg', 'n02094114_4266.jpg', 'n02094114_1444.jpg', 'n02094114_2211.jpg', 'n02094114_496.jpg', 'n02094114_4305.jpg', 'n02094114_694.jpg']\n"
     ]
    }
   ],
   "source": [
    "# split up the training, holdout, and test datasets\n",
    "for path in source_paths:\n",
    "    all_files = os.listdir(directory + path)\n",
    "\n",
    "    #split out the training data\n",
    "    train = random.sample(all_files, num_training_images_per_breed)\n",
    "\n",
    "    if 'Great_Dane' in path:\n",
    "        for f in train:\n",
    "            shutil.copy(directory + path + '/' + f, directory + destination_paths[dest_train] + 'great_dane/')\n",
    "    elif 'Norwich' in path:\n",
    "         for f in train:\n",
    "            shutil.copy(directory + path + '/' + f, directory + destination_paths[dest_train] + 'norwich_terrier/')\n",
    "    elif 'Norfolk' in path:\n",
    "        for f in train:\n",
    "            shutil.copy(directory + path + '/' + f, directory + destination_paths[dest_train] + 'norfolk_terrier/')\n",
    "\n",
    "\n",
    "    test_and_hold = [x for x in all_files if x not in train]\n",
    "    # print(train)\n",
    "\n",
    "    #split the test from the holdout\n",
    "    test = random.sample(test_and_hold, num_test_images_per_breed)\n",
    "\n",
    "    if 'Great_Dane' in path:\n",
    "        for f in test:\n",
    "            shutil.copy(directory + path + '/' + f, directory + destination_paths[dest_test] + 'great_dane/')\n",
    "    elif 'Norwich' in path:\n",
    "         for f in test:\n",
    "            shutil.copy(directory + path + '/' + f, directory + destination_paths[dest_test] + 'norwich_terrier/')\n",
    "    elif 'Norfolk' in path:\n",
    "        for f in test:\n",
    "            shutil.copy(directory + path + '/' + f, directory + destination_paths[dest_test] + 'norfolk_terrier/')\n",
    "\n",
    "\n",
    "    holdout = [x for x in test_and_hold if x not in test]\n",
    "    if 'Great_Dane' in path:\n",
    "        for f in holdout:\n",
    "            shutil.copy(directory + path + '/' + f, directory + destination_paths[dest_holdout] + 'great_dane/')\n",
    "    elif 'Norwich' in path:\n",
    "         for f in holdout:\n",
    "            shutil.copy(directory + path + '/' + f, directory + destination_paths[dest_holdout] + 'norwich_terrier/')\n",
    "    elif 'Norfolk' in path:\n",
    "        for f in holdout:\n",
    "            shutil.copy(directory + path + '/' + f, directory + destination_paths[dest_holdout] + 'norfolk_terrier/')\n",
    "\n",
    "    print(test)\n",
    "    print(holdout)\n"
   ],
   "metadata": {
    "collapsed": false,
    "pycharm": {
     "name": "#%%\n"
    }
   }
  },
  {
   "cell_type": "markdown",
   "source": [
    "##### Define a list of image transformations to be used during training, passing them to transforms.Compose(). Discuss why you think these transformations might help."
   ],
   "metadata": {
    "collapsed": false
   }
  },
  {
   "cell_type": "code",
   "execution_count": null,
   "outputs": [],
   "source": [
    "import torch\n",
    "import torchvision\n",
    "import torchvision.transforms as transforms\n",
    "import numpy as np\n",
    "import matplotlib.pyplot as plt\n",
    "\n",
    "cnn_transform = transforms.Compose([\n",
    "    transforms.ToTensor(),\n",
    "    transforms.Normalize((0.5,0.5,0.5), (0.5,0.5,0.5))\n",
    "])"
   ],
   "metadata": {
    "collapsed": false,
    "pycharm": {
     "name": "#%%\n"
    }
   }
  },
  {
   "cell_type": "markdown",
   "source": [
    "##### Repeat the step above for test and validation transformations."
   ],
   "metadata": {
    "collapsed": false
   }
  },
  {
   "cell_type": "code",
   "execution_count": null,
   "outputs": [],
   "source": [],
   "metadata": {
    "collapsed": false,
    "pycharm": {
     "name": "#%%\n"
    }
   }
  },
  {
   "cell_type": "markdown",
   "source": [
    "##### Correctly set up DataLoaders for the three folders (train, validation, holdout). Discuss what options you chose for these loaders, and why (including batch size, shuffling, and dropping last)."
   ],
   "metadata": {
    "collapsed": false
   }
  },
  {
   "cell_type": "code",
   "execution_count": 3,
   "outputs": [],
   "source": [
    "trainloader = torch.utils.data.DataLoader(train, batch_size=4,\n",
    "                                          shuffle=True, num_workers=2)\n",
    "testloader = torch.utils.data.DataLoader(train, batch_size=4,\n",
    "                                          shuffle=False, num_workers=2)"
   ],
   "metadata": {
    "collapsed": false,
    "pycharm": {
     "name": "#%%\n"
    }
   }
  },
  {
   "cell_type": "markdown",
   "source": [
    "# Part 3: Data model setup\n",
    "##### Instantiate any pre-trained ImageNet model. Discuss why you chose it amongst the others.\n",
    "##### Write code to freeze/unfreeze the pretrained model layers.\n",
    "##### Replace the head of the model with sequential layer(s) to predict our three classes.\n",
    "##### What activation function did you use in the step above? Why?\n",
    "##### Did you use dropout in the step above? Why or why not?\n",
    "##### Did you use batch normalization in the step above? Why or why not?\n",
    "##### Choose and instantiate an optimizer. Discuss your choice.\n",
    "##### Choose and instantiate a loss function. Discuss your choice.\n",
    "##### Write code that places the model on the GPU, if it exists, otherwise using the CPU.\n",
    "\n",
    "\n",
    "# Part 4: Training your model\n",
    "##### Correctly set up your model to train over 20 epochs.\n",
    "##### Correctly set up your model to use your batches for training.\n",
    "##### Correctly make predictions with your model (the predictions can be wrong).\n",
    "##### Correctly call your loss function and back-propagate its results.\n",
    "##### Use the optimizer correctly to update weights/gradients.\n",
    "##### Correctly record training losses for each epoch.\n",
    "##### Correctly set up validation at each epoch.\n",
    "##### Correctly record validation losses for each epoch.\n",
    "##### Correctly record training and validation accuracies for each epoch\n",
    "##### Write code that places the model on the GPU, if it exists, otherwise using the CPU.\n",
    "\n",
    "\n",
    "# Part 5: Model evaluation\n",
    "##### Graph training versus validation loss using matplotlib.pyplot (or other). Was your model overfitting, underfitting, or neither?\t5 points\n",
    "##### Make a list of reasons why your model may have under-performed.\t5 points\n",
    "##### Make a list of ways you could improve your model performance (you don't have to implement these unless you wan to).\n",
    "##### Graph training versus validation accuracy using matplotlib.pyplot (or other). Score your model on its predictions on the holdout. Discuss why you think your results will or will not generalize.\n",
    "\n",
    "# Extra Credit"
   ],
   "metadata": {
    "collapsed": false,
    "pycharm": {
     "name": "#%% md\n"
    }
   }
  }
 ],
 "metadata": {
  "kernelspec": {
   "display_name": "Python 3",
   "language": "python",
   "name": "python3"
  },
  "language_info": {
   "codemirror_mode": {
    "name": "ipython",
    "version": 2
   },
   "file_extension": ".py",
   "mimetype": "text/x-python",
   "name": "python",
   "nbconvert_exporter": "python",
   "pygments_lexer": "ipython2",
   "version": "2.7.6"
  }
 },
 "nbformat": 4,
 "nbformat_minor": 0
}