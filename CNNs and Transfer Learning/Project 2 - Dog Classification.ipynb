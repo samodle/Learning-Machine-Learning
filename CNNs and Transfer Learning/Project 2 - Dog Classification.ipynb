{
 "cells": [
  {
   "cell_type": "markdown",
   "metadata": {
    "collapsed": true,
    "pycharm": {
     "name": "#%% md\n"
    }
   },
   "source": [
    "Sam Odle <br>\n",
    "October 2, 2021  <br>\n",
    "Project 2  <br>"
   ]
  },
  {
   "cell_type": "code",
   "execution_count": 3,
   "outputs": [],
   "source": [
    "import pandas as pd\n",
    "pd.set_option(\"display.max_rows\", None)"
   ],
   "metadata": {
    "collapsed": false,
    "pycharm": {
     "name": "#%%\n"
    }
   }
  },
  {
   "cell_type": "markdown",
   "source": [
    "# Part 1 & 2: Dataset Download And Extraction\n",
    "\n",
    "##### Create train and holdout folders, where each folder has the three classes as subfolders. Discuss in a markdown cell how many images you chose to have in each class' holdout folder. (Note: you can move images into the folders by hand if you don't want to write a script, but make sure you don't have the same images in train and holdout). Make sure all the class names are the same across folders. Now repeat the process for train and validation, so that you have a train, validation, and holdout folders at the same directory level. Discuss how/why you chose what's in your holdout.\t5 points"
   ],
   "metadata": {
    "collapsed": false
   }
  },
  {
   "cell_type": "code",
   "execution_count": 12,
   "outputs": [
    {
     "name": "stdout",
     "output_type": "stream",
     "text": [
      "Already Exists: /Users/samodle/Documents/Repos/SimpleMachineLearningProjects/CNNs and Transfer Learning/Images/train/\n",
      "Already Exists: /Users/samodle/Documents/Repos/SimpleMachineLearningProjects/CNNs and Transfer Learning/Images/test/\n",
      "Already Exists: /Users/samodle/Documents/Repos/SimpleMachineLearningProjects/CNNs and Transfer Learning/Images/holdout/\n",
      "['n02109047_12899.jpg', 'n02109047_33588.jpg', 'n02109047_12966.jpg', 'n02109047_33651.jpg', 'n02109047_10160.jpg', 'n02109047_24340.jpg', 'n02109047_17629.jpg', 'n02109047_18614.jpg', 'n02109047_888.jpg', 'n02109047_32010.jpg', 'n02109047_26860.jpg', 'n02109047_12085.jpg', 'n02109047_22955.jpg', 'n02109047_30923.jpg', 'n02109047_31830.jpg', 'n02109047_23483.jpg', 'n02109047_33047.jpg', 'n02109047_2553.jpg', 'n02109047_22481.jpg', 'n02109047_31274.jpg', 'n02109047_12193.jpg', 'n02109047_11184.jpg', 'n02109047_34102.jpg', 'n02109047_31117.jpg', 'n02109047_9604.jpg', 'n02109047_13868.jpg', 'n02109047_6042.jpg', 'n02109047_6447.jpg', 'n02109047_23814.jpg', 'n02109047_19775.jpg', 'n02109047_27409.jpg', 'n02109047_25603.jpg', 'n02109047_12916.jpg', 'n02109047_23852.jpg', 'n02109047_4884.jpg', 'n02109047_27131.jpg', 'n02109047_13072.jpg', 'n02109047_6008.jpg', 'n02109047_28208.jpg', 'n02109047_33029.jpg', 'n02109047_2810.jpg', 'n02109047_13977.jpg', 'n02109047_24773.jpg', 'n02109047_34175.jpg', 'n02109047_31522.jpg', 'n02109047_2248.jpg', 'n02109047_1533.jpg', 'n02109047_1876.jpg', 'n02109047_12678.jpg', 'n02109047_2630.jpg', 'n02109047_34022.jpg', 'n02109047_5331.jpg', 'n02109047_744.jpg', 'n02109047_5588.jpg', 'n02109047_11178.jpg', 'n02109047_6061.jpg', 'n02109047_21567.jpg', 'n02109047_8090.jpg', 'n02109047_875.jpg', 'n02109047_7227.jpg', 'n02109047_9396.jpg', 'n02109047_24710.jpg', 'n02109047_5181.jpg', 'n02109047_5618.jpg', 'n02109047_34209.jpg', 'n02109047_2859.jpg', 'n02109047_10414.jpg', 'n02109047_13040.jpg', 'n02109047_2358.jpg', 'n02109047_2072.jpg', 'n02109047_5005.jpg', 'n02109047_1449.jpg', 'n02109047_7156.jpg', 'n02109047_5573.jpg', 'n02109047_481.jpg', 'n02109047_926.jpg', 'n02109047_13730.jpg', 'n02109047_638.jpg', 'n02109047_13211.jpg', 'n02109047_562.jpg', 'n02109047_25342.jpg', 'n02109047_22006.jpg', 'n02109047_31376.jpg', 'n02109047_14013.jpg', 'n02109047_1260.jpg', 'n02109047_22193.jpg', 'n02109047_18490.jpg', 'n02109047_25291.jpg', 'n02109047_6093.jpg', 'n02109047_1371.jpg', 'n02109047_28433.jpg', 'n02109047_2851.jpg', 'n02109047_8912.jpg', 'n02109047_16735.jpg', 'n02109047_906.jpg', 'n02109047_6680.jpg', 'n02109047_2009.jpg', 'n02109047_27476.jpg', 'n02109047_17050.jpg', 'n02109047_20023.jpg']\n",
      "['n02109047_2475.jpg', 'n02109047_1005.jpg', 'n02109047_12726.jpg', 'n02109047_5910.jpg', 'n02109047_32692.jpg', 'n02109047_34148.jpg', 'n02109047_19984.jpg', 'n02109047_2527.jpg', 'n02109047_1672.jpg', 'n02109047_13744.jpg', 'n02109047_32635.jpg', 'n02109047_946.jpg', 'n02109047_94.jpg', 'n02109047_34162.jpg', 'n02109047_7072.jpg', 'n02109047_941.jpg', 'n02109047_11472.jpg', 'n02109047_5675.jpg', 'n02109047_4267.jpg', 'n02109047_5894.jpg', 'n02109047_3643.jpg', 'n02109047_25277.jpg', 'n02109047_12467.jpg', 'n02109047_5822.jpg', 'n02109047_21692.jpg']\n",
      "['n02109047_34093.jpg', 'n02109047_1659.jpg', 'n02109047_31049.jpg', 'n02109047_9164.jpg', 'n02109047_13016.jpg', 'n02109047_282.jpg', 'n02109047_26134.jpg', 'n02109047_23058.jpg', 'n02109047_21589.jpg', 'n02109047_9503.jpg', 'n02109047_12569.jpg', 'n02109047_5936.jpg', 'n02109047_3001.jpg', 'n02109047_25719.jpg', 'n02109047_5326.jpg', 'n02109047_1813.jpg', 'n02109047_2465.jpg', 'n02109047_6276.jpg', 'n02109047_25779.jpg', 'n02109047_8139.jpg', 'n02109047_26729.jpg', 'n02109047_10112.jpg', 'n02109047_22413.jpg', 'n02109047_20770.jpg', 'n02109047_24258.jpg', 'n02109047_21903.jpg', 'n02109047_1284.jpg', 'n02109047_20229.jpg', 'n02109047_1480.jpg', 'n02109047_17874.jpg', 'n02109047_6265.jpg']\n",
      "['n02094258_2956.jpg', 'n02094258_2668.jpg', 'n02094258_2047.jpg', 'n02094258_2583.jpg', 'n02094258_3488.jpg', 'n02094258_1897.jpg', 'n02094258_1510.jpg', 'n02094258_103.jpg', 'n02094258_1408.jpg', 'n02094258_977.jpg', 'n02094258_792.jpg', 'n02094258_2732.jpg', 'n02094258_3036.jpg', 'n02094258_279.jpg', 'n02094258_2801.jpg', 'n02094258_2380.jpg', 'n02094258_1469.jpg', 'n02094258_2070.jpg', 'n02094258_1130.jpg', 'n02094258_1345.jpg', 'n02094258_3167.jpg', 'n02094258_2159.jpg', 'n02094258_2513.jpg', 'n02094258_1281.jpg', 'n02094258_1106.jpg', 'n02094258_2908.jpg', 'n02094258_2767.jpg', 'n02094258_1156.jpg', 'n02094258_219.jpg', 'n02094258_3197.jpg', 'n02094258_125.jpg', 'n02094258_3758.jpg', 'n02094258_3376.jpg', 'n02094258_3598.jpg', 'n02094258_230.jpg', 'n02094258_3298.jpg', 'n02094258_2475.jpg', 'n02094258_1805.jpg', 'n02094258_1278.jpg', 'n02094258_3329.jpg', 'n02094258_1368.jpg', 'n02094258_1641.jpg', 'n02094258_2672.jpg', 'n02094258_3339.jpg', 'n02094258_2525.jpg', 'n02094258_61.jpg', 'n02094258_3685.jpg', 'n02094258_3467.jpg', 'n02094258_1778.jpg', 'n02094258_739.jpg', 'n02094258_1004.jpg', 'n02094258_928.jpg', 'n02094258_2842.jpg', 'n02094258_1783.jpg', 'n02094258_307.jpg', 'n02094258_990.jpg', 'n02094258_2911.jpg', 'n02094258_871.jpg', 'n02094258_355.jpg', 'n02094258_1036.jpg', 'n02094258_936.jpg', 'n02094258_1219.jpg', 'n02094258_2559.jpg', 'n02094258_2751.jpg', 'n02094258_2708.jpg', 'n02094258_2841.jpg', 'n02094258_1003.jpg', 'n02094258_1760.jpg', 'n02094258_1291.jpg', 'n02094258_1996.jpg', 'n02094258_1770.jpg', 'n02094258_969.jpg', 'n02094258_2730.jpg', 'n02094258_3464.jpg', 'n02094258_95.jpg', 'n02094258_807.jpg', 'n02094258_2277.jpg', 'n02094258_1703.jpg', 'n02094258_3425.jpg', 'n02094258_1386.jpg', 'n02094258_2711.jpg', 'n02094258_3435.jpg', 'n02094258_3253.jpg', 'n02094258_2694.jpg', 'n02094258_3493.jpg', 'n02094258_3438.jpg', 'n02094258_3165.jpg', 'n02094258_2667.jpg', 'n02094258_1985.jpg', 'n02094258_50.jpg', 'n02094258_866.jpg', 'n02094258_2107.jpg', 'n02094258_897.jpg', 'n02094258_188.jpg', 'n02094258_262.jpg', 'n02094258_1665.jpg', 'n02094258_2633.jpg', 'n02094258_2116.jpg', 'n02094258_2312.jpg', 'n02094258_1132.jpg']\n",
      "['n02094258_3555.jpg', 'n02094258_2506.jpg', 'n02094258_645.jpg', 'n02094258_2032.jpg', 'n02094258_257.jpg', 'n02094258_404.jpg', 'n02094258_1704.jpg', 'n02094258_773.jpg', 'n02094258_251.jpg', 'n02094258_237.jpg', 'n02094258_81.jpg', 'n02094258_1150.jpg', 'n02094258_1775.jpg', 'n02094258_1065.jpg', 'n02094258_3392.jpg', 'n02094258_1407.jpg', 'n02094258_905.jpg', 'n02094258_554.jpg', 'n02094258_221.jpg', 'n02094258_3610.jpg', 'n02094258_2981.jpg', 'n02094258_312.jpg', 'n02094258_1823.jpg', 'n02094258_1717.jpg', 'n02094258_1460.jpg']\n",
      "['n02094258_130.jpg', 'n02094258_1664.jpg', 'n02094258_2191.jpg', 'n02094258_247.jpg', 'n02094258_3138.jpg', 'n02094258_1840.jpg', 'n02094258_2409.jpg', 'n02094258_1918.jpg', 'n02094258_860.jpg', 'n02094258_848.jpg', 'n02094258_322.jpg', 'n02094258_2816.jpg', 'n02094258_3315.jpg', 'n02094258_530.jpg', 'n02094258_726.jpg', 'n02094258_90.jpg', 'n02094258_146.jpg', 'n02094258_1404.jpg', 'n02094258_2870.jpg', 'n02094258_52.jpg', 'n02094258_69.jpg', 'n02094258_1614.jpg', 'n02094258_1947.jpg', 'n02094258_752.jpg', 'n02094258_778.jpg', 'n02094258_1825.jpg', 'n02094258_619.jpg', 'n02094258_72.jpg', 'n02094258_166.jpg', 'n02094258_2058.jpg', 'n02094258_1579.jpg', 'n02094258_73.jpg', 'n02094258_2463.jpg', 'n02094258_1340.jpg', 'n02094258_366.jpg', 'n02094258_1220.jpg', 'n02094258_3153.jpg', 'n02094258_992.jpg', 'n02094258_439.jpg', 'n02094258_1594.jpg', 'n02094258_3630.jpg', 'n02094258_201.jpg', 'n02094258_1192.jpg', 'n02094258_3020.jpg', 'n02094258_3008.jpg', 'n02094258_1187.jpg', 'n02094258_2539.jpg', 'n02094258_3287.jpg', 'n02094258_1862.jpg', 'n02094258_2359.jpg', 'n02094258_1678.jpg', 'n02094258_310.jpg', 'n02094258_2617.jpg', 'n02094258_112.jpg', 'n02094258_648.jpg', 'n02094258_1691.jpg', 'n02094258_847.jpg', 'n02094258_1864.jpg', 'n02094258_880.jpg', 'n02094258_1091.jpg']\n",
      "['n02094114_754.jpg', 'n02094114_1743.jpg', 'n02094114_3864.jpg', 'n02094114_1812.jpg', 'n02094114_1505.jpg', 'n02094114_61.jpg', 'n02094114_3935.jpg', 'n02094114_2245.jpg', 'n02094114_3686.jpg', 'n02094114_1232.jpg', 'n02094114_3404.jpg', 'n02094114_1467.jpg', 'n02094114_4238.jpg', 'n02094114_4506.jpg', 'n02094114_2158.jpg', 'n02094114_1913.jpg', 'n02094114_1416.jpg', 'n02094114_2537.jpg', 'n02094114_3458.jpg', 'n02094114_2779.jpg', 'n02094114_1444.jpg', 'n02094114_1353.jpg', 'n02094114_566.jpg', 'n02094114_2955.jpg', 'n02094114_1498.jpg', 'n02094114_3060.jpg', 'n02094114_3187.jpg', 'n02094114_3222.jpg', 'n02094114_99.jpg', 'n02094114_1734.jpg', 'n02094114_487.jpg', 'n02094114_1173.jpg', 'n02094114_3970.jpg', 'n02094114_4394.jpg', 'n02094114_745.jpg', 'n02094114_1540.jpg', 'n02094114_315.jpg', 'n02094114_981.jpg', 'n02094114_1832.jpg', 'n02094114_2084.jpg', 'n02094114_2206.jpg', 'n02094114_4611.jpg', 'n02094114_2008.jpg', 'n02094114_4305.jpg', 'n02094114_2706.jpg', 'n02094114_1601.jpg', 'n02094114_2625.jpg', 'n02094114_3409.jpg', 'n02094114_2394.jpg', 'n02094114_4165.jpg', 'n02094114_3737.jpg', 'n02094114_1595.jpg', 'n02094114_1676.jpg', 'n02094114_3130.jpg', 'n02094114_1136.jpg', 'n02094114_1641.jpg', 'n02094114_113.jpg', 'n02094114_1457.jpg', 'n02094114_986.jpg', 'n02094114_3177.jpg', 'n02094114_2454.jpg', 'n02094114_1826.jpg', 'n02094114_4537.jpg', 'n02094114_347.jpg', 'n02094114_3920.jpg', 'n02094114_680.jpg', 'n02094114_382.jpg', 'n02094114_2129.jpg', 'n02094114_1076.jpg', 'n02094114_4142.jpg', 'n02094114_3253.jpg', 'n02094114_1267.jpg', 'n02094114_3733.jpg', 'n02094114_4519.jpg', 'n02094114_1790.jpg', 'n02094114_2169.jpg', 'n02094114_4361.jpg', 'n02094114_3378.jpg', 'n02094114_2165.jpg', 'n02094114_3890.jpg', 'n02094114_2785.jpg', 'n02094114_4445.jpg', 'n02094114_2440.jpg', 'n02094114_3199.jpg', 'n02094114_1448.jpg', 'n02094114_4518.jpg', 'n02094114_445.jpg', 'n02094114_895.jpg', 'n02094114_815.jpg', 'n02094114_3435.jpg', 'n02094114_513.jpg', 'n02094114_4266.jpg', 'n02094114_4127.jpg', 'n02094114_694.jpg', 'n02094114_1985.jpg', 'n02094114_3826.jpg', 'n02094114_1745.jpg', 'n02094114_4501.jpg', 'n02094114_1230.jpg', 'n02094114_1698.jpg']\n",
      "['n02094114_563.jpg', 'n02094114_1984.jpg', 'n02094114_1497.jpg', 'n02094114_2414.jpg', 'n02094114_3925.jpg', 'n02094114_876.jpg', 'n02094114_2526.jpg', 'n02094114_3036.jpg', 'n02094114_1907.jpg', 'n02094114_346.jpg', 'n02094114_363.jpg', 'n02094114_2823.jpg', 'n02094114_3248.jpg', 'n02094114_1696.jpg', 'n02094114_2449.jpg', 'n02094114_1860.jpg', 'n02094114_3477.jpg', 'n02094114_297.jpg', 'n02094114_1519.jpg', 'n02094114_1637.jpg', 'n02094114_4294.jpg', 'n02094114_3172.jpg', 'n02094114_947.jpg', 'n02094114_3667.jpg', 'n02094114_1665.jpg']\n",
      "['n02094114_2631.jpg', 'n02094114_1847.jpg', 'n02094114_699.jpg', 'n02094114_1852.jpg', 'n02094114_3288.jpg', 'n02094114_1464.jpg', 'n02094114_4332.jpg', 'n02094114_1459.jpg', 'n02094114_515.jpg', 'n02094114_2691.jpg', 'n02094114_1944.jpg', 'n02094114_2040.jpg', 'n02094114_348.jpg', 'n02094114_1986.jpg', 'n02094114_4397.jpg', 'n02094114_161.jpg', 'n02094114_1198.jpg', 'n02094114_1610.jpg', 'n02094114_2125.jpg', 'n02094114_2911.jpg', 'n02094114_3545.jpg', 'n02094114_787.jpg', 'n02094114_3425.jpg', 'n02094114_1179.jpg', 'n02094114_1972.jpg', 'n02094114_2923.jpg', 'n02094114_2739.jpg', 'n02094114_140.jpg', 'n02094114_550.jpg', 'n02094114_409.jpg', 'n02094114_838.jpg', 'n02094114_192.jpg', 'n02094114_1020.jpg', 'n02094114_4158.jpg', 'n02094114_2573.jpg', 'n02094114_1330.jpg', 'n02094114_281.jpg', 'n02094114_3928.jpg', 'n02094114_2819.jpg', 'n02094114_2428.jpg', 'n02094114_907.jpg', 'n02094114_252.jpg', 'n02094114_2211.jpg', 'n02094114_496.jpg', 'n02094114_482.jpg', 'n02094114_2990.jpg', 'n02094114_1490.jpg']\n"
     ]
    }
   ],
   "source": [
    "import os\n",
    "import random\n",
    "\n",
    "num_training_images_per_breed = 100\n",
    "num_test_images_per_breed = 25\n",
    "source_paths = ['/Users/samodle/Documents/Repos/SimpleMachineLearningProjects/CNNs and Transfer Learning/Images/n02109047-Great_Dane', '/Users/samodle/Documents/Repos/SimpleMachineLearningProjects/CNNs and Transfer Learning/Images/n02094258-Norwich_terrier', '/Users/samodle/Documents/Repos/SimpleMachineLearningProjects/CNNs and Transfer Learning/Images/n02094114-Norfolk_terrier']\n",
    "destination_paths = ['/Users/samodle/Documents/Repos/SimpleMachineLearningProjects/CNNs and Transfer Learning/Images/train/', '/Users/samodle/Documents/Repos/SimpleMachineLearningProjects/CNNs and Transfer Learning/Images/test/', '/Users/samodle/Documents/Repos/SimpleMachineLearningProjects/CNNs and Transfer Learning/Images/holdout/']\n",
    "\n",
    "for path in destination_paths:\n",
    "    if not os.path.exists(path):\n",
    "\n",
    "      # Create a new directory because it does not exist\n",
    "      os.makedirs(path)\n",
    "      print(f'Directory Creted: {path}')\n",
    "    else:\n",
    "        print(f'Already Exists: {path}')\n",
    "\n",
    "# split up the training, holdout, and test datasets\n",
    "for path in source_paths:\n",
    "    all_files = os.listdir(path)\n",
    "\n",
    "    #split out the training data\n",
    "    train = random.sample(all_files, num_training_images_per_breed)\n",
    "    test_and_hold = [x for x in all_files if x not in train]\n",
    "    print(train)\n",
    "\n",
    "    #split the test from the holdout\n",
    "    test = random.sample(test_and_hold, num_test_images_per_breed)\n",
    "    holdout = [x for x in test_and_hold if x not in test]\n",
    "    print(test)\n",
    "    print(holdout)\n"
   ],
   "metadata": {
    "collapsed": false,
    "pycharm": {
     "name": "#%%\n"
    }
   }
  },
  {
   "cell_type": "markdown",
   "source": [
    "##### Define a list of image transformations to be used during training, passing them to transforms.Compose(). Discuss why you think these transformations might help.\n",
    "##### Repeat the step above for test and validation transformations.\n",
    "##### Correctly set up DataLoaders for the three folders (train, validation, holdout). Discuss what options you chose for these loaders, and why (including batch size, shuffling, and dropping last)."
   ],
   "metadata": {
    "collapsed": false
   }
  },
  {
   "cell_type": "code",
   "execution_count": 3,
   "outputs": [],
   "source": [],
   "metadata": {
    "collapsed": false,
    "pycharm": {
     "name": "#%%"
    }
   }
  }
 ],
 "metadata": {
  "kernelspec": {
   "display_name": "Python 3",
   "language": "python",
   "name": "python3"
  },
  "language_info": {
   "codemirror_mode": {
    "name": "ipython",
    "version": 2
   },
   "file_extension": ".py",
   "mimetype": "text/x-python",
   "name": "python",
   "nbconvert_exporter": "python",
   "pygments_lexer": "ipython2",
   "version": "2.7.6"
  }
 },
 "nbformat": 4,
 "nbformat_minor": 0
}